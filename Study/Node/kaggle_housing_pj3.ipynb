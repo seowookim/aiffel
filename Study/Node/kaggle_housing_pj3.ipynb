{
 "cells": [
  {
   "cell_type": "markdown",
   "id": "80182ae6",
   "metadata": {},
   "source": [
    "# House Price Prediction\n",
    "- 출처 : https://www.kaggle.com/competitions/2019-2nd-ml-month-with-kakr\n",
    "\n",
    "- 집의 정보를 이용하여 가격을 예측하는 방식 (Regression 문제)\n",
    "- RMSE를 이용하여 모델의 정확도를 평가함"
   ]
  },
  {
   "cell_type": "code",
   "id": "d78ec8d1",
   "metadata": {
    "ExecuteTime": {
     "end_time": "2024-05-29T15:44:56.352921Z",
     "start_time": "2024-05-29T15:44:56.115229Z"
    }
   },
   "source": [
    "import warnings\n",
    "warnings.filterwarnings(\"ignore\")\n",
    "\n",
    "import os\n",
    "from os.path import join\n",
    "\n",
    "import pandas as pd\n",
    "import numpy as np\n",
    "\n",
    "# import missingno as msno\n",
    "\n",
    "from sklearn.ensemble import GradientBoostingRegressor\n",
    "from sklearn.model_selection import KFold, cross_val_score\n",
    "import xgboost as xgb\n",
    "import lightgbm as lgb \n",
    "\n",
    "import matplotlib.pyplot as plt\n",
    "import seaborn as sns"
   ],
   "outputs": [],
   "execution_count": 1
  },
  {
   "cell_type": "markdown",
   "id": "6731f77c",
   "metadata": {},
   "source": [
    "# 데이터 불러오기"
   ]
  },
  {
   "cell_type": "code",
   "id": "ad7f78e9",
   "metadata": {
    "ExecuteTime": {
     "end_time": "2024-05-29T15:44:56.383056Z",
     "start_time": "2024-05-29T15:44:56.353547Z"
    }
   },
   "source": [
    "data_dir = 'data/housing'\n",
    "\n",
    "train_data_path = join(data_dir, 'train.csv')\n",
    "test_data_path = join(data_dir, 'test.csv') \n",
    "\n",
    "train = pd.read_csv(train_data_path)\n",
    "test = pd.read_csv(test_data_path)"
   ],
   "outputs": [],
   "execution_count": 2
  },
  {
   "cell_type": "code",
   "id": "697483e7",
   "metadata": {
    "scrolled": true,
    "ExecuteTime": {
     "end_time": "2024-05-29T15:44:56.393537Z",
     "start_time": "2024-05-29T15:44:56.383815Z"
    }
   },
   "source": [
    "print(train.shape, test.shape)\n",
    "train.head()"
   ],
   "outputs": [
    {
     "name": "stdout",
     "output_type": "stream",
     "text": [
      "(15035, 21) (6468, 20)\n"
     ]
    },
    {
     "data": {
      "text/plain": [
       "   id             date     price  bedrooms  bathrooms  sqft_living  sqft_lot  \\\n",
       "0   0  20141013T000000  221900.0         3       1.00         1180      5650   \n",
       "1   1  20150225T000000  180000.0         2       1.00          770     10000   \n",
       "2   2  20150218T000000  510000.0         3       2.00         1680      8080   \n",
       "3   3  20140627T000000  257500.0         3       2.25         1715      6819   \n",
       "4   4  20150115T000000  291850.0         3       1.50         1060      9711   \n",
       "\n",
       "   floors  waterfront  view  ...  grade  sqft_above  sqft_basement  yr_built  \\\n",
       "0     1.0           0     0  ...      7        1180              0      1955   \n",
       "1     1.0           0     0  ...      6         770              0      1933   \n",
       "2     1.0           0     0  ...      8        1680              0      1987   \n",
       "3     2.0           0     0  ...      7        1715              0      1995   \n",
       "4     1.0           0     0  ...      7        1060              0      1963   \n",
       "\n",
       "   yr_renovated  zipcode      lat     long  sqft_living15  sqft_lot15  \n",
       "0             0    98178  47.5112 -122.257           1340        5650  \n",
       "1             0    98028  47.7379 -122.233           2720        8062  \n",
       "2             0    98074  47.6168 -122.045           1800        7503  \n",
       "3             0    98003  47.3097 -122.327           2238        6819  \n",
       "4             0    98198  47.4095 -122.315           1650        9711  \n",
       "\n",
       "[5 rows x 21 columns]"
      ],
      "text/html": [
       "<div>\n",
       "<style scoped>\n",
       "    .dataframe tbody tr th:only-of-type {\n",
       "        vertical-align: middle;\n",
       "    }\n",
       "\n",
       "    .dataframe tbody tr th {\n",
       "        vertical-align: top;\n",
       "    }\n",
       "\n",
       "    .dataframe thead th {\n",
       "        text-align: right;\n",
       "    }\n",
       "</style>\n",
       "<table border=\"1\" class=\"dataframe\">\n",
       "  <thead>\n",
       "    <tr style=\"text-align: right;\">\n",
       "      <th></th>\n",
       "      <th>id</th>\n",
       "      <th>date</th>\n",
       "      <th>price</th>\n",
       "      <th>bedrooms</th>\n",
       "      <th>bathrooms</th>\n",
       "      <th>sqft_living</th>\n",
       "      <th>sqft_lot</th>\n",
       "      <th>floors</th>\n",
       "      <th>waterfront</th>\n",
       "      <th>view</th>\n",
       "      <th>...</th>\n",
       "      <th>grade</th>\n",
       "      <th>sqft_above</th>\n",
       "      <th>sqft_basement</th>\n",
       "      <th>yr_built</th>\n",
       "      <th>yr_renovated</th>\n",
       "      <th>zipcode</th>\n",
       "      <th>lat</th>\n",
       "      <th>long</th>\n",
       "      <th>sqft_living15</th>\n",
       "      <th>sqft_lot15</th>\n",
       "    </tr>\n",
       "  </thead>\n",
       "  <tbody>\n",
       "    <tr>\n",
       "      <th>0</th>\n",
       "      <td>0</td>\n",
       "      <td>20141013T000000</td>\n",
       "      <td>221900.0</td>\n",
       "      <td>3</td>\n",
       "      <td>1.00</td>\n",
       "      <td>1180</td>\n",
       "      <td>5650</td>\n",
       "      <td>1.0</td>\n",
       "      <td>0</td>\n",
       "      <td>0</td>\n",
       "      <td>...</td>\n",
       "      <td>7</td>\n",
       "      <td>1180</td>\n",
       "      <td>0</td>\n",
       "      <td>1955</td>\n",
       "      <td>0</td>\n",
       "      <td>98178</td>\n",
       "      <td>47.5112</td>\n",
       "      <td>-122.257</td>\n",
       "      <td>1340</td>\n",
       "      <td>5650</td>\n",
       "    </tr>\n",
       "    <tr>\n",
       "      <th>1</th>\n",
       "      <td>1</td>\n",
       "      <td>20150225T000000</td>\n",
       "      <td>180000.0</td>\n",
       "      <td>2</td>\n",
       "      <td>1.00</td>\n",
       "      <td>770</td>\n",
       "      <td>10000</td>\n",
       "      <td>1.0</td>\n",
       "      <td>0</td>\n",
       "      <td>0</td>\n",
       "      <td>...</td>\n",
       "      <td>6</td>\n",
       "      <td>770</td>\n",
       "      <td>0</td>\n",
       "      <td>1933</td>\n",
       "      <td>0</td>\n",
       "      <td>98028</td>\n",
       "      <td>47.7379</td>\n",
       "      <td>-122.233</td>\n",
       "      <td>2720</td>\n",
       "      <td>8062</td>\n",
       "    </tr>\n",
       "    <tr>\n",
       "      <th>2</th>\n",
       "      <td>2</td>\n",
       "      <td>20150218T000000</td>\n",
       "      <td>510000.0</td>\n",
       "      <td>3</td>\n",
       "      <td>2.00</td>\n",
       "      <td>1680</td>\n",
       "      <td>8080</td>\n",
       "      <td>1.0</td>\n",
       "      <td>0</td>\n",
       "      <td>0</td>\n",
       "      <td>...</td>\n",
       "      <td>8</td>\n",
       "      <td>1680</td>\n",
       "      <td>0</td>\n",
       "      <td>1987</td>\n",
       "      <td>0</td>\n",
       "      <td>98074</td>\n",
       "      <td>47.6168</td>\n",
       "      <td>-122.045</td>\n",
       "      <td>1800</td>\n",
       "      <td>7503</td>\n",
       "    </tr>\n",
       "    <tr>\n",
       "      <th>3</th>\n",
       "      <td>3</td>\n",
       "      <td>20140627T000000</td>\n",
       "      <td>257500.0</td>\n",
       "      <td>3</td>\n",
       "      <td>2.25</td>\n",
       "      <td>1715</td>\n",
       "      <td>6819</td>\n",
       "      <td>2.0</td>\n",
       "      <td>0</td>\n",
       "      <td>0</td>\n",
       "      <td>...</td>\n",
       "      <td>7</td>\n",
       "      <td>1715</td>\n",
       "      <td>0</td>\n",
       "      <td>1995</td>\n",
       "      <td>0</td>\n",
       "      <td>98003</td>\n",
       "      <td>47.3097</td>\n",
       "      <td>-122.327</td>\n",
       "      <td>2238</td>\n",
       "      <td>6819</td>\n",
       "    </tr>\n",
       "    <tr>\n",
       "      <th>4</th>\n",
       "      <td>4</td>\n",
       "      <td>20150115T000000</td>\n",
       "      <td>291850.0</td>\n",
       "      <td>3</td>\n",
       "      <td>1.50</td>\n",
       "      <td>1060</td>\n",
       "      <td>9711</td>\n",
       "      <td>1.0</td>\n",
       "      <td>0</td>\n",
       "      <td>0</td>\n",
       "      <td>...</td>\n",
       "      <td>7</td>\n",
       "      <td>1060</td>\n",
       "      <td>0</td>\n",
       "      <td>1963</td>\n",
       "      <td>0</td>\n",
       "      <td>98198</td>\n",
       "      <td>47.4095</td>\n",
       "      <td>-122.315</td>\n",
       "      <td>1650</td>\n",
       "      <td>9711</td>\n",
       "    </tr>\n",
       "  </tbody>\n",
       "</table>\n",
       "<p>5 rows × 21 columns</p>\n",
       "</div>"
      ]
     },
     "execution_count": 3,
     "metadata": {},
     "output_type": "execute_result"
    }
   ],
   "execution_count": 3
  },
  {
   "cell_type": "markdown",
   "id": "5532b022",
   "metadata": {},
   "source": [
    "- 15035의 train 데이터와 6468개의 test 데이터셋으로 이루어져있다"
   ]
  },
  {
   "cell_type": "markdown",
   "id": "9a3b3d68",
   "metadata": {},
   "source": [
    "## EDA"
   ]
  },
  {
   "cell_type": "markdown",
   "id": "0cc76e8f",
   "metadata": {},
   "source": [
    "### 데이터 살펴보기"
   ]
  },
  {
   "cell_type": "code",
   "id": "3a68d4ef",
   "metadata": {
    "scrolled": true,
    "ExecuteTime": {
     "end_time": "2024-05-29T15:44:56.399320Z",
     "start_time": "2024-05-29T15:44:56.394252Z"
    }
   },
   "source": [
    "train.info()"
   ],
   "outputs": [
    {
     "name": "stdout",
     "output_type": "stream",
     "text": [
      "<class 'pandas.core.frame.DataFrame'>\n",
      "RangeIndex: 15035 entries, 0 to 15034\n",
      "Data columns (total 21 columns):\n",
      " #   Column         Non-Null Count  Dtype  \n",
      "---  ------         --------------  -----  \n",
      " 0   id             15035 non-null  int64  \n",
      " 1   date           15035 non-null  object \n",
      " 2   price          15035 non-null  float64\n",
      " 3   bedrooms       15035 non-null  int64  \n",
      " 4   bathrooms      15035 non-null  float64\n",
      " 5   sqft_living    15035 non-null  int64  \n",
      " 6   sqft_lot       15035 non-null  int64  \n",
      " 7   floors         15035 non-null  float64\n",
      " 8   waterfront     15035 non-null  int64  \n",
      " 9   view           15035 non-null  int64  \n",
      " 10  condition      15035 non-null  int64  \n",
      " 11  grade          15035 non-null  int64  \n",
      " 12  sqft_above     15035 non-null  int64  \n",
      " 13  sqft_basement  15035 non-null  int64  \n",
      " 14  yr_built       15035 non-null  int64  \n",
      " 15  yr_renovated   15035 non-null  int64  \n",
      " 16  zipcode        15035 non-null  int64  \n",
      " 17  lat            15035 non-null  float64\n",
      " 18  long           15035 non-null  float64\n",
      " 19  sqft_living15  15035 non-null  int64  \n",
      " 20  sqft_lot15     15035 non-null  int64  \n",
      "dtypes: float64(5), int64(15), object(1)\n",
      "memory usage: 2.4+ MB\n"
     ]
    }
   ],
   "execution_count": 4
  },
  {
   "cell_type": "markdown",
   "id": "3891fbd0",
   "metadata": {},
   "source": [
    "    ID : 집을 구분하는 번호\n",
    "    date : 집을 구매한 날짜\n",
    "    price : 타겟 변수인 집의 가격\n",
    "    bedrooms : 침실의 수\n",
    "    bathrooms : 침실당 화장실 개수\n",
    "    sqft_living : 주거 공간의 평방 피트\n",
    "    sqft_lot : 부지의 평방 피트\n",
    "    floors : 집의 층 수\n",
    "    waterfront : 집의 전방에 강이 흐르는지 유무 (a.k.a. 리버뷰)\n",
    "    view : 집이 얼마나 좋아 보이는지의 정도\n",
    "    condition : 집의 전반적인 상태\n",
    "    grade : King County grading 시스템 기준으로 매긴 집의 등급\n",
    "    sqft_above : 지하실을 제외한 평방 피트\n",
    "    sqft_basement : 지하실의 평방 피트\n",
    "    yr_built : 집을 지은 년도\n",
    "    yr_renovated : 집을 재건축한 년도\n",
    "    zipcode : 우편번호\n",
    "    lat : 위도\n",
    "    long : 경도\n",
    "    sqft_living15 : 2015년 기준 주거 공간의 평방 피트(집을 재건축했다면, 변화가 있을 수 있음)\n",
    "    sqft_lot15 : 2015년 기준 부지의 평방 피트(집을 재건축했다면, 변화가 있을 수 있음)"
   ]
  },
  {
   "cell_type": "markdown",
   "id": "684ef723",
   "metadata": {},
   "source": [
    "- 문자열 type의 데이터는 없고 모두 수치형 데이터로 구성되어있다.\n",
    "- date가 object 타입이긴한데 데이터 특성상 시계열 데이터이므로 datetime 형태로 변환해 줄 것이다\n",
    "- 수치형 데이터이더라도 이진분류가 되는 binary 형태나 등급같은 것은 범주형 데이터의 형태일 것으로 보인다.\n",
    "    - 수치형과 범주형 데이터를 나눠서 분석을 해줄 것이다"
   ]
  },
  {
   "cell_type": "markdown",
   "id": "677b2b72",
   "metadata": {},
   "source": [
    "## ID : 집을 구분하는 번호"
   ]
  },
  {
   "cell_type": "code",
   "id": "78dc20d2",
   "metadata": {
    "ExecuteTime": {
     "end_time": "2024-05-29T15:44:56.401970Z",
     "start_time": "2024-05-29T15:44:56.399854Z"
    }
   },
   "source": [
    "train.shape"
   ],
   "outputs": [
    {
     "data": {
      "text/plain": [
       "(15035, 21)"
      ]
     },
     "execution_count": 5,
     "metadata": {},
     "output_type": "execute_result"
    }
   ],
   "execution_count": 5
  },
  {
   "cell_type": "code",
   "id": "172fd114",
   "metadata": {
    "ExecuteTime": {
     "end_time": "2024-05-29T15:44:56.407150Z",
     "start_time": "2024-05-29T15:44:56.404849Z"
    }
   },
   "source": [
    "train.id.nunique()"
   ],
   "outputs": [
    {
     "data": {
      "text/plain": [
       "15035"
      ]
     },
     "execution_count": 6,
     "metadata": {},
     "output_type": "execute_result"
    }
   ],
   "execution_count": 6
  },
  {
   "cell_type": "markdown",
   "id": "49755ce4",
   "metadata": {},
   "source": [
    "- id의 값은 unique 하므로 인덱스와 일치하기에 id를 index로 변경하거나 없애주어도 된다\n",
    "- test data도 동일하게 전처리를 진행한다"
   ]
  },
  {
   "cell_type": "code",
   "id": "0af3d0f1",
   "metadata": {
    "ExecuteTime": {
     "end_time": "2024-05-29T15:44:56.408990Z",
     "start_time": "2024-05-29T15:44:56.407764Z"
    }
   },
   "source": [
    "# id를 index로\n",
    "# train.set_index('id', inplace=True)\n",
    "# test.set_index('id', inplace=True)"
   ],
   "outputs": [],
   "execution_count": 7
  },
  {
   "cell_type": "code",
   "id": "923ee96e",
   "metadata": {
    "ExecuteTime": {
     "end_time": "2024-05-29T15:44:56.411296Z",
     "start_time": "2024-05-29T15:44:56.409571Z"
    }
   },
   "source": [
    "del train['id']\n",
    "del test['id']"
   ],
   "outputs": [],
   "execution_count": 8
  },
  {
   "cell_type": "code",
   "id": "881324fa",
   "metadata": {
    "ExecuteTime": {
     "end_time": "2024-05-29T15:44:56.417632Z",
     "start_time": "2024-05-29T15:44:56.411875Z"
    }
   },
   "source": [
    "train.head()"
   ],
   "outputs": [
    {
     "data": {
      "text/plain": [
       "              date     price  bedrooms  bathrooms  sqft_living  sqft_lot  \\\n",
       "0  20141013T000000  221900.0         3       1.00         1180      5650   \n",
       "1  20150225T000000  180000.0         2       1.00          770     10000   \n",
       "2  20150218T000000  510000.0         3       2.00         1680      8080   \n",
       "3  20140627T000000  257500.0         3       2.25         1715      6819   \n",
       "4  20150115T000000  291850.0         3       1.50         1060      9711   \n",
       "\n",
       "   floors  waterfront  view  condition  grade  sqft_above  sqft_basement  \\\n",
       "0     1.0           0     0          3      7        1180              0   \n",
       "1     1.0           0     0          3      6         770              0   \n",
       "2     1.0           0     0          3      8        1680              0   \n",
       "3     2.0           0     0          3      7        1715              0   \n",
       "4     1.0           0     0          3      7        1060              0   \n",
       "\n",
       "   yr_built  yr_renovated  zipcode      lat     long  sqft_living15  \\\n",
       "0      1955             0    98178  47.5112 -122.257           1340   \n",
       "1      1933             0    98028  47.7379 -122.233           2720   \n",
       "2      1987             0    98074  47.6168 -122.045           1800   \n",
       "3      1995             0    98003  47.3097 -122.327           2238   \n",
       "4      1963             0    98198  47.4095 -122.315           1650   \n",
       "\n",
       "   sqft_lot15  \n",
       "0        5650  \n",
       "1        8062  \n",
       "2        7503  \n",
       "3        6819  \n",
       "4        9711  "
      ],
      "text/html": [
       "<div>\n",
       "<style scoped>\n",
       "    .dataframe tbody tr th:only-of-type {\n",
       "        vertical-align: middle;\n",
       "    }\n",
       "\n",
       "    .dataframe tbody tr th {\n",
       "        vertical-align: top;\n",
       "    }\n",
       "\n",
       "    .dataframe thead th {\n",
       "        text-align: right;\n",
       "    }\n",
       "</style>\n",
       "<table border=\"1\" class=\"dataframe\">\n",
       "  <thead>\n",
       "    <tr style=\"text-align: right;\">\n",
       "      <th></th>\n",
       "      <th>date</th>\n",
       "      <th>price</th>\n",
       "      <th>bedrooms</th>\n",
       "      <th>bathrooms</th>\n",
       "      <th>sqft_living</th>\n",
       "      <th>sqft_lot</th>\n",
       "      <th>floors</th>\n",
       "      <th>waterfront</th>\n",
       "      <th>view</th>\n",
       "      <th>condition</th>\n",
       "      <th>grade</th>\n",
       "      <th>sqft_above</th>\n",
       "      <th>sqft_basement</th>\n",
       "      <th>yr_built</th>\n",
       "      <th>yr_renovated</th>\n",
       "      <th>zipcode</th>\n",
       "      <th>lat</th>\n",
       "      <th>long</th>\n",
       "      <th>sqft_living15</th>\n",
       "      <th>sqft_lot15</th>\n",
       "    </tr>\n",
       "  </thead>\n",
       "  <tbody>\n",
       "    <tr>\n",
       "      <th>0</th>\n",
       "      <td>20141013T000000</td>\n",
       "      <td>221900.0</td>\n",
       "      <td>3</td>\n",
       "      <td>1.00</td>\n",
       "      <td>1180</td>\n",
       "      <td>5650</td>\n",
       "      <td>1.0</td>\n",
       "      <td>0</td>\n",
       "      <td>0</td>\n",
       "      <td>3</td>\n",
       "      <td>7</td>\n",
       "      <td>1180</td>\n",
       "      <td>0</td>\n",
       "      <td>1955</td>\n",
       "      <td>0</td>\n",
       "      <td>98178</td>\n",
       "      <td>47.5112</td>\n",
       "      <td>-122.257</td>\n",
       "      <td>1340</td>\n",
       "      <td>5650</td>\n",
       "    </tr>\n",
       "    <tr>\n",
       "      <th>1</th>\n",
       "      <td>20150225T000000</td>\n",
       "      <td>180000.0</td>\n",
       "      <td>2</td>\n",
       "      <td>1.00</td>\n",
       "      <td>770</td>\n",
       "      <td>10000</td>\n",
       "      <td>1.0</td>\n",
       "      <td>0</td>\n",
       "      <td>0</td>\n",
       "      <td>3</td>\n",
       "      <td>6</td>\n",
       "      <td>770</td>\n",
       "      <td>0</td>\n",
       "      <td>1933</td>\n",
       "      <td>0</td>\n",
       "      <td>98028</td>\n",
       "      <td>47.7379</td>\n",
       "      <td>-122.233</td>\n",
       "      <td>2720</td>\n",
       "      <td>8062</td>\n",
       "    </tr>\n",
       "    <tr>\n",
       "      <th>2</th>\n",
       "      <td>20150218T000000</td>\n",
       "      <td>510000.0</td>\n",
       "      <td>3</td>\n",
       "      <td>2.00</td>\n",
       "      <td>1680</td>\n",
       "      <td>8080</td>\n",
       "      <td>1.0</td>\n",
       "      <td>0</td>\n",
       "      <td>0</td>\n",
       "      <td>3</td>\n",
       "      <td>8</td>\n",
       "      <td>1680</td>\n",
       "      <td>0</td>\n",
       "      <td>1987</td>\n",
       "      <td>0</td>\n",
       "      <td>98074</td>\n",
       "      <td>47.6168</td>\n",
       "      <td>-122.045</td>\n",
       "      <td>1800</td>\n",
       "      <td>7503</td>\n",
       "    </tr>\n",
       "    <tr>\n",
       "      <th>3</th>\n",
       "      <td>20140627T000000</td>\n",
       "      <td>257500.0</td>\n",
       "      <td>3</td>\n",
       "      <td>2.25</td>\n",
       "      <td>1715</td>\n",
       "      <td>6819</td>\n",
       "      <td>2.0</td>\n",
       "      <td>0</td>\n",
       "      <td>0</td>\n",
       "      <td>3</td>\n",
       "      <td>7</td>\n",
       "      <td>1715</td>\n",
       "      <td>0</td>\n",
       "      <td>1995</td>\n",
       "      <td>0</td>\n",
       "      <td>98003</td>\n",
       "      <td>47.3097</td>\n",
       "      <td>-122.327</td>\n",
       "      <td>2238</td>\n",
       "      <td>6819</td>\n",
       "    </tr>\n",
       "    <tr>\n",
       "      <th>4</th>\n",
       "      <td>20150115T000000</td>\n",
       "      <td>291850.0</td>\n",
       "      <td>3</td>\n",
       "      <td>1.50</td>\n",
       "      <td>1060</td>\n",
       "      <td>9711</td>\n",
       "      <td>1.0</td>\n",
       "      <td>0</td>\n",
       "      <td>0</td>\n",
       "      <td>3</td>\n",
       "      <td>7</td>\n",
       "      <td>1060</td>\n",
       "      <td>0</td>\n",
       "      <td>1963</td>\n",
       "      <td>0</td>\n",
       "      <td>98198</td>\n",
       "      <td>47.4095</td>\n",
       "      <td>-122.315</td>\n",
       "      <td>1650</td>\n",
       "      <td>9711</td>\n",
       "    </tr>\n",
       "  </tbody>\n",
       "</table>\n",
       "</div>"
      ]
     },
     "execution_count": 9,
     "metadata": {},
     "output_type": "execute_result"
    }
   ],
   "execution_count": 9
  },
  {
   "cell_type": "code",
   "id": "4e35cf33",
   "metadata": {
    "ExecuteTime": {
     "end_time": "2024-05-29T15:44:56.423794Z",
     "start_time": "2024-05-29T15:44:56.418263Z"
    }
   },
   "source": [
    "test.head()"
   ],
   "outputs": [
    {
     "data": {
      "text/plain": [
       "              date  bedrooms  bathrooms  sqft_living  sqft_lot  floors  \\\n",
       "0  20141209T000000         3       2.25         2570      7242     2.0   \n",
       "1  20141209T000000         4       3.00         1960      5000     1.0   \n",
       "2  20140512T000000         4       4.50         5420    101930     1.0   \n",
       "3  20150415T000000         3       1.00         1780      7470     1.0   \n",
       "4  20150312T000000         3       2.50         1890      6560     2.0   \n",
       "\n",
       "   waterfront  view  condition  grade  sqft_above  sqft_basement  yr_built  \\\n",
       "0           0     0          3      7        2170            400      1951   \n",
       "1           0     0          5      7        1050            910      1965   \n",
       "2           0     0          3     11        3890           1530      2001   \n",
       "3           0     0          3      7        1050            730      1960   \n",
       "4           0     0          3      7        1890              0      2003   \n",
       "\n",
       "   yr_renovated  zipcode      lat     long  sqft_living15  sqft_lot15  \n",
       "0          1991    98125  47.7210 -122.319           1690        7639  \n",
       "1             0    98136  47.5208 -122.393           1360        5000  \n",
       "2             0    98053  47.6561 -122.005           4760      101930  \n",
       "3             0    98146  47.5123 -122.337           1780        8113  \n",
       "4             0    98038  47.3684 -122.031           2390        7570  "
      ],
      "text/html": [
       "<div>\n",
       "<style scoped>\n",
       "    .dataframe tbody tr th:only-of-type {\n",
       "        vertical-align: middle;\n",
       "    }\n",
       "\n",
       "    .dataframe tbody tr th {\n",
       "        vertical-align: top;\n",
       "    }\n",
       "\n",
       "    .dataframe thead th {\n",
       "        text-align: right;\n",
       "    }\n",
       "</style>\n",
       "<table border=\"1\" class=\"dataframe\">\n",
       "  <thead>\n",
       "    <tr style=\"text-align: right;\">\n",
       "      <th></th>\n",
       "      <th>date</th>\n",
       "      <th>bedrooms</th>\n",
       "      <th>bathrooms</th>\n",
       "      <th>sqft_living</th>\n",
       "      <th>sqft_lot</th>\n",
       "      <th>floors</th>\n",
       "      <th>waterfront</th>\n",
       "      <th>view</th>\n",
       "      <th>condition</th>\n",
       "      <th>grade</th>\n",
       "      <th>sqft_above</th>\n",
       "      <th>sqft_basement</th>\n",
       "      <th>yr_built</th>\n",
       "      <th>yr_renovated</th>\n",
       "      <th>zipcode</th>\n",
       "      <th>lat</th>\n",
       "      <th>long</th>\n",
       "      <th>sqft_living15</th>\n",
       "      <th>sqft_lot15</th>\n",
       "    </tr>\n",
       "  </thead>\n",
       "  <tbody>\n",
       "    <tr>\n",
       "      <th>0</th>\n",
       "      <td>20141209T000000</td>\n",
       "      <td>3</td>\n",
       "      <td>2.25</td>\n",
       "      <td>2570</td>\n",
       "      <td>7242</td>\n",
       "      <td>2.0</td>\n",
       "      <td>0</td>\n",
       "      <td>0</td>\n",
       "      <td>3</td>\n",
       "      <td>7</td>\n",
       "      <td>2170</td>\n",
       "      <td>400</td>\n",
       "      <td>1951</td>\n",
       "      <td>1991</td>\n",
       "      <td>98125</td>\n",
       "      <td>47.7210</td>\n",
       "      <td>-122.319</td>\n",
       "      <td>1690</td>\n",
       "      <td>7639</td>\n",
       "    </tr>\n",
       "    <tr>\n",
       "      <th>1</th>\n",
       "      <td>20141209T000000</td>\n",
       "      <td>4</td>\n",
       "      <td>3.00</td>\n",
       "      <td>1960</td>\n",
       "      <td>5000</td>\n",
       "      <td>1.0</td>\n",
       "      <td>0</td>\n",
       "      <td>0</td>\n",
       "      <td>5</td>\n",
       "      <td>7</td>\n",
       "      <td>1050</td>\n",
       "      <td>910</td>\n",
       "      <td>1965</td>\n",
       "      <td>0</td>\n",
       "      <td>98136</td>\n",
       "      <td>47.5208</td>\n",
       "      <td>-122.393</td>\n",
       "      <td>1360</td>\n",
       "      <td>5000</td>\n",
       "    </tr>\n",
       "    <tr>\n",
       "      <th>2</th>\n",
       "      <td>20140512T000000</td>\n",
       "      <td>4</td>\n",
       "      <td>4.50</td>\n",
       "      <td>5420</td>\n",
       "      <td>101930</td>\n",
       "      <td>1.0</td>\n",
       "      <td>0</td>\n",
       "      <td>0</td>\n",
       "      <td>3</td>\n",
       "      <td>11</td>\n",
       "      <td>3890</td>\n",
       "      <td>1530</td>\n",
       "      <td>2001</td>\n",
       "      <td>0</td>\n",
       "      <td>98053</td>\n",
       "      <td>47.6561</td>\n",
       "      <td>-122.005</td>\n",
       "      <td>4760</td>\n",
       "      <td>101930</td>\n",
       "    </tr>\n",
       "    <tr>\n",
       "      <th>3</th>\n",
       "      <td>20150415T000000</td>\n",
       "      <td>3</td>\n",
       "      <td>1.00</td>\n",
       "      <td>1780</td>\n",
       "      <td>7470</td>\n",
       "      <td>1.0</td>\n",
       "      <td>0</td>\n",
       "      <td>0</td>\n",
       "      <td>3</td>\n",
       "      <td>7</td>\n",
       "      <td>1050</td>\n",
       "      <td>730</td>\n",
       "      <td>1960</td>\n",
       "      <td>0</td>\n",
       "      <td>98146</td>\n",
       "      <td>47.5123</td>\n",
       "      <td>-122.337</td>\n",
       "      <td>1780</td>\n",
       "      <td>8113</td>\n",
       "    </tr>\n",
       "    <tr>\n",
       "      <th>4</th>\n",
       "      <td>20150312T000000</td>\n",
       "      <td>3</td>\n",
       "      <td>2.50</td>\n",
       "      <td>1890</td>\n",
       "      <td>6560</td>\n",
       "      <td>2.0</td>\n",
       "      <td>0</td>\n",
       "      <td>0</td>\n",
       "      <td>3</td>\n",
       "      <td>7</td>\n",
       "      <td>1890</td>\n",
       "      <td>0</td>\n",
       "      <td>2003</td>\n",
       "      <td>0</td>\n",
       "      <td>98038</td>\n",
       "      <td>47.3684</td>\n",
       "      <td>-122.031</td>\n",
       "      <td>2390</td>\n",
       "      <td>7570</td>\n",
       "    </tr>\n",
       "  </tbody>\n",
       "</table>\n",
       "</div>"
      ]
     },
     "execution_count": 10,
     "metadata": {},
     "output_type": "execute_result"
    }
   ],
   "execution_count": 10
  },
  {
   "cell_type": "markdown",
   "id": "2dc20401",
   "metadata": {},
   "source": [
    "## date : 집을 구매한 날짜"
   ]
  },
  {
   "cell_type": "markdown",
   "id": "5546f5bf",
   "metadata": {},
   "source": [
    "- T 뒤에는 의미없는 숫자들인 것 같고 앞에는 날짜정보를 가지고 있으므로 전처리를 통해 datetime형식으로 변환해준다"
   ]
  },
  {
   "cell_type": "code",
   "id": "72555d6f",
   "metadata": {
    "ExecuteTime": {
     "end_time": "2024-05-29T15:44:56.426856Z",
     "start_time": "2024-05-29T15:44:56.424392Z"
    }
   },
   "source": [
    "def extract_date_info(train):\n",
    "    # 날짜 정보 분리 후 datetime으로 형식 변환\n",
    "    train['date'] = train['date'].str.split('T').str[0]\n",
    "    train['date'] = pd.to_datetime(train['date'])\n",
    "\n",
    "    # 시간 관련 여러 파생변수 추출\n",
    "    train['year'] = train.date.dt.year\n",
    "    train['month'] = train.date.dt.month\n",
    "    train['day'] = train.date.dt.day\n",
    "\n",
    "    train['day_of_week'] = train.date.dt.day_of_week\n",
    "    train['day_name'] = train.date.dt.day_name()\n",
    "    train['quarter'] = train.date.dt.quarter\n",
    "    \n",
    "    # drop 하지 않고 시간에 따른 가격 변화를 보기 위해 남겨두자\n",
    "    train['date'] = train['date'].astype('int')"
   ],
   "outputs": [],
   "execution_count": 11
  },
  {
   "cell_type": "code",
   "id": "2309c69e",
   "metadata": {
    "ExecuteTime": {
     "end_time": "2024-05-29T15:44:56.443039Z",
     "start_time": "2024-05-29T15:44:56.427463Z"
    }
   },
   "source": [
    "extract_date_info(train)"
   ],
   "outputs": [],
   "execution_count": 12
  },
  {
   "cell_type": "code",
   "id": "8a02d333",
   "metadata": {
    "ExecuteTime": {
     "end_time": "2024-05-29T15:44:56.450769Z",
     "start_time": "2024-05-29T15:44:56.443630Z"
    }
   },
   "source": [
    "train.head()"
   ],
   "outputs": [
    {
     "data": {
      "text/plain": [
       "                  date     price  bedrooms  bathrooms  sqft_living  sqft_lot  \\\n",
       "0  1413158400000000000  221900.0         3       1.00         1180      5650   \n",
       "1  1424822400000000000  180000.0         2       1.00          770     10000   \n",
       "2  1424217600000000000  510000.0         3       2.00         1680      8080   \n",
       "3  1403827200000000000  257500.0         3       2.25         1715      6819   \n",
       "4  1421280000000000000  291850.0         3       1.50         1060      9711   \n",
       "\n",
       "   floors  waterfront  view  condition  ...      lat     long  sqft_living15  \\\n",
       "0     1.0           0     0          3  ...  47.5112 -122.257           1340   \n",
       "1     1.0           0     0          3  ...  47.7379 -122.233           2720   \n",
       "2     1.0           0     0          3  ...  47.6168 -122.045           1800   \n",
       "3     2.0           0     0          3  ...  47.3097 -122.327           2238   \n",
       "4     1.0           0     0          3  ...  47.4095 -122.315           1650   \n",
       "\n",
       "   sqft_lot15  year  month  day  day_of_week   day_name  quarter  \n",
       "0        5650  2014     10   13            0     Monday        4  \n",
       "1        8062  2015      2   25            2  Wednesday        1  \n",
       "2        7503  2015      2   18            2  Wednesday        1  \n",
       "3        6819  2014      6   27            4     Friday        2  \n",
       "4        9711  2015      1   15            3   Thursday        1  \n",
       "\n",
       "[5 rows x 26 columns]"
      ],
      "text/html": [
       "<div>\n",
       "<style scoped>\n",
       "    .dataframe tbody tr th:only-of-type {\n",
       "        vertical-align: middle;\n",
       "    }\n",
       "\n",
       "    .dataframe tbody tr th {\n",
       "        vertical-align: top;\n",
       "    }\n",
       "\n",
       "    .dataframe thead th {\n",
       "        text-align: right;\n",
       "    }\n",
       "</style>\n",
       "<table border=\"1\" class=\"dataframe\">\n",
       "  <thead>\n",
       "    <tr style=\"text-align: right;\">\n",
       "      <th></th>\n",
       "      <th>date</th>\n",
       "      <th>price</th>\n",
       "      <th>bedrooms</th>\n",
       "      <th>bathrooms</th>\n",
       "      <th>sqft_living</th>\n",
       "      <th>sqft_lot</th>\n",
       "      <th>floors</th>\n",
       "      <th>waterfront</th>\n",
       "      <th>view</th>\n",
       "      <th>condition</th>\n",
       "      <th>...</th>\n",
       "      <th>lat</th>\n",
       "      <th>long</th>\n",
       "      <th>sqft_living15</th>\n",
       "      <th>sqft_lot15</th>\n",
       "      <th>year</th>\n",
       "      <th>month</th>\n",
       "      <th>day</th>\n",
       "      <th>day_of_week</th>\n",
       "      <th>day_name</th>\n",
       "      <th>quarter</th>\n",
       "    </tr>\n",
       "  </thead>\n",
       "  <tbody>\n",
       "    <tr>\n",
       "      <th>0</th>\n",
       "      <td>1413158400000000000</td>\n",
       "      <td>221900.0</td>\n",
       "      <td>3</td>\n",
       "      <td>1.00</td>\n",
       "      <td>1180</td>\n",
       "      <td>5650</td>\n",
       "      <td>1.0</td>\n",
       "      <td>0</td>\n",
       "      <td>0</td>\n",
       "      <td>3</td>\n",
       "      <td>...</td>\n",
       "      <td>47.5112</td>\n",
       "      <td>-122.257</td>\n",
       "      <td>1340</td>\n",
       "      <td>5650</td>\n",
       "      <td>2014</td>\n",
       "      <td>10</td>\n",
       "      <td>13</td>\n",
       "      <td>0</td>\n",
       "      <td>Monday</td>\n",
       "      <td>4</td>\n",
       "    </tr>\n",
       "    <tr>\n",
       "      <th>1</th>\n",
       "      <td>1424822400000000000</td>\n",
       "      <td>180000.0</td>\n",
       "      <td>2</td>\n",
       "      <td>1.00</td>\n",
       "      <td>770</td>\n",
       "      <td>10000</td>\n",
       "      <td>1.0</td>\n",
       "      <td>0</td>\n",
       "      <td>0</td>\n",
       "      <td>3</td>\n",
       "      <td>...</td>\n",
       "      <td>47.7379</td>\n",
       "      <td>-122.233</td>\n",
       "      <td>2720</td>\n",
       "      <td>8062</td>\n",
       "      <td>2015</td>\n",
       "      <td>2</td>\n",
       "      <td>25</td>\n",
       "      <td>2</td>\n",
       "      <td>Wednesday</td>\n",
       "      <td>1</td>\n",
       "    </tr>\n",
       "    <tr>\n",
       "      <th>2</th>\n",
       "      <td>1424217600000000000</td>\n",
       "      <td>510000.0</td>\n",
       "      <td>3</td>\n",
       "      <td>2.00</td>\n",
       "      <td>1680</td>\n",
       "      <td>8080</td>\n",
       "      <td>1.0</td>\n",
       "      <td>0</td>\n",
       "      <td>0</td>\n",
       "      <td>3</td>\n",
       "      <td>...</td>\n",
       "      <td>47.6168</td>\n",
       "      <td>-122.045</td>\n",
       "      <td>1800</td>\n",
       "      <td>7503</td>\n",
       "      <td>2015</td>\n",
       "      <td>2</td>\n",
       "      <td>18</td>\n",
       "      <td>2</td>\n",
       "      <td>Wednesday</td>\n",
       "      <td>1</td>\n",
       "    </tr>\n",
       "    <tr>\n",
       "      <th>3</th>\n",
       "      <td>1403827200000000000</td>\n",
       "      <td>257500.0</td>\n",
       "      <td>3</td>\n",
       "      <td>2.25</td>\n",
       "      <td>1715</td>\n",
       "      <td>6819</td>\n",
       "      <td>2.0</td>\n",
       "      <td>0</td>\n",
       "      <td>0</td>\n",
       "      <td>3</td>\n",
       "      <td>...</td>\n",
       "      <td>47.3097</td>\n",
       "      <td>-122.327</td>\n",
       "      <td>2238</td>\n",
       "      <td>6819</td>\n",
       "      <td>2014</td>\n",
       "      <td>6</td>\n",
       "      <td>27</td>\n",
       "      <td>4</td>\n",
       "      <td>Friday</td>\n",
       "      <td>2</td>\n",
       "    </tr>\n",
       "    <tr>\n",
       "      <th>4</th>\n",
       "      <td>1421280000000000000</td>\n",
       "      <td>291850.0</td>\n",
       "      <td>3</td>\n",
       "      <td>1.50</td>\n",
       "      <td>1060</td>\n",
       "      <td>9711</td>\n",
       "      <td>1.0</td>\n",
       "      <td>0</td>\n",
       "      <td>0</td>\n",
       "      <td>3</td>\n",
       "      <td>...</td>\n",
       "      <td>47.4095</td>\n",
       "      <td>-122.315</td>\n",
       "      <td>1650</td>\n",
       "      <td>9711</td>\n",
       "      <td>2015</td>\n",
       "      <td>1</td>\n",
       "      <td>15</td>\n",
       "      <td>3</td>\n",
       "      <td>Thursday</td>\n",
       "      <td>1</td>\n",
       "    </tr>\n",
       "  </tbody>\n",
       "</table>\n",
       "<p>5 rows × 26 columns</p>\n",
       "</div>"
      ]
     },
     "execution_count": 13,
     "metadata": {},
     "output_type": "execute_result"
    }
   ],
   "execution_count": 13
  },
  {
   "cell_type": "code",
   "id": "9b5fedcc",
   "metadata": {
    "ExecuteTime": {
     "end_time": "2024-05-29T15:44:56.459474Z",
     "start_time": "2024-05-29T15:44:56.451360Z"
    }
   },
   "source": [
    "# test data에도 마찬가지로 같이 전처리를 해준다\n",
    "extract_date_info(test)"
   ],
   "outputs": [],
   "execution_count": 14
  },
  {
   "cell_type": "markdown",
   "id": "be3650fc",
   "metadata": {},
   "source": [
    "### 시간 관련 변수 시각화"
   ]
  },
  {
   "cell_type": "code",
   "id": "07882a87",
   "metadata": {
    "ExecuteTime": {
     "end_time": "2024-05-29T15:44:56.461653Z",
     "start_time": "2024-05-29T15:44:56.460104Z"
    }
   },
   "source": [
    "date_col = ['year','month','day','day_of_week','day_name','quarter']"
   ],
   "outputs": [],
   "execution_count": 15
  },
  {
   "cell_type": "code",
   "id": "bb792caa",
   "metadata": {
    "ExecuteTime": {
     "end_time": "2024-05-29T15:44:56.466939Z",
     "start_time": "2024-05-29T15:44:56.462246Z"
    }
   },
   "source": [
    "train[date_col]"
   ],
   "outputs": [
    {
     "data": {
      "text/plain": [
       "       year  month  day  day_of_week   day_name  quarter\n",
       "0      2014     10   13            0     Monday        4\n",
       "1      2015      2   25            2  Wednesday        1\n",
       "2      2015      2   18            2  Wednesday        1\n",
       "3      2014      6   27            4     Friday        2\n",
       "4      2015      1   15            3   Thursday        1\n",
       "...     ...    ...  ...          ...        ...      ...\n",
       "15030  2014     10   14            1    Tuesday        4\n",
       "15031  2015      3   26            3   Thursday        1\n",
       "15032  2014      5   21            2  Wednesday        2\n",
       "15033  2015      2   23            0     Monday        1\n",
       "15034  2014     10   15            2  Wednesday        4\n",
       "\n",
       "[15035 rows x 6 columns]"
      ],
      "text/html": [
       "<div>\n",
       "<style scoped>\n",
       "    .dataframe tbody tr th:only-of-type {\n",
       "        vertical-align: middle;\n",
       "    }\n",
       "\n",
       "    .dataframe tbody tr th {\n",
       "        vertical-align: top;\n",
       "    }\n",
       "\n",
       "    .dataframe thead th {\n",
       "        text-align: right;\n",
       "    }\n",
       "</style>\n",
       "<table border=\"1\" class=\"dataframe\">\n",
       "  <thead>\n",
       "    <tr style=\"text-align: right;\">\n",
       "      <th></th>\n",
       "      <th>year</th>\n",
       "      <th>month</th>\n",
       "      <th>day</th>\n",
       "      <th>day_of_week</th>\n",
       "      <th>day_name</th>\n",
       "      <th>quarter</th>\n",
       "    </tr>\n",
       "  </thead>\n",
       "  <tbody>\n",
       "    <tr>\n",
       "      <th>0</th>\n",
       "      <td>2014</td>\n",
       "      <td>10</td>\n",
       "      <td>13</td>\n",
       "      <td>0</td>\n",
       "      <td>Monday</td>\n",
       "      <td>4</td>\n",
       "    </tr>\n",
       "    <tr>\n",
       "      <th>1</th>\n",
       "      <td>2015</td>\n",
       "      <td>2</td>\n",
       "      <td>25</td>\n",
       "      <td>2</td>\n",
       "      <td>Wednesday</td>\n",
       "      <td>1</td>\n",
       "    </tr>\n",
       "    <tr>\n",
       "      <th>2</th>\n",
       "      <td>2015</td>\n",
       "      <td>2</td>\n",
       "      <td>18</td>\n",
       "      <td>2</td>\n",
       "      <td>Wednesday</td>\n",
       "      <td>1</td>\n",
       "    </tr>\n",
       "    <tr>\n",
       "      <th>3</th>\n",
       "      <td>2014</td>\n",
       "      <td>6</td>\n",
       "      <td>27</td>\n",
       "      <td>4</td>\n",
       "      <td>Friday</td>\n",
       "      <td>2</td>\n",
       "    </tr>\n",
       "    <tr>\n",
       "      <th>4</th>\n",
       "      <td>2015</td>\n",
       "      <td>1</td>\n",
       "      <td>15</td>\n",
       "      <td>3</td>\n",
       "      <td>Thursday</td>\n",
       "      <td>1</td>\n",
       "    </tr>\n",
       "    <tr>\n",
       "      <th>...</th>\n",
       "      <td>...</td>\n",
       "      <td>...</td>\n",
       "      <td>...</td>\n",
       "      <td>...</td>\n",
       "      <td>...</td>\n",
       "      <td>...</td>\n",
       "    </tr>\n",
       "    <tr>\n",
       "      <th>15030</th>\n",
       "      <td>2014</td>\n",
       "      <td>10</td>\n",
       "      <td>14</td>\n",
       "      <td>1</td>\n",
       "      <td>Tuesday</td>\n",
       "      <td>4</td>\n",
       "    </tr>\n",
       "    <tr>\n",
       "      <th>15031</th>\n",
       "      <td>2015</td>\n",
       "      <td>3</td>\n",
       "      <td>26</td>\n",
       "      <td>3</td>\n",
       "      <td>Thursday</td>\n",
       "      <td>1</td>\n",
       "    </tr>\n",
       "    <tr>\n",
       "      <th>15032</th>\n",
       "      <td>2014</td>\n",
       "      <td>5</td>\n",
       "      <td>21</td>\n",
       "      <td>2</td>\n",
       "      <td>Wednesday</td>\n",
       "      <td>2</td>\n",
       "    </tr>\n",
       "    <tr>\n",
       "      <th>15033</th>\n",
       "      <td>2015</td>\n",
       "      <td>2</td>\n",
       "      <td>23</td>\n",
       "      <td>0</td>\n",
       "      <td>Monday</td>\n",
       "      <td>1</td>\n",
       "    </tr>\n",
       "    <tr>\n",
       "      <th>15034</th>\n",
       "      <td>2014</td>\n",
       "      <td>10</td>\n",
       "      <td>15</td>\n",
       "      <td>2</td>\n",
       "      <td>Wednesday</td>\n",
       "      <td>4</td>\n",
       "    </tr>\n",
       "  </tbody>\n",
       "</table>\n",
       "<p>15035 rows × 6 columns</p>\n",
       "</div>"
      ]
     },
     "execution_count": 16,
     "metadata": {},
     "output_type": "execute_result"
    }
   ],
   "execution_count": 16
  },
  {
   "cell_type": "markdown",
   "id": "3ef01f70",
   "metadata": {},
   "source": [
    "- 2014년에 비해 2015년에 집 구매가 줄었다\n",
    "- 5, 6, 7월에 주로 집을 구매하며 1월, 2월, 11월, 12월의 구매가 현저히 적다\n",
    "- 31일이 없는 달도 있으므로 31일이 적은 것은 당연한 수치이지만 1일은 확실히 적은 수치인 것 같다.\n",
    "- 구매일자는 주로 평일이 많고 주말에는 구매를 잘 하지 않는다는 것을 볼 수 있다\n",
    "    - 부동산 매매업이 주로 평일에 영업을 해서 그런것으로 추정된다. 그렇다하더라도 수요일에는 구매가 적고 금요일에 구매가 많이 이루어진다\n",
    "- 분기별로 비교했을 때, 2,3분기에 주로 구매한다"
   ]
  },
  {
   "cell_type": "markdown",
   "id": "58774cdb",
   "metadata": {},
   "source": [
    "- 한 시기에 가격이 폭등한 적이 있는 것으로 보인다"
   ]
  },
  {
   "cell_type": "code",
   "id": "4a0caddd",
   "metadata": {
    "ExecuteTime": {
     "end_time": "2024-05-29T15:44:56.470832Z",
     "start_time": "2024-05-29T15:44:56.467568Z"
    }
   },
   "source": [
    "# 시각화에 사용하고 이제 필요없어진 day_name 제거\n",
    "train.drop('day_name', axis=1, inplace=True)\n",
    "test.drop('day_name', axis=1, inplace=True)"
   ],
   "outputs": [],
   "execution_count": 17
  },
  {
   "cell_type": "markdown",
   "id": "654ffd24",
   "metadata": {},
   "source": [
    "## price : 타겟 변수인 집의 가격\n",
    "- price는 타겟 변수이므로 y에 할당해준다"
   ]
  },
  {
   "metadata": {},
   "cell_type": "markdown",
   "source": [
    "- price는 왼쪽으로 크게 치우쳐 있는 형태를 보인다.\n",
    "\n",
    "따라서 y는 np.log1p() 함수를 통해 로그 변환을 해주고, 나중에 모델이 값을 예측한 후에 다시 np.expm1()을 활용해서 되돌려 줄 것이다. "
   ],
   "id": "5083deb4"
  },
  {
   "cell_type": "markdown",
   "id": "ed55d918",
   "metadata": {},
   "source": [
    "## bedrooms : 침실의 수, bathrooms : 침실당 화장실 개수"
   ]
  },
  {
   "cell_type": "code",
   "id": "f36de05f",
   "metadata": {
    "ExecuteTime": {
     "end_time": "2024-05-29T15:44:56.472682Z",
     "start_time": "2024-05-29T15:44:56.471329Z"
    }
   },
   "source": [
    "cols = ['bedrooms', 'bathrooms']"
   ],
   "outputs": [],
   "execution_count": 18
  },
  {
   "cell_type": "markdown",
   "id": "4cb09bd3",
   "metadata": {},
   "source": [
    "### 방의 개수와 화장실의 개수의 관계"
   ]
  },
  {
   "cell_type": "markdown",
   "id": "35285e10",
   "metadata": {},
   "source": [
    "- 여기서 최솟값인 0인 데이터가 눈에 띈다 방이 침실과 화장실이 없는 데이터는 무엇일까?\n",
    "- 그리고 화장실에서 0.5 값은 무엇일까?"
   ]
  },
  {
   "cell_type": "markdown",
   "id": "867207b4",
   "metadata": {},
   "source": [
    "원본 데이터를 확인 해봤다\n",
    "- bathrooms : Number of bathrooms, where .5 accounts for a room with a toilet but no shower\n",
    "- 변기만 있고 shower 공간이 없는 화장실을 .5로 본다고 써있었다"
   ]
  },
  {
   "cell_type": "code",
   "id": "6581ac6a",
   "metadata": {
    "ExecuteTime": {
     "end_time": "2024-05-29T15:44:56.481118Z",
     "start_time": "2024-05-29T15:44:56.473279Z"
    }
   },
   "source": [
    "train[(train.bedrooms == 0) | (train.bathrooms == 0)]"
   ],
   "outputs": [
    {
     "data": {
      "text/plain": [
       "                      date     price  bedrooms  bathrooms  sqft_living  \\\n",
       "4123   1415059200000000000  280000.0         1       0.00          600   \n",
       "6885   1419292800000000000  235000.0         0       0.00         1470   \n",
       "7322   1410998400000000000  484000.0         1       0.00          690   \n",
       "8826   1424217600000000000  320000.0         0       2.50         1490   \n",
       "12781  1414540800000000000  265000.0         0       0.75          384   \n",
       "13522  1411689600000000000  142000.0         0       0.00          290   \n",
       "\n",
       "       sqft_lot  floors  waterfront  view  condition  ...  zipcode      lat  \\\n",
       "4123      24501     1.0           0     0          2  ...    98045  47.5316   \n",
       "6885       4800     2.0           0     0          3  ...    98065  47.5265   \n",
       "7322      23244     1.0           0     0          4  ...    98053  47.6429   \n",
       "8826       7111     2.0           0     0          3  ...    98065  47.5261   \n",
       "12781    213444     1.0           0     0          3  ...    98070  47.4177   \n",
       "13522     20875     1.0           0     0          1  ...    98024  47.5308   \n",
       "\n",
       "          long  sqft_living15  sqft_lot15  year  month  day  day_of_week  \\\n",
       "4123  -121.749            990       22549  2014     11    4            1   \n",
       "6885  -121.828           1060        7200  2014     12   23            1   \n",
       "7322  -121.955           1690       19290  2014      9   18            3   \n",
       "8826  -121.826           1500        4675  2015      2   18            2   \n",
       "12781 -122.491           1920      224341  2014     10   29            2   \n",
       "13522 -121.888           1620       22850  2014      9   26            4   \n",
       "\n",
       "       quarter  \n",
       "4123         4  \n",
       "6885         4  \n",
       "7322         3  \n",
       "8826         1  \n",
       "12781        4  \n",
       "13522        3  \n",
       "\n",
       "[6 rows x 25 columns]"
      ],
      "text/html": [
       "<div>\n",
       "<style scoped>\n",
       "    .dataframe tbody tr th:only-of-type {\n",
       "        vertical-align: middle;\n",
       "    }\n",
       "\n",
       "    .dataframe tbody tr th {\n",
       "        vertical-align: top;\n",
       "    }\n",
       "\n",
       "    .dataframe thead th {\n",
       "        text-align: right;\n",
       "    }\n",
       "</style>\n",
       "<table border=\"1\" class=\"dataframe\">\n",
       "  <thead>\n",
       "    <tr style=\"text-align: right;\">\n",
       "      <th></th>\n",
       "      <th>date</th>\n",
       "      <th>price</th>\n",
       "      <th>bedrooms</th>\n",
       "      <th>bathrooms</th>\n",
       "      <th>sqft_living</th>\n",
       "      <th>sqft_lot</th>\n",
       "      <th>floors</th>\n",
       "      <th>waterfront</th>\n",
       "      <th>view</th>\n",
       "      <th>condition</th>\n",
       "      <th>...</th>\n",
       "      <th>zipcode</th>\n",
       "      <th>lat</th>\n",
       "      <th>long</th>\n",
       "      <th>sqft_living15</th>\n",
       "      <th>sqft_lot15</th>\n",
       "      <th>year</th>\n",
       "      <th>month</th>\n",
       "      <th>day</th>\n",
       "      <th>day_of_week</th>\n",
       "      <th>quarter</th>\n",
       "    </tr>\n",
       "  </thead>\n",
       "  <tbody>\n",
       "    <tr>\n",
       "      <th>4123</th>\n",
       "      <td>1415059200000000000</td>\n",
       "      <td>280000.0</td>\n",
       "      <td>1</td>\n",
       "      <td>0.00</td>\n",
       "      <td>600</td>\n",
       "      <td>24501</td>\n",
       "      <td>1.0</td>\n",
       "      <td>0</td>\n",
       "      <td>0</td>\n",
       "      <td>2</td>\n",
       "      <td>...</td>\n",
       "      <td>98045</td>\n",
       "      <td>47.5316</td>\n",
       "      <td>-121.749</td>\n",
       "      <td>990</td>\n",
       "      <td>22549</td>\n",
       "      <td>2014</td>\n",
       "      <td>11</td>\n",
       "      <td>4</td>\n",
       "      <td>1</td>\n",
       "      <td>4</td>\n",
       "    </tr>\n",
       "    <tr>\n",
       "      <th>6885</th>\n",
       "      <td>1419292800000000000</td>\n",
       "      <td>235000.0</td>\n",
       "      <td>0</td>\n",
       "      <td>0.00</td>\n",
       "      <td>1470</td>\n",
       "      <td>4800</td>\n",
       "      <td>2.0</td>\n",
       "      <td>0</td>\n",
       "      <td>0</td>\n",
       "      <td>3</td>\n",
       "      <td>...</td>\n",
       "      <td>98065</td>\n",
       "      <td>47.5265</td>\n",
       "      <td>-121.828</td>\n",
       "      <td>1060</td>\n",
       "      <td>7200</td>\n",
       "      <td>2014</td>\n",
       "      <td>12</td>\n",
       "      <td>23</td>\n",
       "      <td>1</td>\n",
       "      <td>4</td>\n",
       "    </tr>\n",
       "    <tr>\n",
       "      <th>7322</th>\n",
       "      <td>1410998400000000000</td>\n",
       "      <td>484000.0</td>\n",
       "      <td>1</td>\n",
       "      <td>0.00</td>\n",
       "      <td>690</td>\n",
       "      <td>23244</td>\n",
       "      <td>1.0</td>\n",
       "      <td>0</td>\n",
       "      <td>0</td>\n",
       "      <td>4</td>\n",
       "      <td>...</td>\n",
       "      <td>98053</td>\n",
       "      <td>47.6429</td>\n",
       "      <td>-121.955</td>\n",
       "      <td>1690</td>\n",
       "      <td>19290</td>\n",
       "      <td>2014</td>\n",
       "      <td>9</td>\n",
       "      <td>18</td>\n",
       "      <td>3</td>\n",
       "      <td>3</td>\n",
       "    </tr>\n",
       "    <tr>\n",
       "      <th>8826</th>\n",
       "      <td>1424217600000000000</td>\n",
       "      <td>320000.0</td>\n",
       "      <td>0</td>\n",
       "      <td>2.50</td>\n",
       "      <td>1490</td>\n",
       "      <td>7111</td>\n",
       "      <td>2.0</td>\n",
       "      <td>0</td>\n",
       "      <td>0</td>\n",
       "      <td>3</td>\n",
       "      <td>...</td>\n",
       "      <td>98065</td>\n",
       "      <td>47.5261</td>\n",
       "      <td>-121.826</td>\n",
       "      <td>1500</td>\n",
       "      <td>4675</td>\n",
       "      <td>2015</td>\n",
       "      <td>2</td>\n",
       "      <td>18</td>\n",
       "      <td>2</td>\n",
       "      <td>1</td>\n",
       "    </tr>\n",
       "    <tr>\n",
       "      <th>12781</th>\n",
       "      <td>1414540800000000000</td>\n",
       "      <td>265000.0</td>\n",
       "      <td>0</td>\n",
       "      <td>0.75</td>\n",
       "      <td>384</td>\n",
       "      <td>213444</td>\n",
       "      <td>1.0</td>\n",
       "      <td>0</td>\n",
       "      <td>0</td>\n",
       "      <td>3</td>\n",
       "      <td>...</td>\n",
       "      <td>98070</td>\n",
       "      <td>47.4177</td>\n",
       "      <td>-122.491</td>\n",
       "      <td>1920</td>\n",
       "      <td>224341</td>\n",
       "      <td>2014</td>\n",
       "      <td>10</td>\n",
       "      <td>29</td>\n",
       "      <td>2</td>\n",
       "      <td>4</td>\n",
       "    </tr>\n",
       "    <tr>\n",
       "      <th>13522</th>\n",
       "      <td>1411689600000000000</td>\n",
       "      <td>142000.0</td>\n",
       "      <td>0</td>\n",
       "      <td>0.00</td>\n",
       "      <td>290</td>\n",
       "      <td>20875</td>\n",
       "      <td>1.0</td>\n",
       "      <td>0</td>\n",
       "      <td>0</td>\n",
       "      <td>1</td>\n",
       "      <td>...</td>\n",
       "      <td>98024</td>\n",
       "      <td>47.5308</td>\n",
       "      <td>-121.888</td>\n",
       "      <td>1620</td>\n",
       "      <td>22850</td>\n",
       "      <td>2014</td>\n",
       "      <td>9</td>\n",
       "      <td>26</td>\n",
       "      <td>4</td>\n",
       "      <td>3</td>\n",
       "    </tr>\n",
       "  </tbody>\n",
       "</table>\n",
       "<p>6 rows × 25 columns</p>\n",
       "</div>"
      ]
     },
     "execution_count": 19,
     "metadata": {},
     "output_type": "execute_result"
    }
   ],
   "execution_count": 19
  },
  {
   "cell_type": "markdown",
   "id": "11ff3d23",
   "metadata": {},
   "source": [
    "- 확실히 방이 0개인데 화장실이 2.5개인 집은 상당히 이상한 데이터로 보인다.\n",
    "- 일단 6개이므로 제거해준다"
   ]
  },
  {
   "cell_type": "code",
   "id": "273cde42",
   "metadata": {
    "ExecuteTime": {
     "end_time": "2024-05-29T15:44:56.483816Z",
     "start_time": "2024-05-29T15:44:56.481750Z"
    }
   },
   "source": [
    "odd_index = train[(train.bedrooms == 0) | (train.bathrooms == 0)].index"
   ],
   "outputs": [],
   "execution_count": 20
  },
  {
   "cell_type": "code",
   "id": "d11e1780",
   "metadata": {
    "ExecuteTime": {
     "end_time": "2024-05-29T15:44:56.487201Z",
     "start_time": "2024-05-29T15:44:56.484331Z"
    }
   },
   "source": [
    "train.drop(odd_index, inplace=True)"
   ],
   "outputs": [],
   "execution_count": 21
  },
  {
   "cell_type": "markdown",
   "id": "f29152c2",
   "metadata": {},
   "source": [
    "- 0.75는 또 뭐일까 싶긴하지만 일단 여기까지만 하고 넘어가주자"
   ]
  },
  {
   "cell_type": "markdown",
   "id": "9deaf143",
   "metadata": {},
   "source": [
    "### 평방 피트 관련 데이터\n",
    "- sqft_living : 주거 공간의 평방 피트\n",
    "- sqft_lot : 부지의 평방 피트\n",
    "- sqft_above : 지하실을 제외한 평방 피트\n",
    "- sqft_basement : 지하실의 평방 피트\n",
    "- sqft_living15 : 2015년 기준 주거 공간의 평방 피트(집을 재건축했다면, 변화가 있을 수 있음)\n",
    "- sqft_lot15 : 2015년 기준 부지의 평방 피트(집을 재건축했다면, 변화가 있을 수 있음)"
   ]
  },
  {
   "cell_type": "code",
   "id": "cb76b26b",
   "metadata": {
    "ExecuteTime": {
     "end_time": "2024-05-29T15:44:56.489568Z",
     "start_time": "2024-05-29T15:44:56.487785Z"
    }
   },
   "source": [
    "sqft_df = train.loc[:,train.columns.str.contains('sqft')]"
   ],
   "outputs": [],
   "execution_count": 22
  },
  {
   "cell_type": "code",
   "id": "d8705ea6",
   "metadata": {
    "ExecuteTime": {
     "end_time": "2024-05-29T15:44:56.499504Z",
     "start_time": "2024-05-29T15:44:56.490538Z"
    }
   },
   "source": [
    "sqft_df.describe()"
   ],
   "outputs": [
    {
     "data": {
      "text/plain": [
       "        sqft_living      sqft_lot    sqft_above  sqft_basement  sqft_living15  \\\n",
       "count  15029.000000  1.502900e+04  15029.000000   15029.000000   15029.000000   \n",
       "mean    2084.294497  1.528351e+04   1794.546810     289.747688    1992.966132   \n",
       "std      921.921821  4.259039e+04    831.620781     440.713233     691.481161   \n",
       "min      380.000000  5.200000e+02    380.000000       0.000000     399.000000   \n",
       "25%     1430.000000  5.027000e+03   1190.000000       0.000000    1490.000000   \n",
       "50%     1920.000000  7.620000e+03   1570.000000       0.000000    1850.000000   \n",
       "75%     2560.000000  1.068800e+04   2230.000000     550.000000    2360.000000   \n",
       "max    13540.000000  1.651359e+06   9410.000000    4130.000000    6210.000000   \n",
       "\n",
       "          sqft_lot15  \n",
       "count   15029.000000  \n",
       "mean    12808.982966  \n",
       "std     27687.680801  \n",
       "min       651.000000  \n",
       "25%      5100.000000  \n",
       "50%      7609.000000  \n",
       "75%     10075.000000  \n",
       "max    871200.000000  "
      ],
      "text/html": [
       "<div>\n",
       "<style scoped>\n",
       "    .dataframe tbody tr th:only-of-type {\n",
       "        vertical-align: middle;\n",
       "    }\n",
       "\n",
       "    .dataframe tbody tr th {\n",
       "        vertical-align: top;\n",
       "    }\n",
       "\n",
       "    .dataframe thead th {\n",
       "        text-align: right;\n",
       "    }\n",
       "</style>\n",
       "<table border=\"1\" class=\"dataframe\">\n",
       "  <thead>\n",
       "    <tr style=\"text-align: right;\">\n",
       "      <th></th>\n",
       "      <th>sqft_living</th>\n",
       "      <th>sqft_lot</th>\n",
       "      <th>sqft_above</th>\n",
       "      <th>sqft_basement</th>\n",
       "      <th>sqft_living15</th>\n",
       "      <th>sqft_lot15</th>\n",
       "    </tr>\n",
       "  </thead>\n",
       "  <tbody>\n",
       "    <tr>\n",
       "      <th>count</th>\n",
       "      <td>15029.000000</td>\n",
       "      <td>1.502900e+04</td>\n",
       "      <td>15029.000000</td>\n",
       "      <td>15029.000000</td>\n",
       "      <td>15029.000000</td>\n",
       "      <td>15029.000000</td>\n",
       "    </tr>\n",
       "    <tr>\n",
       "      <th>mean</th>\n",
       "      <td>2084.294497</td>\n",
       "      <td>1.528351e+04</td>\n",
       "      <td>1794.546810</td>\n",
       "      <td>289.747688</td>\n",
       "      <td>1992.966132</td>\n",
       "      <td>12808.982966</td>\n",
       "    </tr>\n",
       "    <tr>\n",
       "      <th>std</th>\n",
       "      <td>921.921821</td>\n",
       "      <td>4.259039e+04</td>\n",
       "      <td>831.620781</td>\n",
       "      <td>440.713233</td>\n",
       "      <td>691.481161</td>\n",
       "      <td>27687.680801</td>\n",
       "    </tr>\n",
       "    <tr>\n",
       "      <th>min</th>\n",
       "      <td>380.000000</td>\n",
       "      <td>5.200000e+02</td>\n",
       "      <td>380.000000</td>\n",
       "      <td>0.000000</td>\n",
       "      <td>399.000000</td>\n",
       "      <td>651.000000</td>\n",
       "    </tr>\n",
       "    <tr>\n",
       "      <th>25%</th>\n",
       "      <td>1430.000000</td>\n",
       "      <td>5.027000e+03</td>\n",
       "      <td>1190.000000</td>\n",
       "      <td>0.000000</td>\n",
       "      <td>1490.000000</td>\n",
       "      <td>5100.000000</td>\n",
       "    </tr>\n",
       "    <tr>\n",
       "      <th>50%</th>\n",
       "      <td>1920.000000</td>\n",
       "      <td>7.620000e+03</td>\n",
       "      <td>1570.000000</td>\n",
       "      <td>0.000000</td>\n",
       "      <td>1850.000000</td>\n",
       "      <td>7609.000000</td>\n",
       "    </tr>\n",
       "    <tr>\n",
       "      <th>75%</th>\n",
       "      <td>2560.000000</td>\n",
       "      <td>1.068800e+04</td>\n",
       "      <td>2230.000000</td>\n",
       "      <td>550.000000</td>\n",
       "      <td>2360.000000</td>\n",
       "      <td>10075.000000</td>\n",
       "    </tr>\n",
       "    <tr>\n",
       "      <th>max</th>\n",
       "      <td>13540.000000</td>\n",
       "      <td>1.651359e+06</td>\n",
       "      <td>9410.000000</td>\n",
       "      <td>4130.000000</td>\n",
       "      <td>6210.000000</td>\n",
       "      <td>871200.000000</td>\n",
       "    </tr>\n",
       "  </tbody>\n",
       "</table>\n",
       "</div>"
      ]
     },
     "execution_count": 23,
     "metadata": {},
     "output_type": "execute_result"
    }
   ],
   "execution_count": 23
  },
  {
   "cell_type": "markdown",
   "id": "5c581d2c",
   "metadata": {},
   "source": [
    "- 15년 데이터는 sqft_living15, sqft_lot15, 14년 데이터는 sqft_living, sqft_lot을 써야하지 않을까?\n",
    "- 지하실은 0인 데이터가 상당히 많아 보인다. 지하실이 있고 없고를 기준으로 파생변수를 만들어도 되지 않을까?"
   ]
  },
  {
   "cell_type": "code",
   "id": "c812cebd",
   "metadata": {
    "ExecuteTime": {
     "end_time": "2024-05-29T15:44:56.503686Z",
     "start_time": "2024-05-29T15:44:56.500095Z"
    }
   },
   "source": [
    "train.loc[:,train.columns.str.contains('sqft')] = np.log1p(train.loc[:,train.columns.str.contains('sqft')])"
   ],
   "outputs": [],
   "execution_count": 24
  },
  {
   "cell_type": "markdown",
   "id": "38d2142d",
   "metadata": {},
   "source": [
    "### 지하실이 있는집과 없는 집의 집값 차이는?"
   ]
  },
  {
   "cell_type": "code",
   "id": "03ab93a8",
   "metadata": {
    "ExecuteTime": {
     "end_time": "2024-05-29T15:44:56.507116Z",
     "start_time": "2024-05-29T15:44:56.504325Z"
    }
   },
   "source": [
    "(train['sqft_basement'] > 0).value_counts()"
   ],
   "outputs": [
    {
     "data": {
      "text/plain": [
       "sqft_basement\n",
       "False    9137\n",
       "True     5892\n",
       "Name: count, dtype: int64"
      ]
     },
     "execution_count": 25,
     "metadata": {},
     "output_type": "execute_result"
    }
   ],
   "execution_count": 25
  },
  {
   "cell_type": "code",
   "id": "b2686124",
   "metadata": {
    "ExecuteTime": {
     "end_time": "2024-05-29T15:44:56.509370Z",
     "start_time": "2024-05-29T15:44:56.507715Z"
    }
   },
   "source": [
    "train['basement_yn'] = train['sqft_basement'] > 0"
   ],
   "outputs": [],
   "execution_count": 26
  },
  {
   "cell_type": "code",
   "id": "0531bfc7",
   "metadata": {
    "ExecuteTime": {
     "end_time": "2024-05-29T15:44:56.511695Z",
     "start_time": "2024-05-29T15:44:56.509912Z"
    }
   },
   "source": [
    "test['basement_yn'] = test['sqft_basement'] > 0"
   ],
   "outputs": [],
   "execution_count": 27
  },
  {
   "cell_type": "markdown",
   "id": "03a23ddf",
   "metadata": {},
   "source": [
    "- 확실히 집 값이 비싼 집은 모두 지하실이 있는 것으로 보인다"
   ]
  },
  {
   "cell_type": "markdown",
   "id": "e011884c",
   "metadata": {},
   "source": [
    "### 15년에 재개발을 한 집은?"
   ]
  },
  {
   "cell_type": "code",
   "id": "9070bf50",
   "metadata": {
    "ExecuteTime": {
     "end_time": "2024-05-29T15:44:56.515305Z",
     "start_time": "2024-05-29T15:44:56.512721Z"
    }
   },
   "source": [
    "sqft_df.columns"
   ],
   "outputs": [
    {
     "data": {
      "text/plain": [
       "Index(['sqft_living', 'sqft_lot', 'sqft_above', 'sqft_basement',\n",
       "       'sqft_living15', 'sqft_lot15'],\n",
       "      dtype='object')"
      ]
     },
     "execution_count": 28,
     "metadata": {},
     "output_type": "execute_result"
    }
   ],
   "execution_count": 28
  },
  {
   "cell_type": "code",
   "id": "9aa1912b",
   "metadata": {
    "ExecuteTime": {
     "end_time": "2024-05-29T15:44:56.517810Z",
     "start_time": "2024-05-29T15:44:56.515843Z"
    }
   },
   "source": [
    "def calc_diff(train):\n",
    "    train['sqft_living_diff'] = train['sqft_living15'] - train['sqft_living']\n",
    "    train['sqft_lot_diff'] = train['sqft_lot15'] - train['sqft_lot']"
   ],
   "outputs": [],
   "execution_count": 29
  },
  {
   "cell_type": "code",
   "id": "02a70130",
   "metadata": {
    "ExecuteTime": {
     "end_time": "2024-05-29T15:44:56.520937Z",
     "start_time": "2024-05-29T15:44:56.518393Z"
    }
   },
   "source": [
    "calc_diff(train)\n",
    "calc_diff(test)"
   ],
   "outputs": [],
   "execution_count": 30
  },
  {
   "cell_type": "markdown",
   "id": "5fa7defd",
   "metadata": {},
   "source": [
    "- 너무 많이 줄어든 것들이 이상하다"
   ]
  },
  {
   "cell_type": "markdown",
   "id": "980aa75c",
   "metadata": {},
   "source": [
    "- 대다수의 값들이 부지크기가 변화한 것을 볼 수 있다\n",
    "- 재개발을 하게 되면 집값이 상승할 수도 있지않을까? 하는 생각이 들었다.\n",
    "- 이에 따라서 재개발에 대한 기대감으로 2014년에 계약했더라도 집값이 높게 측정될 수도 있다는 생각이 들어서 이 고민을 하게 되었다.\n",
    "- 지금은 조금 복잡한 전처리가 될 것으로 보여지기에 추후 다시 생각해보기로 결정했다.\n",
    "\n",
    "- 이번에는 2014년에 계약을 했다면 2014년 값을 쓰고 2015년에 계약했다면 2015년 값을 쓰는 데이터의 전처리만을 하고자한다."
   ]
  },
  {
   "cell_type": "markdown",
   "id": "7c6c82b6",
   "metadata": {},
   "source": [
    "### 2014년에 계약을 했다면 2014년 값을 쓰고 2015년에 계약했다면 2015년 값을 사용"
   ]
  },
  {
   "cell_type": "code",
   "id": "814c3075",
   "metadata": {
    "ExecuteTime": {
     "end_time": "2024-05-29T15:44:56.523660Z",
     "start_time": "2024-05-29T15:44:56.521480Z"
    }
   },
   "source": [
    "def preprocessing_sqft(df):\n",
    "    df['selected_sqft_living'] = np.where(df['year'] == 2014, df['sqft_living'], df['sqft_living15'])\n",
    "    df['selected_sqft_lot'] = np.where(df['year'] == 2014, df['sqft_lot'], df['sqft_lot15'])\n",
    "    df.drop(['sqft_living','sqft_living15','sqft_lot','sqft_lot15'], axis=1, inplace=True)\n",
    "    # 합쳐준 이름을 'sqft_living','sqft_lot'으로 바꿔준다\n",
    "    df.columns = df.columns.str.replace('selected_','')"
   ],
   "outputs": [],
   "execution_count": 31
  },
  {
   "cell_type": "code",
   "id": "541ca83f",
   "metadata": {
    "ExecuteTime": {
     "end_time": "2024-05-29T15:44:56.528257Z",
     "start_time": "2024-05-29T15:44:56.524194Z"
    }
   },
   "source": [
    "preprocessing_sqft(train)\n",
    "preprocessing_sqft(test)"
   ],
   "outputs": [],
   "execution_count": 32
  },
  {
   "cell_type": "code",
   "id": "e7d052db",
   "metadata": {
    "scrolled": true,
    "ExecuteTime": {
     "end_time": "2024-05-29T15:44:56.540084Z",
     "start_time": "2024-05-29T15:44:56.533052Z"
    }
   },
   "source": [
    "# train.drop(['sqft_living','sqft_living15','sqft_lot','sqft_lot15'], axis=1, inplace=True)\n",
    "train.head()"
   ],
   "outputs": [
    {
     "data": {
      "text/plain": [
       "                  date     price  bedrooms  bathrooms  floors  waterfront  \\\n",
       "0  1413158400000000000  221900.0         3       1.00     1.0           0   \n",
       "1  1424822400000000000  180000.0         2       1.00     1.0           0   \n",
       "2  1424217600000000000  510000.0         3       2.00     1.0           0   \n",
       "3  1403827200000000000  257500.0         3       2.25     2.0           0   \n",
       "4  1421280000000000000  291850.0         3       1.50     1.0           0   \n",
       "\n",
       "   view  condition  grade  sqft_above  ...  year  month  day  day_of_week  \\\n",
       "0     0          3      7    7.074117  ...  2014     10   13            0   \n",
       "1     0          3      6    6.647688  ...  2015      2   25            2   \n",
       "2     0          3      8    7.427144  ...  2015      2   18            2   \n",
       "3     0          3      7    7.447751  ...  2014      6   27            4   \n",
       "4     0          3      7    6.966967  ...  2015      1   15            3   \n",
       "\n",
       "   quarter  basement_yn  sqft_living_diff  sqft_lot_diff  sqft_living  \\\n",
       "0        4        False          0.127054       0.000000     7.074117   \n",
       "1        1        False          1.261066      -0.215399     7.908755   \n",
       "2        1        False          0.068953      -0.074079     7.496097   \n",
       "3        2        False          0.266033       0.000000     7.447751   \n",
       "4        1        False          0.442169       0.000000     7.409136   \n",
       "\n",
       "   sqft_lot  \n",
       "0  8.639588  \n",
       "1  8.995041  \n",
       "2  8.923191  \n",
       "3  8.827615  \n",
       "4  9.181118  \n",
       "\n",
       "[5 rows x 26 columns]"
      ],
      "text/html": [
       "<div>\n",
       "<style scoped>\n",
       "    .dataframe tbody tr th:only-of-type {\n",
       "        vertical-align: middle;\n",
       "    }\n",
       "\n",
       "    .dataframe tbody tr th {\n",
       "        vertical-align: top;\n",
       "    }\n",
       "\n",
       "    .dataframe thead th {\n",
       "        text-align: right;\n",
       "    }\n",
       "</style>\n",
       "<table border=\"1\" class=\"dataframe\">\n",
       "  <thead>\n",
       "    <tr style=\"text-align: right;\">\n",
       "      <th></th>\n",
       "      <th>date</th>\n",
       "      <th>price</th>\n",
       "      <th>bedrooms</th>\n",
       "      <th>bathrooms</th>\n",
       "      <th>floors</th>\n",
       "      <th>waterfront</th>\n",
       "      <th>view</th>\n",
       "      <th>condition</th>\n",
       "      <th>grade</th>\n",
       "      <th>sqft_above</th>\n",
       "      <th>...</th>\n",
       "      <th>year</th>\n",
       "      <th>month</th>\n",
       "      <th>day</th>\n",
       "      <th>day_of_week</th>\n",
       "      <th>quarter</th>\n",
       "      <th>basement_yn</th>\n",
       "      <th>sqft_living_diff</th>\n",
       "      <th>sqft_lot_diff</th>\n",
       "      <th>sqft_living</th>\n",
       "      <th>sqft_lot</th>\n",
       "    </tr>\n",
       "  </thead>\n",
       "  <tbody>\n",
       "    <tr>\n",
       "      <th>0</th>\n",
       "      <td>1413158400000000000</td>\n",
       "      <td>221900.0</td>\n",
       "      <td>3</td>\n",
       "      <td>1.00</td>\n",
       "      <td>1.0</td>\n",
       "      <td>0</td>\n",
       "      <td>0</td>\n",
       "      <td>3</td>\n",
       "      <td>7</td>\n",
       "      <td>7.074117</td>\n",
       "      <td>...</td>\n",
       "      <td>2014</td>\n",
       "      <td>10</td>\n",
       "      <td>13</td>\n",
       "      <td>0</td>\n",
       "      <td>4</td>\n",
       "      <td>False</td>\n",
       "      <td>0.127054</td>\n",
       "      <td>0.000000</td>\n",
       "      <td>7.074117</td>\n",
       "      <td>8.639588</td>\n",
       "    </tr>\n",
       "    <tr>\n",
       "      <th>1</th>\n",
       "      <td>1424822400000000000</td>\n",
       "      <td>180000.0</td>\n",
       "      <td>2</td>\n",
       "      <td>1.00</td>\n",
       "      <td>1.0</td>\n",
       "      <td>0</td>\n",
       "      <td>0</td>\n",
       "      <td>3</td>\n",
       "      <td>6</td>\n",
       "      <td>6.647688</td>\n",
       "      <td>...</td>\n",
       "      <td>2015</td>\n",
       "      <td>2</td>\n",
       "      <td>25</td>\n",
       "      <td>2</td>\n",
       "      <td>1</td>\n",
       "      <td>False</td>\n",
       "      <td>1.261066</td>\n",
       "      <td>-0.215399</td>\n",
       "      <td>7.908755</td>\n",
       "      <td>8.995041</td>\n",
       "    </tr>\n",
       "    <tr>\n",
       "      <th>2</th>\n",
       "      <td>1424217600000000000</td>\n",
       "      <td>510000.0</td>\n",
       "      <td>3</td>\n",
       "      <td>2.00</td>\n",
       "      <td>1.0</td>\n",
       "      <td>0</td>\n",
       "      <td>0</td>\n",
       "      <td>3</td>\n",
       "      <td>8</td>\n",
       "      <td>7.427144</td>\n",
       "      <td>...</td>\n",
       "      <td>2015</td>\n",
       "      <td>2</td>\n",
       "      <td>18</td>\n",
       "      <td>2</td>\n",
       "      <td>1</td>\n",
       "      <td>False</td>\n",
       "      <td>0.068953</td>\n",
       "      <td>-0.074079</td>\n",
       "      <td>7.496097</td>\n",
       "      <td>8.923191</td>\n",
       "    </tr>\n",
       "    <tr>\n",
       "      <th>3</th>\n",
       "      <td>1403827200000000000</td>\n",
       "      <td>257500.0</td>\n",
       "      <td>3</td>\n",
       "      <td>2.25</td>\n",
       "      <td>2.0</td>\n",
       "      <td>0</td>\n",
       "      <td>0</td>\n",
       "      <td>3</td>\n",
       "      <td>7</td>\n",
       "      <td>7.447751</td>\n",
       "      <td>...</td>\n",
       "      <td>2014</td>\n",
       "      <td>6</td>\n",
       "      <td>27</td>\n",
       "      <td>4</td>\n",
       "      <td>2</td>\n",
       "      <td>False</td>\n",
       "      <td>0.266033</td>\n",
       "      <td>0.000000</td>\n",
       "      <td>7.447751</td>\n",
       "      <td>8.827615</td>\n",
       "    </tr>\n",
       "    <tr>\n",
       "      <th>4</th>\n",
       "      <td>1421280000000000000</td>\n",
       "      <td>291850.0</td>\n",
       "      <td>3</td>\n",
       "      <td>1.50</td>\n",
       "      <td>1.0</td>\n",
       "      <td>0</td>\n",
       "      <td>0</td>\n",
       "      <td>3</td>\n",
       "      <td>7</td>\n",
       "      <td>6.966967</td>\n",
       "      <td>...</td>\n",
       "      <td>2015</td>\n",
       "      <td>1</td>\n",
       "      <td>15</td>\n",
       "      <td>3</td>\n",
       "      <td>1</td>\n",
       "      <td>False</td>\n",
       "      <td>0.442169</td>\n",
       "      <td>0.000000</td>\n",
       "      <td>7.409136</td>\n",
       "      <td>9.181118</td>\n",
       "    </tr>\n",
       "  </tbody>\n",
       "</table>\n",
       "<p>5 rows × 26 columns</p>\n",
       "</div>"
      ]
     },
     "execution_count": 33,
     "metadata": {},
     "output_type": "execute_result"
    }
   ],
   "execution_count": 33
  },
  {
   "cell_type": "markdown",
   "id": "b62ef87e",
   "metadata": {},
   "source": [
    "## 집 정보 관련 피처\n",
    "- floors : 집의 층 수\n",
    "- waterfront : 집의 전방에 강이 흐르는지 유무 (a.k.a. 리버뷰)"
   ]
  },
  {
   "cell_type": "markdown",
   "id": "bf0870b6",
   "metadata": {},
   "source": [
    "## 집 위치 정보 피처\n",
    "- zipcode : 우편번호\n",
    "- lat : 위도\n",
    "- long : 경도"
   ]
  },
  {
   "cell_type": "markdown",
   "id": "5f4e5cea",
   "metadata": {},
   "source": [
    "### 우편번호 별 집값 분포 시각화"
   ]
  },
  {
   "cell_type": "markdown",
   "id": "342058c0",
   "metadata": {},
   "source": [
    "- 확실히 zipcode는 위도와 경도(위치)에 따라 붙어있음을 알 수 있다"
   ]
  },
  {
   "cell_type": "markdown",
   "id": "36d260f2",
   "metadata": {},
   "source": [
    "### 위도와 경도에 따른 집값 시각화"
   ]
  },
  {
   "cell_type": "markdown",
   "id": "b953d41b",
   "metadata": {},
   "source": [
    "### 파생변수 생성\n",
    "- zipcode별 집값의 중앙값을 파생변수로 생성한다\n",
    "- 평균을 이용한다면 이상치의 영향을 받을 수도 있기에 중앙값을 이용하였다"
   ]
  },
  {
   "cell_type": "code",
   "id": "2704e982",
   "metadata": {
    "ExecuteTime": {
     "end_time": "2024-05-29T15:44:56.546071Z",
     "start_time": "2024-05-29T15:44:56.540703Z"
    }
   },
   "source": [
    "median_price_by_zipcode = train.groupby('zipcode')['price'].median().reset_index()\n",
    "median_price_by_zipcode.columns = ['zipcode', 'median_price']\n",
    "train = train.merge(median_price_by_zipcode, on='zipcode')"
   ],
   "outputs": [],
   "execution_count": 34
  },
  {
   "cell_type": "code",
   "id": "0d220c40",
   "metadata": {
    "ExecuteTime": {
     "end_time": "2024-05-29T15:44:56.549976Z",
     "start_time": "2024-05-29T15:44:56.546820Z"
    }
   },
   "source": [
    "median_price_by_zipcode.median_price.describe()"
   ],
   "outputs": [
    {
     "data": {
      "text/plain": [
       "count    7.000000e+01\n",
       "mean     5.049974e+05\n",
       "std      2.609833e+05\n",
       "min      2.350000e+05\n",
       "25%      3.259375e+05\n",
       "50%      4.506250e+05\n",
       "75%      5.787500e+05\n",
       "max      1.950000e+06\n",
       "Name: median_price, dtype: float64"
      ]
     },
     "execution_count": 35,
     "metadata": {},
     "output_type": "execute_result"
    }
   ],
   "execution_count": 35
  },
  {
   "cell_type": "code",
   "id": "dcfcc048",
   "metadata": {
    "ExecuteTime": {
     "end_time": "2024-05-29T15:44:56.553947Z",
     "start_time": "2024-05-29T15:44:56.550507Z"
    }
   },
   "source": [
    "# test data에도 같은 처리를 해준다\n",
    "test = test.merge(median_price_by_zipcode, on='zipcode')"
   ],
   "outputs": [],
   "execution_count": 36
  },
  {
   "cell_type": "code",
   "id": "d888d358",
   "metadata": {
    "ExecuteTime": {
     "end_time": "2024-05-29T15:44:56.568558Z",
     "start_time": "2024-05-29T15:44:56.554605Z"
    }
   },
   "source": [
    "train.head()"
   ],
   "outputs": [
    {
     "data": {
      "text/plain": [
       "                  date     price  bedrooms  bathrooms  floors  waterfront  \\\n",
       "0  1413158400000000000  221900.0         3       1.00     1.0           0   \n",
       "1  1403481600000000000  205425.0         2       1.00     1.0           0   \n",
       "2  1405555200000000000  445000.0         3       2.25     1.0           0   \n",
       "3  1424995200000000000  170000.0         2       1.00     1.0           0   \n",
       "4  1430438400000000000  245000.0         3       1.75     1.0           0   \n",
       "\n",
       "   view  condition  grade  sqft_above  ...  month  day  day_of_week  quarter  \\\n",
       "0     0          3      7    7.074117  ...     10   13            0        4   \n",
       "1     0          4      6    6.781058  ...      6   23            0        2   \n",
       "2     2          3      8    7.390799  ...      7   17            3        3   \n",
       "3     0          3      6    6.758095  ...      2   27            4        1   \n",
       "4     0          3      7    7.462215  ...      5    1            4        2   \n",
       "\n",
       "   basement_yn  sqft_living_diff  sqft_lot_diff  sqft_living   sqft_lot  \\\n",
       "0        False          0.127054       0.000000     7.074117   8.639588   \n",
       "1        False          0.301491       0.000000     6.781058   8.821880   \n",
       "2         True          0.236289       0.060438     7.650169   9.012133   \n",
       "3        False          0.651042       0.510750     7.409136   9.079776   \n",
       "4        False         -0.681157       1.915426     6.781058  11.269694   \n",
       "\n",
       "   median_price  \n",
       "0      273500.0  \n",
       "1      273500.0  \n",
       "2      273500.0  \n",
       "3      273500.0  \n",
       "4      273500.0  \n",
       "\n",
       "[5 rows x 27 columns]"
      ],
      "text/html": [
       "<div>\n",
       "<style scoped>\n",
       "    .dataframe tbody tr th:only-of-type {\n",
       "        vertical-align: middle;\n",
       "    }\n",
       "\n",
       "    .dataframe tbody tr th {\n",
       "        vertical-align: top;\n",
       "    }\n",
       "\n",
       "    .dataframe thead th {\n",
       "        text-align: right;\n",
       "    }\n",
       "</style>\n",
       "<table border=\"1\" class=\"dataframe\">\n",
       "  <thead>\n",
       "    <tr style=\"text-align: right;\">\n",
       "      <th></th>\n",
       "      <th>date</th>\n",
       "      <th>price</th>\n",
       "      <th>bedrooms</th>\n",
       "      <th>bathrooms</th>\n",
       "      <th>floors</th>\n",
       "      <th>waterfront</th>\n",
       "      <th>view</th>\n",
       "      <th>condition</th>\n",
       "      <th>grade</th>\n",
       "      <th>sqft_above</th>\n",
       "      <th>...</th>\n",
       "      <th>month</th>\n",
       "      <th>day</th>\n",
       "      <th>day_of_week</th>\n",
       "      <th>quarter</th>\n",
       "      <th>basement_yn</th>\n",
       "      <th>sqft_living_diff</th>\n",
       "      <th>sqft_lot_diff</th>\n",
       "      <th>sqft_living</th>\n",
       "      <th>sqft_lot</th>\n",
       "      <th>median_price</th>\n",
       "    </tr>\n",
       "  </thead>\n",
       "  <tbody>\n",
       "    <tr>\n",
       "      <th>0</th>\n",
       "      <td>1413158400000000000</td>\n",
       "      <td>221900.0</td>\n",
       "      <td>3</td>\n",
       "      <td>1.00</td>\n",
       "      <td>1.0</td>\n",
       "      <td>0</td>\n",
       "      <td>0</td>\n",
       "      <td>3</td>\n",
       "      <td>7</td>\n",
       "      <td>7.074117</td>\n",
       "      <td>...</td>\n",
       "      <td>10</td>\n",
       "      <td>13</td>\n",
       "      <td>0</td>\n",
       "      <td>4</td>\n",
       "      <td>False</td>\n",
       "      <td>0.127054</td>\n",
       "      <td>0.000000</td>\n",
       "      <td>7.074117</td>\n",
       "      <td>8.639588</td>\n",
       "      <td>273500.0</td>\n",
       "    </tr>\n",
       "    <tr>\n",
       "      <th>1</th>\n",
       "      <td>1403481600000000000</td>\n",
       "      <td>205425.0</td>\n",
       "      <td>2</td>\n",
       "      <td>1.00</td>\n",
       "      <td>1.0</td>\n",
       "      <td>0</td>\n",
       "      <td>0</td>\n",
       "      <td>4</td>\n",
       "      <td>6</td>\n",
       "      <td>6.781058</td>\n",
       "      <td>...</td>\n",
       "      <td>6</td>\n",
       "      <td>23</td>\n",
       "      <td>0</td>\n",
       "      <td>2</td>\n",
       "      <td>False</td>\n",
       "      <td>0.301491</td>\n",
       "      <td>0.000000</td>\n",
       "      <td>6.781058</td>\n",
       "      <td>8.821880</td>\n",
       "      <td>273500.0</td>\n",
       "    </tr>\n",
       "    <tr>\n",
       "      <th>2</th>\n",
       "      <td>1405555200000000000</td>\n",
       "      <td>445000.0</td>\n",
       "      <td>3</td>\n",
       "      <td>2.25</td>\n",
       "      <td>1.0</td>\n",
       "      <td>0</td>\n",
       "      <td>2</td>\n",
       "      <td>3</td>\n",
       "      <td>8</td>\n",
       "      <td>7.390799</td>\n",
       "      <td>...</td>\n",
       "      <td>7</td>\n",
       "      <td>17</td>\n",
       "      <td>3</td>\n",
       "      <td>3</td>\n",
       "      <td>True</td>\n",
       "      <td>0.236289</td>\n",
       "      <td>0.060438</td>\n",
       "      <td>7.650169</td>\n",
       "      <td>9.012133</td>\n",
       "      <td>273500.0</td>\n",
       "    </tr>\n",
       "    <tr>\n",
       "      <th>3</th>\n",
       "      <td>1424995200000000000</td>\n",
       "      <td>170000.0</td>\n",
       "      <td>2</td>\n",
       "      <td>1.00</td>\n",
       "      <td>1.0</td>\n",
       "      <td>0</td>\n",
       "      <td>0</td>\n",
       "      <td>3</td>\n",
       "      <td>6</td>\n",
       "      <td>6.758095</td>\n",
       "      <td>...</td>\n",
       "      <td>2</td>\n",
       "      <td>27</td>\n",
       "      <td>4</td>\n",
       "      <td>1</td>\n",
       "      <td>False</td>\n",
       "      <td>0.651042</td>\n",
       "      <td>0.510750</td>\n",
       "      <td>7.409136</td>\n",
       "      <td>9.079776</td>\n",
       "      <td>273500.0</td>\n",
       "    </tr>\n",
       "    <tr>\n",
       "      <th>4</th>\n",
       "      <td>1430438400000000000</td>\n",
       "      <td>245000.0</td>\n",
       "      <td>3</td>\n",
       "      <td>1.75</td>\n",
       "      <td>1.0</td>\n",
       "      <td>0</td>\n",
       "      <td>0</td>\n",
       "      <td>3</td>\n",
       "      <td>7</td>\n",
       "      <td>7.462215</td>\n",
       "      <td>...</td>\n",
       "      <td>5</td>\n",
       "      <td>1</td>\n",
       "      <td>4</td>\n",
       "      <td>2</td>\n",
       "      <td>False</td>\n",
       "      <td>-0.681157</td>\n",
       "      <td>1.915426</td>\n",
       "      <td>6.781058</td>\n",
       "      <td>11.269694</td>\n",
       "      <td>273500.0</td>\n",
       "    </tr>\n",
       "  </tbody>\n",
       "</table>\n",
       "<p>5 rows × 27 columns</p>\n",
       "</div>"
      ]
     },
     "execution_count": 37,
     "metadata": {},
     "output_type": "execute_result"
    }
   ],
   "execution_count": 37
  },
  {
   "cell_type": "markdown",
   "id": "00ad8b03",
   "metadata": {},
   "source": [
    "### 연도 관련 피처\n",
    "- yr_built : 집을 지은 년도\n",
    "- yr_renovated : 집을 재건축한 년도"
   ]
  },
  {
   "cell_type": "code",
   "id": "c44d922c",
   "metadata": {
    "ExecuteTime": {
     "end_time": "2024-05-29T15:44:56.582743Z",
     "start_time": "2024-05-29T15:44:56.569281Z"
    }
   },
   "source": [
    "train[['yr_built', 'yr_renovated']].describe()"
   ],
   "outputs": [
    {
     "data": {
      "text/plain": [
       "           yr_built  yr_renovated\n",
       "count  15029.000000  15029.000000\n",
       "mean    1971.098277     83.832391\n",
       "std       29.409568    400.474919\n",
       "min     1900.000000      0.000000\n",
       "25%     1951.000000      0.000000\n",
       "50%     1975.000000      0.000000\n",
       "75%     1997.000000      0.000000\n",
       "max     2015.000000   2015.000000"
      ],
      "text/html": [
       "<div>\n",
       "<style scoped>\n",
       "    .dataframe tbody tr th:only-of-type {\n",
       "        vertical-align: middle;\n",
       "    }\n",
       "\n",
       "    .dataframe tbody tr th {\n",
       "        vertical-align: top;\n",
       "    }\n",
       "\n",
       "    .dataframe thead th {\n",
       "        text-align: right;\n",
       "    }\n",
       "</style>\n",
       "<table border=\"1\" class=\"dataframe\">\n",
       "  <thead>\n",
       "    <tr style=\"text-align: right;\">\n",
       "      <th></th>\n",
       "      <th>yr_built</th>\n",
       "      <th>yr_renovated</th>\n",
       "    </tr>\n",
       "  </thead>\n",
       "  <tbody>\n",
       "    <tr>\n",
       "      <th>count</th>\n",
       "      <td>15029.000000</td>\n",
       "      <td>15029.000000</td>\n",
       "    </tr>\n",
       "    <tr>\n",
       "      <th>mean</th>\n",
       "      <td>1971.098277</td>\n",
       "      <td>83.832391</td>\n",
       "    </tr>\n",
       "    <tr>\n",
       "      <th>std</th>\n",
       "      <td>29.409568</td>\n",
       "      <td>400.474919</td>\n",
       "    </tr>\n",
       "    <tr>\n",
       "      <th>min</th>\n",
       "      <td>1900.000000</td>\n",
       "      <td>0.000000</td>\n",
       "    </tr>\n",
       "    <tr>\n",
       "      <th>25%</th>\n",
       "      <td>1951.000000</td>\n",
       "      <td>0.000000</td>\n",
       "    </tr>\n",
       "    <tr>\n",
       "      <th>50%</th>\n",
       "      <td>1975.000000</td>\n",
       "      <td>0.000000</td>\n",
       "    </tr>\n",
       "    <tr>\n",
       "      <th>75%</th>\n",
       "      <td>1997.000000</td>\n",
       "      <td>0.000000</td>\n",
       "    </tr>\n",
       "    <tr>\n",
       "      <th>max</th>\n",
       "      <td>2015.000000</td>\n",
       "      <td>2015.000000</td>\n",
       "    </tr>\n",
       "  </tbody>\n",
       "</table>\n",
       "</div>"
      ]
     },
     "execution_count": 38,
     "metadata": {},
     "output_type": "execute_result"
    }
   ],
   "execution_count": 38
  },
  {
   "cell_type": "markdown",
   "id": "982fda47",
   "metadata": {},
   "source": [
    "- 생각보다 오래된 건물들이 많이 있었다"
   ]
  },
  {
   "cell_type": "markdown",
   "id": "ab22568c",
   "metadata": {},
   "source": [
    "- 재건축을 안한 집이 많아서 잘 보이지 않는다"
   ]
  },
  {
   "cell_type": "markdown",
   "id": "db5fe639",
   "metadata": {},
   "source": [
    "0을 빼고 다시 시각화를 진행하였다"
   ]
  },
  {
   "cell_type": "markdown",
   "id": "19e4a87f",
   "metadata": {},
   "source": [
    "- 2014년에 재건축이 많았다"
   ]
  },
  {
   "cell_type": "markdown",
   "id": "4b50f264",
   "metadata": {},
   "source": [
    "### 재건축 여부도 파생변수로 추가"
   ]
  },
  {
   "cell_type": "code",
   "id": "40781302",
   "metadata": {
    "ExecuteTime": {
     "end_time": "2024-05-29T15:44:56.587120Z",
     "start_time": "2024-05-29T15:44:56.583622Z"
    }
   },
   "source": [
    "train['renovated_yn'] = train['yr_renovated'] > 0\n",
    "test['renovated_yn'] = test['yr_renovated'] > 0"
   ],
   "outputs": [],
   "execution_count": 39
  },
  {
   "cell_type": "markdown",
   "id": "8f888a93",
   "metadata": {},
   "source": [
    "### 파생변수 생성\n",
    "**집 나이 계산**:\n",
    "   - `np.where` 함수를 사용하여 조건을 설정하여 집 나이를 계산한다.\n",
    "     - 만약 `yr_renovated` 값이 `0`이 아니면, 즉 재건축이 되었으면 `year - yr_renovated`를 계산한다.\n",
    "     - 그렇지 않으면 `year - yr_built`를 계산한다.\n",
    "   - 이를 통해 `house_age`라는 새로운 컬럼을 생성"
   ]
  },
  {
   "cell_type": "code",
   "id": "80d77086",
   "metadata": {
    "ExecuteTime": {
     "end_time": "2024-05-29T15:44:56.589534Z",
     "start_time": "2024-05-29T15:44:56.587748Z"
    }
   },
   "source": [
    "def calc_age(df):\n",
    "    df['house_age'] = np.where(df['yr_renovated'] != 0, df['year'] - df['yr_renovated'], df['year'] - df['yr_built'])"
   ],
   "outputs": [],
   "execution_count": 40
  },
  {
   "cell_type": "code",
   "id": "38734b3d",
   "metadata": {
    "ExecuteTime": {
     "end_time": "2024-05-29T15:44:56.592899Z",
     "start_time": "2024-05-29T15:44:56.590116Z"
    }
   },
   "source": [
    "calc_age(train)"
   ],
   "outputs": [],
   "execution_count": 41
  },
  {
   "cell_type": "code",
   "id": "ecbe3b08",
   "metadata": {
    "ExecuteTime": {
     "end_time": "2024-05-29T15:44:56.596864Z",
     "start_time": "2024-05-29T15:44:56.594164Z"
    }
   },
   "source": [
    "calc_age(test)"
   ],
   "outputs": [],
   "execution_count": 42
  },
  {
   "cell_type": "markdown",
   "id": "ccdb2550",
   "metadata": {},
   "source": [
    "### 집에 대한 평가 피처\n",
    "- view : 집이 얼마나 좋아 보이는지의 정도\n",
    "- condition : 집의 전반적인 상태\n",
    "- grade : King County grading 시스템 기준으로 매긴 집의 등급"
   ]
  },
  {
   "cell_type": "markdown",
   "id": "f8073b1a",
   "metadata": {},
   "source": [
    "- 확실히 집 상태의 평가가 높아지면 더 값이 비싸지는 경향을 볼 수 있다"
   ]
  },
  {
   "cell_type": "markdown",
   "id": "33e5c293",
   "metadata": {},
   "source": [
    "### 파생변수 생성\n",
    "- view, condition, grade의 평균을 파생변수로 생성하고자 한다"
   ]
  },
  {
   "cell_type": "code",
   "id": "c7cd358b",
   "metadata": {
    "ExecuteTime": {
     "end_time": "2024-05-29T15:44:56.598967Z",
     "start_time": "2024-05-29T15:44:56.597482Z"
    }
   },
   "source": [
    "def get_score(df):\n",
    "    df['score'] = df[['view', 'condition', 'grade']].mean(axis=1)"
   ],
   "outputs": [],
   "execution_count": 43
  },
  {
   "cell_type": "code",
   "id": "02726f98",
   "metadata": {
    "ExecuteTime": {
     "end_time": "2024-05-29T15:44:56.602968Z",
     "start_time": "2024-05-29T15:44:56.599533Z"
    }
   },
   "source": [
    "get_score(train)"
   ],
   "outputs": [],
   "execution_count": 44
  },
  {
   "cell_type": "code",
   "id": "8e7a27a6",
   "metadata": {
    "ExecuteTime": {
     "end_time": "2024-05-29T15:44:56.606057Z",
     "start_time": "2024-05-29T15:44:56.603610Z"
    }
   },
   "source": [
    "get_score(test)"
   ],
   "outputs": [],
   "execution_count": 45
  },
  {
   "cell_type": "markdown",
   "id": "412320c3",
   "metadata": {},
   "source": [
    "## 피처 선정"
   ]
  },
  {
   "cell_type": "code",
   "id": "2c9db9fd",
   "metadata": {
    "ExecuteTime": {
     "end_time": "2024-05-29T15:44:56.608424Z",
     "start_time": "2024-05-29T15:44:56.606683Z"
    }
   },
   "source": "train['price'] = np.log1p(train['price'])",
   "outputs": [],
   "execution_count": 46
  },
  {
   "metadata": {
    "ExecuteTime": {
     "end_time": "2024-05-29T15:44:56.628961Z",
     "start_time": "2024-05-29T15:44:56.608945Z"
    }
   },
   "cell_type": "code",
   "source": [
    "correlation_matrix = train.corr()\n",
    "correlation_matrix.price"
   ],
   "id": "39822f9d72df9fab",
   "outputs": [
    {
     "data": {
      "text/plain": [
       "date                0.001475\n",
       "price               1.000000\n",
       "bedrooms            0.359418\n",
       "bathrooms           0.551879\n",
       "floors              0.317828\n",
       "waterfront          0.172599\n",
       "view                0.347493\n",
       "condition           0.042161\n",
       "grade               0.707611\n",
       "sqft_above          0.591088\n",
       "sqft_basement       0.231755\n",
       "yr_built            0.076438\n",
       "yr_renovated        0.127487\n",
       "zipcode            -0.039441\n",
       "lat                 0.444423\n",
       "long                0.055219\n",
       "year                0.009736\n",
       "month              -0.013622\n",
       "day                -0.020304\n",
       "day_of_week        -0.000471\n",
       "quarter            -0.011881\n",
       "basement_yn         0.207486\n",
       "sqft_living_diff   -0.310703\n",
       "sqft_lot_diff      -0.075450\n",
       "sqft_living         0.657869\n",
       "sqft_lot            0.140776\n",
       "median_price        0.698083\n",
       "renovated_yn        0.127196\n",
       "house_age          -0.128667\n",
       "score               0.690882\n",
       "Name: price, dtype: float64"
      ]
     },
     "execution_count": 47,
     "metadata": {},
     "output_type": "execute_result"
    }
   ],
   "execution_count": 47
  },
  {
   "cell_type": "code",
   "id": "1752e156",
   "metadata": {
    "ExecuteTime": {
     "end_time": "2024-05-29T15:44:56.631001Z",
     "start_time": "2024-05-29T15:44:56.629668Z"
    }
   },
   "source": [
    "# drop_cols = correlation_matrix.columns[np.abs(correlation_matrix.price) < 0.1]\n",
    "# train.drop(drop_cols, axis=1, inplace=True)"
   ],
   "outputs": [],
   "execution_count": 48
  },
  {
   "cell_type": "code",
   "id": "bfe98789",
   "metadata": {
    "ExecuteTime": {
     "end_time": "2024-05-29T15:44:56.633599Z",
     "start_time": "2024-05-29T15:44:56.631578Z"
    }
   },
   "source": [
    "train.columns"
   ],
   "outputs": [
    {
     "data": {
      "text/plain": [
       "Index(['date', 'price', 'bedrooms', 'bathrooms', 'floors', 'waterfront',\n",
       "       'view', 'condition', 'grade', 'sqft_above', 'sqft_basement', 'yr_built',\n",
       "       'yr_renovated', 'zipcode', 'lat', 'long', 'year', 'month', 'day',\n",
       "       'day_of_week', 'quarter', 'basement_yn', 'sqft_living_diff',\n",
       "       'sqft_lot_diff', 'sqft_living', 'sqft_lot', 'median_price',\n",
       "       'renovated_yn', 'house_age', 'score'],\n",
       "      dtype='object')"
      ]
     },
     "execution_count": 49,
     "metadata": {},
     "output_type": "execute_result"
    }
   ],
   "execution_count": 49
  },
  {
   "cell_type": "code",
   "id": "6c2ad006",
   "metadata": {
    "scrolled": true,
    "ExecuteTime": {
     "end_time": "2024-05-29T15:44:56.635628Z",
     "start_time": "2024-05-29T15:44:56.634132Z"
    }
   },
   "source": [
    "# test.drop(drop_cols, axis=1, inplace=True)"
   ],
   "outputs": [],
   "execution_count": 50
  },
  {
   "metadata": {
    "ExecuteTime": {
     "end_time": "2024-05-29T15:44:56.643481Z",
     "start_time": "2024-05-29T15:44:56.636230Z"
    }
   },
   "cell_type": "code",
   "source": [
    "for df in [train, test]:\n",
    "    \n",
    "    df['sqft_total_size'] = df['sqft_above'] + df['sqft_basement'] + df['sqft_lot']\n",
    "    \n",
    "    # 15년도가 아닌 주변 15개 가구 평균값\n",
    "    df['sqft_total_size'] = df['sqft_living'] + df['sqft_lot']\n",
    "    \n",
    "    # 재건축 여부 \n",
    "    df['is_renovated'] = df['yr_renovated'] - df['yr_built']\n",
    "    df['is_renovated'] = df['is_renovated'].apply(lambda x: 0 if x == 0 else 1)\n",
    "    df['date'] = df['date'].astype('int')"
   ],
   "id": "a0f4fc5cf6fe7563",
   "outputs": [],
   "execution_count": 51
  },
  {
   "metadata": {},
   "cell_type": "markdown",
   "source": [
    "## zipcode를 어떻게 사용해볼까 고민하다가 아래의 코드를 발견해서 참고하였다\n",
    "- https://www.kaggle.com/code/reddust/feat-groupbyzipcode"
   ],
   "id": "dfebec66bfd17b29"
  },
  {
   "metadata": {
    "ExecuteTime": {
     "end_time": "2024-05-29T15:44:56.692337Z",
     "start_time": "2024-05-29T15:44:56.644048Z"
    }
   },
   "cell_type": "code",
   "source": [
    "for data in [train, test]:\n",
    "    data['zipcode'] = data['zipcode'].astype(str)\n",
    "    # 45, 5, 35, 4\n",
    "    data['zipcode-3'] = 'z_' + data['zipcode'].str[2:3]\n",
    "    data['zipcode-4'] = 'z_' + data['zipcode'].str[3:4]\n",
    "    data['zipcode-5'] = 'z_' + data['zipcode'].str[4:5]\n",
    "    data['zipcode-34'] = 'z_' + data['zipcode'].str[2:4]\n",
    "    data['zipcode-45'] = 'z_' + data['zipcode'].str[3:5]\n",
    "    data['zipcode-35'] = 'z_' + data['zipcode'].str[2:3] + data['zipcode'].str[4:5]\n",
    "    \n",
    "from sklearn.preprocessing import LabelEncoder, OneHotEncoder\n",
    "# zipcode LabelEncoding\n",
    "for df in [train, test]:\n",
    "    le = LabelEncoder()\n",
    "    df['zipcode'] = le.fit_transform(df['zipcode'])\n",
    "    df['zipcode-3'] = le.fit_transform(df['zipcode-3'])\n",
    "    df['zipcode-4'] = le.fit_transform(df['zipcode-4'])\n",
    "    df['zipcode-5'] = le.fit_transform(df['zipcode-5'])\n",
    "    df['zipcode-34'] = le.fit_transform(df['zipcode-34'])\n",
    "    df['zipcode-45'] = le.fit_transform(df['zipcode-45'])\n",
    "    df['zipcode-35'] = le.fit_transform(df['zipcode-35'])"
   ],
   "id": "6f378067764b597e",
   "outputs": [],
   "execution_count": 52
  },
  {
   "metadata": {
    "ExecuteTime": {
     "end_time": "2024-05-29T15:44:56.769494Z",
     "start_time": "2024-05-29T15:44:56.732626Z"
    }
   },
   "cell_type": "code",
   "source": [
    "from sklearn.decomposition import PCA\n",
    "from sklearn.cluster import KMeans\n",
    "\n",
    "for df in [train, test]:\n",
    "    coord = df[['lat','long']]\n",
    "    pca = PCA(n_components=2)\n",
    "    pca.fit(coord)\n",
    "\n",
    "    coord_pca = pca.transform(coord)\n",
    "\n",
    "    df['coord_pca1'] = coord_pca[:, 0]\n",
    "    df['coord_pca2'] = coord_pca[:, 1]"
   ],
   "id": "1d1e5fb0c0a9ebf1",
   "outputs": [],
   "execution_count": 53
  },
  {
   "metadata": {
    "ExecuteTime": {
     "end_time": "2024-05-29T15:44:57.239835Z",
     "start_time": "2024-05-29T15:44:57.231003Z"
    }
   },
   "cell_type": "code",
   "source": [
    "train['per_price'] = train['price']/train['sqft_total_size']\n",
    "zipcode_price = train.groupby(['zipcode'])['per_price'].agg({'mean','var'}).reset_index()\n",
    "train = pd.merge(train, zipcode_price, how='left',on='zipcode')\n",
    "test = pd.merge(test, zipcode_price, how='left',on='zipcode')\n",
    "\n",
    "for df in [train, test]:\n",
    "    df['zipcode_mean'] = df['mean'] * df['sqft_total_size']\n",
    "    df['zipcode_var'] = df['var'] * df['sqft_total_size']\n",
    "    del df['mean']; del df['var']"
   ],
   "id": "53a5503fe0643e95",
   "outputs": [],
   "execution_count": 54
  },
  {
   "cell_type": "code",
   "id": "076cde04",
   "metadata": {
    "ExecuteTime": {
     "end_time": "2024-05-29T15:44:57.901496Z",
     "start_time": "2024-05-29T15:44:57.892961Z"
    }
   },
   "source": "train.head()",
   "outputs": [
    {
     "data": {
      "text/plain": [
       "                  date      price  bedrooms  bathrooms  floors  waterfront  \\\n",
       "0  1413158400000000000  12.309987         3       1.00     1.0           0   \n",
       "1  1403481600000000000  12.232841         2       1.00     1.0           0   \n",
       "2  1405555200000000000  13.005832         3       2.25     1.0           0   \n",
       "3  1424995200000000000  12.043560         2       1.00     1.0           0   \n",
       "4  1430438400000000000  12.409018         3       1.75     1.0           0   \n",
       "\n",
       "   view  condition  grade  sqft_above  ...  zipcode-4  zipcode-5  zipcode-34  \\\n",
       "0     0          3      7    7.074117  ...          7          8          16   \n",
       "1     0          4      6    6.781058  ...          7          8          16   \n",
       "2     2          3      8    7.390799  ...          7          8          16   \n",
       "3     0          3      6    6.758095  ...          7          8          16   \n",
       "4     0          3      7    7.462215  ...          7          8          16   \n",
       "\n",
       "   zipcode-45  zipcode-35  coord_pca1  coord_pca2  per_price  zipcode_mean  \\\n",
       "0          54          16   -0.000699   -0.065735   0.783392     12.114741   \n",
       "1          54          16    0.012834   -0.067722   0.784009     12.029344   \n",
       "2          54          16    0.010551   -0.058889   0.780554     12.846078   \n",
       "3          54          16   -0.007949   -0.080343   0.730404     12.712401   \n",
       "4          54          16    0.038283   -0.054405   0.687452     13.916527   \n",
       "\n",
       "   zipcode_var  \n",
       "0     0.008446  \n",
       "1     0.008386  \n",
       "2     0.008955  \n",
       "3     0.008862  \n",
       "4     0.009702  \n",
       "\n",
       "[5 rows x 43 columns]"
      ],
      "text/html": [
       "<div>\n",
       "<style scoped>\n",
       "    .dataframe tbody tr th:only-of-type {\n",
       "        vertical-align: middle;\n",
       "    }\n",
       "\n",
       "    .dataframe tbody tr th {\n",
       "        vertical-align: top;\n",
       "    }\n",
       "\n",
       "    .dataframe thead th {\n",
       "        text-align: right;\n",
       "    }\n",
       "</style>\n",
       "<table border=\"1\" class=\"dataframe\">\n",
       "  <thead>\n",
       "    <tr style=\"text-align: right;\">\n",
       "      <th></th>\n",
       "      <th>date</th>\n",
       "      <th>price</th>\n",
       "      <th>bedrooms</th>\n",
       "      <th>bathrooms</th>\n",
       "      <th>floors</th>\n",
       "      <th>waterfront</th>\n",
       "      <th>view</th>\n",
       "      <th>condition</th>\n",
       "      <th>grade</th>\n",
       "      <th>sqft_above</th>\n",
       "      <th>...</th>\n",
       "      <th>zipcode-4</th>\n",
       "      <th>zipcode-5</th>\n",
       "      <th>zipcode-34</th>\n",
       "      <th>zipcode-45</th>\n",
       "      <th>zipcode-35</th>\n",
       "      <th>coord_pca1</th>\n",
       "      <th>coord_pca2</th>\n",
       "      <th>per_price</th>\n",
       "      <th>zipcode_mean</th>\n",
       "      <th>zipcode_var</th>\n",
       "    </tr>\n",
       "  </thead>\n",
       "  <tbody>\n",
       "    <tr>\n",
       "      <th>0</th>\n",
       "      <td>1413158400000000000</td>\n",
       "      <td>12.309987</td>\n",
       "      <td>3</td>\n",
       "      <td>1.00</td>\n",
       "      <td>1.0</td>\n",
       "      <td>0</td>\n",
       "      <td>0</td>\n",
       "      <td>3</td>\n",
       "      <td>7</td>\n",
       "      <td>7.074117</td>\n",
       "      <td>...</td>\n",
       "      <td>7</td>\n",
       "      <td>8</td>\n",
       "      <td>16</td>\n",
       "      <td>54</td>\n",
       "      <td>16</td>\n",
       "      <td>-0.000699</td>\n",
       "      <td>-0.065735</td>\n",
       "      <td>0.783392</td>\n",
       "      <td>12.114741</td>\n",
       "      <td>0.008446</td>\n",
       "    </tr>\n",
       "    <tr>\n",
       "      <th>1</th>\n",
       "      <td>1403481600000000000</td>\n",
       "      <td>12.232841</td>\n",
       "      <td>2</td>\n",
       "      <td>1.00</td>\n",
       "      <td>1.0</td>\n",
       "      <td>0</td>\n",
       "      <td>0</td>\n",
       "      <td>4</td>\n",
       "      <td>6</td>\n",
       "      <td>6.781058</td>\n",
       "      <td>...</td>\n",
       "      <td>7</td>\n",
       "      <td>8</td>\n",
       "      <td>16</td>\n",
       "      <td>54</td>\n",
       "      <td>16</td>\n",
       "      <td>0.012834</td>\n",
       "      <td>-0.067722</td>\n",
       "      <td>0.784009</td>\n",
       "      <td>12.029344</td>\n",
       "      <td>0.008386</td>\n",
       "    </tr>\n",
       "    <tr>\n",
       "      <th>2</th>\n",
       "      <td>1405555200000000000</td>\n",
       "      <td>13.005832</td>\n",
       "      <td>3</td>\n",
       "      <td>2.25</td>\n",
       "      <td>1.0</td>\n",
       "      <td>0</td>\n",
       "      <td>2</td>\n",
       "      <td>3</td>\n",
       "      <td>8</td>\n",
       "      <td>7.390799</td>\n",
       "      <td>...</td>\n",
       "      <td>7</td>\n",
       "      <td>8</td>\n",
       "      <td>16</td>\n",
       "      <td>54</td>\n",
       "      <td>16</td>\n",
       "      <td>0.010551</td>\n",
       "      <td>-0.058889</td>\n",
       "      <td>0.780554</td>\n",
       "      <td>12.846078</td>\n",
       "      <td>0.008955</td>\n",
       "    </tr>\n",
       "    <tr>\n",
       "      <th>3</th>\n",
       "      <td>1424995200000000000</td>\n",
       "      <td>12.043560</td>\n",
       "      <td>2</td>\n",
       "      <td>1.00</td>\n",
       "      <td>1.0</td>\n",
       "      <td>0</td>\n",
       "      <td>0</td>\n",
       "      <td>3</td>\n",
       "      <td>6</td>\n",
       "      <td>6.758095</td>\n",
       "      <td>...</td>\n",
       "      <td>7</td>\n",
       "      <td>8</td>\n",
       "      <td>16</td>\n",
       "      <td>54</td>\n",
       "      <td>16</td>\n",
       "      <td>-0.007949</td>\n",
       "      <td>-0.080343</td>\n",
       "      <td>0.730404</td>\n",
       "      <td>12.712401</td>\n",
       "      <td>0.008862</td>\n",
       "    </tr>\n",
       "    <tr>\n",
       "      <th>4</th>\n",
       "      <td>1430438400000000000</td>\n",
       "      <td>12.409018</td>\n",
       "      <td>3</td>\n",
       "      <td>1.75</td>\n",
       "      <td>1.0</td>\n",
       "      <td>0</td>\n",
       "      <td>0</td>\n",
       "      <td>3</td>\n",
       "      <td>7</td>\n",
       "      <td>7.462215</td>\n",
       "      <td>...</td>\n",
       "      <td>7</td>\n",
       "      <td>8</td>\n",
       "      <td>16</td>\n",
       "      <td>54</td>\n",
       "      <td>16</td>\n",
       "      <td>0.038283</td>\n",
       "      <td>-0.054405</td>\n",
       "      <td>0.687452</td>\n",
       "      <td>13.916527</td>\n",
       "      <td>0.009702</td>\n",
       "    </tr>\n",
       "  </tbody>\n",
       "</table>\n",
       "<p>5 rows × 43 columns</p>\n",
       "</div>"
      ]
     },
     "execution_count": 55,
     "metadata": {},
     "output_type": "execute_result"
    }
   ],
   "execution_count": 55
  },
  {
   "metadata": {
    "ExecuteTime": {
     "end_time": "2024-05-29T15:44:58.174169Z",
     "start_time": "2024-05-29T15:44:58.170832Z"
    }
   },
   "cell_type": "code",
   "source": "train.shape",
   "id": "fafe554f688a8c5f",
   "outputs": [
    {
     "data": {
      "text/plain": [
       "(15029, 43)"
      ]
     },
     "execution_count": 56,
     "metadata": {},
     "output_type": "execute_result"
    }
   ],
   "execution_count": 56
  },
  {
   "cell_type": "markdown",
   "id": "f1f43841",
   "metadata": {},
   "source": [
    "## 모델링"
   ]
  },
  {
   "cell_type": "code",
   "id": "7fb820a7",
   "metadata": {
    "ExecuteTime": {
     "end_time": "2024-05-29T15:44:58.212497Z",
     "start_time": "2024-05-29T15:44:58.210001Z"
    }
   },
   "source": [
    "import pandas as pd\n",
    "import numpy as np\n",
    "import matplotlib.pyplot as plt\n",
    "import seaborn as sns\n",
    "from sklearn.model_selection import train_test_split, GridSearchCV\n",
    "from sklearn.ensemble import RandomForestRegressor, GradientBoostingRegressor, VotingRegressor\n",
    "from sklearn.metrics import mean_squared_error\n",
    "from sklearn.preprocessing import MinMaxScaler\n",
    "from sklearn.decomposition import PCA"
   ],
   "outputs": [],
   "execution_count": 57
  },
  {
   "cell_type": "code",
   "id": "07e6628c",
   "metadata": {
    "ExecuteTime": {
     "end_time": "2024-05-29T15:44:58.272938Z",
     "start_time": "2024-05-29T15:44:58.261946Z"
    }
   },
   "source": [
    "# 데이터 분할 (Train, Validation, Test)\n",
    "y = train['price']\n",
    "y = np.log1p(y)\n",
    "\n",
    "X = train.drop(['price','per_price'], axis=1)\n",
    "\n",
    "X_train, X_val, y_train, y_val = train_test_split(X, y, test_size=0.3, random_state=42)\n",
    "# 테스트 데이터\n",
    "X_test = test\n",
    "\n",
    "# # 표준화\n",
    "# scaler = MinMaxScaler()\n",
    "# X_train = scaler.fit_transform(X_train)\n",
    "# X_val = scaler.transform(X_val)\n",
    "# X_test = scaler.transform(X_test)"
   ],
   "outputs": [],
   "execution_count": 58
  },
  {
   "cell_type": "markdown",
   "id": "2390c350",
   "metadata": {},
   "source": [
    "## 모델 도입 및 평가\n",
    "\n",
    "### 모델 및 평가 지표 선정 이유\n",
    "- 선택한 모델: 앙상블 모델 (랜덤 포레스트, 그래디언트 부스팅, 배깅)\n",
    "    - 선정 이유: 앙상블 모델은 여러 모델의 예측을 결합하여 예측 성능을 향상시키며, 단일 모델보다 일반화 성능이 뛰어나다.\n",
    "\n",
    "- 평가 지표: RMSE(Root Mean Squared Error)\n",
    "    - 선정 이유: RMSE는 예측 값과 실제 값 간의 차이를 제곱한 후 평균을 구해 루트를 취한다. 단위가 타깃 변수의 단위와 같아 해석이 용이하고, 큰 오차에 더 큰 패널티를 부여한다."
   ]
  },
  {
   "cell_type": "code",
   "id": "eff38779",
   "metadata": {
    "ExecuteTime": {
     "end_time": "2024-05-29T15:44:58.329352Z",
     "start_time": "2024-05-29T15:44:58.325261Z"
    }
   },
   "source": [
    "gboost = GradientBoostingRegressor(random_state=2019)\n",
    "xgboost = xgb.XGBRegressor(random_state=2019)\n",
    "# lightgbm = lgb.LGBMRegressor(random_state=2019)\n",
    "\n",
    "models = [{'model':gboost, 'name':'GradientBoosting'}, {'model':xgboost, 'name':'XGBoost'}]"
   ],
   "outputs": [],
   "execution_count": 59
  },
  {
   "metadata": {
    "ExecuteTime": {
     "end_time": "2024-05-29T15:44:58.374536Z",
     "start_time": "2024-05-29T15:44:58.371608Z"
    }
   },
   "cell_type": "code",
   "source": [
    "def get_cv_score(models):\n",
    "    kfold = KFold(n_splits=5, shuffle=True).get_n_splits(X.values)\n",
    "    for m in models:\n",
    "        print(\"Model {} CV score : {:.4f}\".format(m['name'], np.mean(cross_val_score(m['model'], X.values, y)), \n",
    "                                             kf=kfold))"
   ],
   "id": "48ff7961b2d390ac",
   "outputs": [],
   "execution_count": 60
  },
  {
   "metadata": {
    "ExecuteTime": {
     "end_time": "2024-05-29T15:45:24.221475Z",
     "start_time": "2024-05-29T15:44:58.420093Z"
    }
   },
   "cell_type": "code",
   "source": "get_cv_score(models)",
   "id": "e358adde7ea26834",
   "outputs": [
    {
     "name": "stdout",
     "output_type": "stream",
     "text": [
      "Model GradientBoosting CV score : 0.8555\n",
      "Model XGBoost CV score : 0.8584\n"
     ]
    }
   ],
   "execution_count": 61
  },
  {
   "metadata": {},
   "cell_type": "markdown",
   "source": [
    "### Make Submission\n",
    "\n",
    "회귀 모델의 경우에는 cross_val_score 함수가 R<sup>2</sup>를 반환합니다.<br>\n",
    "R<sup>2</sup> 값이 1에 가까울수록 모델이 데이터를 잘 표현함을 나타냅니다. 3개 트리 모델이 상당히 훈련 데이터에 대해 괜찮은 성능을 보여주고 있습니다.<br> 훈련 데이터셋으로 3개 모델을 학습시키고, Average Blending을 통해 제출 결과를 만들겠습니다.,"
   ],
   "id": "61a540d8919221ad"
  },
  {
   "metadata": {
    "ExecuteTime": {
     "end_time": "2024-05-29T15:45:24.224443Z",
     "start_time": "2024-05-29T15:45:24.222453Z"
    }
   },
   "cell_type": "code",
   "source": [
    "def AveragingBlending(models, X, y, sub_x):\n",
    "    for m in models : \n",
    "        m['model'].fit(X.values, y)\n",
    "    \n",
    "    predictions = np.column_stack([\n",
    "        m['model'].predict(sub_x.values) for m in models\n",
    "    ])\n",
    "    return np.mean(predictions, axis=1)"
   ],
   "id": "c95dbb0f458325ba",
   "outputs": [],
   "execution_count": 62
  },
  {
   "metadata": {
    "ExecuteTime": {
     "end_time": "2024-05-29T15:45:30.537278Z",
     "start_time": "2024-05-29T15:45:24.225135Z"
    }
   },
   "cell_type": "code",
   "source": "y_pred = AveragingBlending(models, X, y, test)",
   "id": "46ae766e9652a50b",
   "outputs": [],
   "execution_count": 63
  },
  {
   "metadata": {
    "ExecuteTime": {
     "end_time": "2024-05-29T15:47:16.860215Z",
     "start_time": "2024-05-29T15:47:16.837153Z"
    }
   },
   "cell_type": "code",
   "source": [
    "submission_csv_path = './data/housing/sample_submission.csv'\n",
    "submission = pd.read_csv(submission_csv_path)"
   ],
   "id": "f1a1ea5cd508dd33",
   "outputs": [],
   "execution_count": 65
  },
  {
   "metadata": {
    "ExecuteTime": {
     "end_time": "2024-05-29T15:47:18.143621Z",
     "start_time": "2024-05-29T15:47:18.130748Z"
    }
   },
   "cell_type": "code",
   "source": [
    "submission['price'] = y_pred\n",
    "submission.to_csv('submission_blend2.csv', index=False)"
   ],
   "id": "6a35f46d6831009b",
   "outputs": [],
   "execution_count": 66
  },
  {
   "metadata": {},
   "cell_type": "markdown",
   "source": "",
   "id": "d97182480636313a"
  },
  {
   "metadata": {},
   "cell_type": "markdown",
   "source": "## ",
   "id": "cbc399d0fba85212"
  },
  {
   "cell_type": "code",
   "id": "b50e93e9",
   "metadata": {},
   "source": [
    "def rmse(y_test, y_pred):\n",
    "    return np.sqrt(mean_squared_error(np.expm1(y_test), np.expm1(y_pred)))"
   ],
   "outputs": [],
   "execution_count": null
  },
  {
   "cell_type": "code",
   "id": "e2de90c0",
   "metadata": {},
   "source": [
    "def get_scores(models, X, y):\n",
    "    df = {}\n",
    "\n",
    "    for model in models:\n",
    "    # 모델 이름 획득\n",
    "        model_name = model.__class__.__name__\n",
    "\n",
    "        # train, test 데이터셋 분리\n",
    "        # random_state를 사용하여 고정하고 train과 test 셋의 비율은 8:2로 합니다.\n",
    "        X_train, X_test, y_train, y_test = train_test_split(X, y, random_state=random_state, test_size=0.2)\n",
    "\n",
    "        # 모델 학습\n",
    "        model.fit(X_train, y_train)\n",
    "        \n",
    "        # 예측\n",
    "        y_pred = model.predict(X_test)\n",
    "\n",
    "        # 예측 결과의 rmse값 저장\n",
    "        df[model_name] = rmse(y_test, y_pred)\n",
    "        \n",
    "        # data frame에 저장\n",
    "        score_df = pd.DataFrame(df, index=['RMSE']).T.sort_values('RMSE', ascending=False)\n",
    "\n",
    "    return score_df\n",
    "\n",
    "get_scores(models, X, y)"
   ],
   "outputs": [],
   "execution_count": null
  },
  {
   "metadata": {},
   "cell_type": "code",
   "source": "",
   "id": "caef2b4c63fc9289",
   "outputs": [],
   "execution_count": null
  },
  {
   "cell_type": "markdown",
   "id": "824b67a3",
   "metadata": {},
   "source": [
    "## 하이퍼 파라미터 튜닝의 최강자, 그리드 탐색"
   ]
  },
  {
   "cell_type": "code",
   "id": "f0e4e7a8",
   "metadata": {},
   "source": [
    "from sklearn.model_selection import GridSearchCV"
   ],
   "outputs": [],
   "execution_count": null
  },
  {
   "cell_type": "code",
   "id": "9c857b96",
   "metadata": {},
   "source": [
    "\"\"\"\n",
    "다음과 같은 과정을 진행할 수 있는 `my_GridSearch(model, train, y, param_grid, verbose=2, n_jobs=5)` 함수를 구현해 보세요.\n",
    "\n",
    "1. GridSearchCV 모델로 `model`을 초기화합니다.\n",
    "2. 모델을 fitting 합니다.\n",
    "3. params, score에 각 조합에 대한 결과를 저장합니다. \n",
    "4. 데이터 프레임을 생성하고, RMSLE 값을 추가한 후 점수가 높은 순서로 정렬한 `results`를 반환합니다.\n",
    "\"\"\""
   ],
   "outputs": [],
   "execution_count": null
  },
  {
   "cell_type": "code",
   "id": "889a7cc971776d93",
   "metadata": {},
   "source": [
    "def my_GridSearch(model, train, y, param_grid, verbose=2, n_jobs=5):\n",
    "    # GridSearchCV 모델로 초기화\n",
    "    grid_model = GridSearchCV(model, param_grid=param_grid, scoring='neg_mean_squared_error', \\\n",
    "                              cv=5, verbose=verbose, n_jobs=n_jobs)\n",
    "    \n",
    "    # 모델 fitting\n",
    "    grid_model.fit(train, y)\n",
    "\n",
    "    # 결과값 저장\n",
    "    params = grid_model.cv_results_['params']\n",
    "    score = grid_model.cv_results_['mean_test_score']\n",
    "    \n",
    "    # 데이터 프레임 생성\n",
    "    results = pd.DataFrame(params)\n",
    "    results['score'] = score\n",
    "    \n",
    "    # RMSLE 값 계산 후 정렬\n",
    "    results['RMSLE'] = np.sqrt(-1 * results['score'])\n",
    "    results = results.sort_values('RMSLE')\n",
    "\n",
    "    return results\n",
    "\n",
    "param_grid = {\n",
    "    'n_estimators': [50, 100],\n",
    "    'max_depth': [1, 10],\n",
    "}"
   ],
   "outputs": [],
   "execution_count": null
  },
  {
   "metadata": {},
   "cell_type": "code",
   "source": [
    "\n",
    "model = lgb.LGBMRegressor(random_state=random_state)\n",
    "my_GridSearch(model, X, y, param_grid, verbose=2, n_jobs=5)\n",
    "\n",
    "model = lgb.LGBMRegressor(max_depth=10, n_estimators=100, random_state=random_state)\n",
    "model.fit(X, y)\n",
    "prediction = model.predict(X_test)\n",
    "prediction = np.expm1(prediction)\n",
    "prediction\n",
    "\n",
    "data_dir = os.getenv('HOME')+'/aiffel/kaggle_kakr_housing/data'\n",
    "\n",
    "submission_path = join(data_dir, 'sample_submission.csv')\n",
    "submission = pd.read_csv(submission_path)\n",
    "submission.head()\n",
    "\n",
    "submission['price'] = prediction\n",
    "submission.head()\n",
    "\n",
    "submission_csv_path = '{}/submission_{}_RMSLE_{}.csv'.format(data_dir, 'lgbm', '0.164399')\n",
    "submission.to_csv(submission_csv_path, index=False)\n",
    "print(submission_csv_path)\n",
    "\n",
    "\"\"\"\n",
    "아래의 과정을 수행하는 `save_submission(model, train, y, test, model_name, rmsle)` 함수를 구현해 주세요.\n",
    "1. 모델을 `train`, `y`로 학습시킵니다.\n",
    "2. `test`에 대해 예측합니다.\n",
    "3. 예측값을 `np.expm1`으로 변환하고, `submission_model_name_RMSLE_100000.csv` 형태의 `csv` 파일을 저장합니다.\n",
    "\"\"\"\n",
    "\n",
    "def save_submission(model, train, y, test, model_name, rmsle=None):\n",
    "    model.fit(train, y)\n",
    "    prediction = model.predict(test)\n",
    "    prediction = np.expm1(prediction)\n",
    "    data_dir = os.getenv('HOME')+'/aiffel/kaggle_kakr_housing/data'\n",
    "    submission_path = join(data_dir, 'sample_submission.csv')\n",
    "    submission = pd.read_csv(submission_path)\n",
    "    submission['price'] = prediction\n",
    "    submission_csv_path = '{}/submission_{}_RMSLE_{}.csv'.format(data_dir, model_name, rmsle)\n",
    "    submission.to_csv(submission_csv_path, index=False)\n",
    "    print('{} saved!'.format(submission_csv_path))\n"
   ],
   "id": "2d93e89e",
   "outputs": [],
   "execution_count": null
  },
  {
   "cell_type": "code",
   "id": "25eafaca",
   "metadata": {},
   "source": [
    "models"
   ],
   "outputs": [],
   "execution_count": null
  },
  {
   "cell_type": "code",
   "id": "4866814e",
   "metadata": {},
   "source": [],
   "outputs": [],
   "execution_count": null
  },
  {
   "cell_type": "code",
   "id": "09ca0359",
   "metadata": {},
   "source": [],
   "outputs": [],
   "execution_count": null
  },
  {
   "cell_type": "code",
   "id": "c88b7dd2",
   "metadata": {},
   "source": [],
   "outputs": [],
   "execution_count": null
  },
  {
   "cell_type": "markdown",
   "id": "4ba1947b",
   "metadata": {},
   "source": [
    "### 최종 결과"
   ]
  },
  {
   "cell_type": "markdown",
   "id": "60f2012a",
   "metadata": {},
   "source": [
    "- 데이터 분석을 하다가 시간을 많이 써서 좋은 결과를 내는데 생각보다 시간을 많이 못써서 아쉽다.\n",
    "- 다음에는 시간분배를 좀 더 잘 해봐야겠다"
   ]
  },
  {
   "cell_type": "code",
   "id": "2601dd7a",
   "metadata": {},
   "source": [],
   "outputs": [],
   "execution_count": null
  }
 ],
 "metadata": {
  "kernelspec": {
   "display_name": "Python 3 (ipykernel)",
   "language": "python",
   "name": "python3"
  },
  "language_info": {
   "codemirror_mode": {
    "name": "ipython",
    "version": 3
   },
   "file_extension": ".py",
   "mimetype": "text/x-python",
   "name": "python",
   "nbconvert_exporter": "python",
   "pygments_lexer": "ipython3",
   "version": "3.9.7"
  }
 },
 "nbformat": 4,
 "nbformat_minor": 5
}
