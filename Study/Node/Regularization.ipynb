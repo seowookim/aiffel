{
 "cells": [
  {
   "cell_type": "markdown",
   "id": "b99678aa",
   "metadata": {},
   "source": [
    "# Regularization과 Normalization\n",
    "Regularization과 Normalization 이 두 개념은 서로 헷갈리는 경우가 많은 것 같습니다. 한국어로 번역할 때 두 개념이 다 '정규화'로 번역될 때가 많아서 더욱 혼란스러울 때가 많습니다. 우선 두 개념을 아래와 같이 정리해 보겠습니다.\n",
    "\n",
    "## Regularization(정칙화)\n",
    "정칙화라고 불리며, 오버피팅(overfitting)을 해결하기 위한 방법 중의 하나입니다. 오늘 우리가 가장 중요하게 다룰 주제이기도 하지요. L1, L2 Regularization, Dropout, Batch normalization 등이 있습니다. 오버피팅은 한국어로 과적합이라고 하며, train set은 매우 잘 맞히지만, validation/test set은 맞히지 못하는 현상을 말합니다. 비유하자면 오버피팅은 기출문제는 외워서 잘 맞히지만 새로운 응용 문제로 시험을 볼 때는 잘 풀지 못하는 경우라고 할 수 있겠습니다. 더 좋은 결과를 얻기 위해서는 새로운 시험, 즉 test set에서도 잘 맞혀야겠죠? 그래서 regularization 기법들은 모델에 제약 조건을 걸어서 모델의 train loss를 증가시키는 역할을 합니다. 그래서 train loss는 약간 증가하지만 결과적으로, validation loss나 최종 test loss를 감소시키려는 목적을 가지고 있지요.\n",
    "\n",
    "## Normalization(정규화)\n",
    "정규화라고 불리며, 이는 데이터의 형태를 좀 더 의미 있게, 혹은 트레이닝에 적합하게 전처리하는 과정입니다. 데이터를 z-score로 바꾸거나 minmax scaler를 사용하여 0과 1사이의 값으로 분포를 조정하는 것들이 해당됩니다. 예를 들어, 금액과 같은 큰 범위의 값(10,000 ~ 10,000,000)과 시간(0~24)의 값이 들어가는 경우, 데이터의 분포가 피처(feature) 값의 범위에 의해 왜곡되어 학습에 방해가 된다는 문제가 있습니다. normalization은 모든 피처 값의 범위를 동일하게 하여 모델이 풀어야 하는 문제를 좀 더 간단하게 바꾸어 주는 전처리 과정입니다.\n",
    "\n",
    "이 두 가지 단어는 한국어로 번역 시에 혼용하여 쓰기도 하므로, 앞으로 이번 노드에서는 주로 영어로 표기하도록 하겠습니다. 핵심을 정리하면, regularization은 오버피팅을 막고자 하는 방법, normalization은 트레이닝을 할 때에 서로 범위가 다른 데이터들을 같은 범위로 바꿔주는 전처리 과정이라는 것입니다.\n",
    "\n",
    "Regularization와 Normalization의 간단한 예제를 Iris dataset의 회귀 문제를 풀면서 비교해 보겠습니다."
   ]
  },
  {
   "cell_type": "code",
   "id": "3b49e91e",
   "metadata": {
    "ExecuteTime": {
     "end_time": "2024-05-24T08:40:23.530876Z",
     "start_time": "2024-05-24T08:40:23.396848Z"
    }
   },
   "source": [
    "from sklearn.datasets import load_iris\n",
    "import pandas as pd \n",
    "import matplotlib.pyplot as plt\n",
    "\n",
    "iris = load_iris()\n",
    "iris_df = pd.DataFrame(data=iris.data, columns=iris.feature_names)\n",
    "target_df = pd.DataFrame(data=iris.target, columns=['species'])\n",
    "\n",
    "# 0, 1, 2로 되어있는 target 데이터를 \n",
    "# 알아보기 쉽게 'setosa', 'versicolor', 'virginica'로 바꿉니다 \n",
    "def converter(species):\n",
    "    if species == 0:\n",
    "        return 'setosa'\n",
    "    elif species == 1:\n",
    "        return 'versicolor'\n",
    "    else:\n",
    "        return 'virginica'\n",
    "\n",
    "target_df['species'] = target_df['species'].apply(converter)\n",
    "\n",
    "iris_df = pd.concat([iris_df, target_df], axis=1)\n",
    "iris_df.head()"
   ],
   "execution_count": 1,
   "outputs": []
  },
  {
   "cell_type": "code",
   "id": "22baa482",
   "metadata": {
    "ExecuteTime": {
     "end_time": "2024-05-24T08:40:23.537074Z",
     "start_time": "2024-05-24T08:40:23.532101Z"
    }
   },
   "source": [
    "X = [iris_df['petal length (cm)'][a] for a in iris_df.index if iris_df['species'][a]=='virginica']\n",
    "Y = [iris_df['sepal length (cm)'][a] for a in iris_df.index if iris_df['species'][a]=='virginica']\n",
    "\n",
    "print(\"petal length(꽃잎 길이)\", X)\n",
    "print(\"sepal length(꽃받침의 길이)\", Y)"
   ],
   "execution_count": 2,
   "outputs": []
  },
  {
   "cell_type": "markdown",
   "id": "699a70e1",
   "metadata": {},
   "source": [
    "값으로만 보니 직관적으로 잘 와닿지 않네요! 산점도로 그려봅시다.\n",
    "\n",
    "아직 normalization을 하지 않았기 때문에 x축과 y축은 각각의 최솟값과 최댓값의 범위로 그려집니다."
   ]
  },
  {
   "cell_type": "code",
   "id": "0f0bca5f",
   "metadata": {
    "ExecuteTime": {
     "end_time": "2024-05-24T08:40:23.730274Z",
     "start_time": "2024-05-24T08:40:23.539647Z"
    }
   },
   "source": [
    "plt.figure(figsize=(5,5))\n",
    "plt.scatter(X,Y)\n",
    "plt.title('petal-sepal scatter before normalization') \n",
    "plt.xlabel('petal length (cm)')\n",
    "plt.ylabel('sepal length (cm)')\n",
    "plt.grid()\n",
    "plt.show()"
   ],
   "execution_count": 3,
   "outputs": []
  },
  {
   "cell_type": "markdown",
   "id": "d7f61c6b",
   "metadata": {},
   "source": [
    "그래프의 축을 잘 살펴보세요!\n",
    "\n",
    "이제 0-1로 normalization을 해주는 minmax_scale를 이용해서 산점도를 다시 한번 그려보겠습니다."
   ]
  },
  {
   "cell_type": "code",
   "id": "78419868",
   "metadata": {
    "ExecuteTime": {
     "end_time": "2024-05-24T08:40:23.847351Z",
     "start_time": "2024-05-24T08:40:23.731865Z"
    }
   },
   "source": [
    "from sklearn.preprocessing import minmax_scale\n",
    "\n",
    "X_scale = minmax_scale(X)\n",
    "Y_scale = minmax_scale(Y)\n",
    "\n",
    "plt.figure(figsize=(5,5))\n",
    "plt.scatter(X_scale,Y_scale)\n",
    "plt.title('petal-sepal scatter after normalization') \n",
    "plt.xlabel('petal length (cm)')\n",
    "plt.ylabel('sepal length (cm)')\n",
    "plt.grid()\n",
    "plt.show()"
   ],
   "execution_count": 4,
   "outputs": []
  },
  {
   "cell_type": "markdown",
   "id": "2f653f05",
   "metadata": {},
   "source": [
    "결과를 비교해 보면, 가장 큰 값을 1, 가장 작은 값을 0으로 하여 축 범위가 바뀜을 확인할 수 있습니다. 데이터의 상대적인 분포는 바뀌지 않았지만, 피처의 스케일이 0과 1 사이로 변환되었으므로 이후 X, Y의 관계를 다루기 용이해졌습니다.\n",
    "\n",
    "이번엔 같은 데이터로 간단한 회귀 문제를 풀면서 regularization에 대해 알아보겠습니다.\n",
    "\n",
    "sklearn.linear_model에 포함된 LinearRegression 모델을 사용하여 X-Y 관계를 선형으로 모델링해 보겠습니다. 이 sklearn.linear_model에는 L1, L2 regression인 Lasso와 Ridge 모델도 함께 포함되어 있으므로, 이들의 차이점을 먼저 직관적으로 이해해 보겠습니다. 수학적 정의나 보다 구체적인 설명은 다음 스텝에 이어집니다."
   ]
  },
  {
   "cell_type": "code",
   "id": "e939f168",
   "metadata": {
    "ExecuteTime": {
     "end_time": "2024-05-24T08:40:23.961833Z",
     "start_time": "2024-05-24T08:40:23.848125Z"
    }
   },
   "source": [
    "from sklearn.linear_model import LinearRegression\n",
    "import numpy as np \n",
    "\n",
    "X = np.array(X)\n",
    "Y = np.array(Y)\n",
    "\n",
    "# Iris Dataset을 Linear Regression으로 학습합니다. \n",
    "linear= LinearRegression()\n",
    "linear.fit(X.reshape(-1,1), Y)\n",
    "\n",
    "# Linear Regression의 기울기와 절편을 확인합니다. \n",
    "a, b=linear.coef_, linear.intercept_\n",
    "print(\"기울기 : %0.2f, 절편 : %0.2f\" %(a,b))"
   ],
   "execution_count": 5,
   "outputs": []
  },
  {
   "cell_type": "markdown",
   "id": "e5fe17f1",
   "metadata": {},
   "source": [
    "위에서 linear regression으로 구한 기울기와 절편을 가지고 일차함수를 만들어 산점도와 함께 그려보겠습니다."
   ]
  },
  {
   "cell_type": "code",
   "id": "61740390",
   "metadata": {
    "ExecuteTime": {
     "end_time": "2024-05-24T08:40:24.074223Z",
     "start_time": "2024-05-24T08:40:23.962895Z"
    }
   },
   "source": [
    "plt.figure(figsize=(5,5))\n",
    "plt.scatter(X,Y)\n",
    "plt.plot(X,linear.predict(X.reshape(-1,1)),'-b')\n",
    "plt.title('petal-sepal scatter with linear regression') \n",
    "plt.xlabel('petal length (cm)')\n",
    "plt.ylabel('sepal length (cm)')\n",
    "plt.grid()\n",
    "plt.show()"
   ],
   "execution_count": 6,
   "outputs": []
  },
  {
   "cell_type": "markdown",
   "id": "685468a9",
   "metadata": {},
   "source": [
    "이번에는 L1, L2 regularization으로 regression을 해보겠습니다. 이는 Lasso, Ridge라고 부릅니다.\n",
    "\n",
    "먼저 L1 regularization인 Lasso로 문제를 풀어보겠습니다."
   ]
  },
  {
   "cell_type": "code",
   "id": "2c143d5f",
   "metadata": {
    "ExecuteTime": {
     "end_time": "2024-05-24T08:40:24.184225Z",
     "start_time": "2024-05-24T08:40:24.075064Z"
    }
   },
   "source": [
    "# Q. linear regression의 코드를 참고하여, 아래 코드를 채워주세요!\n",
    "\n",
    "# L1 regularization은 Lasso로 import 합니다.\n",
    "from sklearn.linear_model import Lasso\n",
    "\n",
    "L1 = Lasso()\n",
    "L1.fit(X.reshape(-1,1), Y)\n",
    "a, b = L1.coef_, L1.intercept_\n",
    "print(\"기울기 : %0.2f, 절편 : %0.2f\" %(a,b))\n",
    "\n",
    "plt.figure(figsize=(5,5))\n",
    "plt.plot(X, L1.predict(X.reshape(-1, 1)), '-b')\n",
    "plt.title('petal-sepal scatter with L1 regularization(Lasso)') \n",
    "plt.xlabel('petal length (cm)')\n",
    "plt.ylabel('sepal length (cm)')\n",
    "plt.grid()\n",
    "plt.show()"
   ],
   "execution_count": 7,
   "outputs": []
  },
  {
   "cell_type": "markdown",
   "id": "b38723d6",
   "metadata": {},
   "source": [
    "어떤가요? 혹시 기울기가 0으로 나오지 않았나요? Lasso 방법은 결과가 별로 좋지 않은 것 같습니다.\n",
    "\n",
    "이제 같은 데이터셋으로 L2 regularization인 Ridge로 문제를 풀어보고 서로 비교해 보겠습니다."
   ]
  },
  {
   "cell_type": "code",
   "id": "5bc8b6f0",
   "metadata": {
    "ExecuteTime": {
     "end_time": "2024-05-24T08:40:24.299420Z",
     "start_time": "2024-05-24T08:40:24.185521Z"
    }
   },
   "source": [
    "# Q. linear regression의 코드를 참고하여, 아래 코드를 채워주세요!\n",
    "\n",
    "# L2 regularization은 Ridge로 import 합니다.\n",
    "from sklearn.linear_model import Ridge\n",
    "\n",
    "L2 = Ridge()\n",
    "L2.fit(X.reshape(-1, 1), Y)\n",
    "a, b = L1.coef_, L2.intercept_\n",
    "print(\"기울기 : %0.2f, 절편 : %0.2f\" %(a,b))\n",
    "\n",
    "plt.figure(figsize=(5,5))\n",
    "plt.plot(X, L2.predict(X.reshape(-1, 1)), '-b')\n",
    "plt.title('petal-sepal scatter with L2 regularization(Ridge)') \n",
    "plt.xlabel('petal length (cm)')\n",
    "plt.ylabel('sepal length (cm)')\n",
    "plt.grid()\n",
    "plt.show()"
   ],
   "execution_count": 8,
   "outputs": []
  },
  {
   "cell_type": "markdown",
   "id": "7abdf894",
   "metadata": {},
   "source": [
    "다시 다루겠지만, linear regression이 L2 norm과 관련이 있습니다. 그래서 L2 regularization을 쓰는 Ridge방법으로는 앞서 linear regression과 큰 차이가 없는 결과가 나옵니다.\n",
    "그러나 왜 L1 regularization을 쓰는 Lasso에서는 이상한 결과가 나왔을까요?\n",
    "\n",
    "다음 스텝에서 그 이유를 알아보도록 하겠습니다!"
   ]
  },
  {
   "cell_type": "markdown",
   "id": "98bb6f77",
   "metadata": {},
   "source": [
    "## L1 Regularization\n",
    "이전 스텝에서 regularization과 normalization의 정의를 설명하고, L1/L2 regularization을 코드로 맛보기 해보았습니다. 마지막에 같은 linear regression 문제를 푸는데 L1 regularization에서는 문제가 풀리지 않았다는 것을 기억하시나요?\n",
    "\n",
    "L1 regularization을 설명하면서, 지난 스텝에서 `Lasso`로는 regression 문제가 제대로 풀리지 않았던 현상을 더 자세히 알아보겠습니다. 그리고 어떤 때에 L1 regularization을 사용하는지 알아보는 것이 목표입니다!\n",
    "\n",
    "### L1 regularization (Lasso)의 정의\n",
    "L1 regularization은 아래와 같은 식으로 정의됩니다. ($N$: 데이터의 개수, $D$: 데이터의 차원(feature의 개수))\n",
    "\n",
    "$$  \\hat{\\beta}^{lasso} := argmin_{\\beta} \\frac{1}{2N} \\sum_{i=1}^{N}(y_i - \\beta_0 - \\sum_{j=1}^{D}x_{ij}\\beta_j)^2 + \\lambda\\sum_{j=1}^{D} \\left| \\beta_j \\right| $$\n",
    "\n",
    "여기서 중요하게 봐야 할 부분은 $\\lambda\\sum_{j=1}^{D} \\left| \\beta_j \\right|$입니다. 이 부분이 없다면 linear regression과 동일합니다\n",
    "\n",
    "이 부분이 바로 L1 norm에 해당하는 부분인데, L1 regularization이라는 이름이 붙은 이유이기도 하고, L2 regularization과의 차이가 나타나는 중요한 부분입니다.\n",
    "\n",
    ">💡참고 지식 (Lp norm)\n",
    "\n",
    ">norm은 벡터나 행렬, 함수 등의 거리를 나타내는 것으로 우리는 여기서 벡터값만 다룰 예정입니다. Lp norm 의 정의는 아래와 같습니다.      \n",
    ">    (참고) Norm (mathematics)(https://en.wikipedia.org/wiki/Norm_(mathematics))\n",
    "\n",
    "$$ \\left\\| x\\right\\|_p := (\\sum_{i=1}^{n}\\left| x_i\\right|^p)^{1/p} $$"
   ]
  },
  {
   "cell_type": "markdown",
   "id": "a5ba8569",
   "metadata": {},
   "source": [
    "norm에 대해서는 이후 스텝에서 더 자세히 다룰 예정입니다!\n",
    "\n",
    "그렇다면\n",
    "$p=1$인 경우의 L1 norm은 \n",
    "$ \\left\\| x\\right\\|_1 := \\sum_{i=1}^{n}\\left| x_i\\right| $ 로 나타낼 수 있습니다.\n",
    "이는 위에서 봤던 $\\lambda\\sum_{j=1}^{D} \\left| \\beta_j \\right|$ 에 들어가 있는 수식과 일치합니다!    \n",
    "\n",
    "\n",
    "때문에 $p=1$이므로 L1 regularization이라고 부르는 것입니다.\n",
    "하지만 사이킷런이나 케라스, 텐서플로우 등의 패키지에서는 `Lasso` 라는 이름을 더 자주 사용합니다. 그럼 저번 시간에 사용해 본 코드의 일부분을 살펴볼까요?"
   ]
  },
  {
   "cell_type": "code",
   "id": "bcf37063",
   "metadata": {
    "ExecuteTime": {
     "end_time": "2024-05-24T08:40:24.311353Z",
     "start_time": "2024-05-24T08:40:24.302753Z"
    }
   },
   "source": [
    "from sklearn.datasets import load_iris\n",
    "import pandas as pd \n",
    "import matplotlib.pyplot as plt\n",
    "\n",
    "iris = load_iris()\n",
    "iris_df = pd.DataFrame(data=iris.data, columns=iris.feature_names)\n",
    "target_df = pd.DataFrame(data=iris.target, columns=['species'])\n",
    "\n",
    "def converter(species):\n",
    "    if species == 0:\n",
    "        return 'setosa'\n",
    "    elif species == 1:\n",
    "        return 'versicolor'\n",
    "    else:\n",
    "        return 'virginica'\n",
    "\n",
    "target_df['species'] = target_df['species'].apply(converter)\n",
    "\n",
    "iris_df = pd.concat([iris_df, target_df], axis=1)\n",
    "iris_df.head()"
   ],
   "execution_count": 9,
   "outputs": []
  },
  {
   "cell_type": "code",
   "id": "4e3a7676",
   "metadata": {
    "ExecuteTime": {
     "end_time": "2024-05-24T08:40:24.419812Z",
     "start_time": "2024-05-24T08:40:24.312067Z"
    }
   },
   "source": [
    "X = [iris_df['petal length (cm)'][a] for a in iris_df.index if iris_df['species'][a]=='virginica']\n",
    "Y = [iris_df['sepal length (cm)'][a] for a in iris_df.index if iris_df['species'][a]=='virginica']\n",
    "\n",
    "X = np.array(X)\n",
    "Y = np.array(Y)\n",
    "\n",
    "plt.figure(figsize=(5,5))\n",
    "plt.scatter(X,Y)\n",
    "plt.xlabel('petal length (cm)')\n",
    "plt.ylabel('sepal length (cm)')\n",
    "plt.grid()\n",
    "plt.show()"
   ],
   "execution_count": 10,
   "outputs": []
  },
  {
   "cell_type": "code",
   "id": "3b296087",
   "metadata": {
    "ExecuteTime": {
     "end_time": "2024-05-24T08:40:24.523067Z",
     "start_time": "2024-05-24T08:40:24.420599Z"
    }
   },
   "source": [
    "from sklearn.linear_model import Lasso\n",
    "\n",
    "L1 = Lasso()\n",
    "L1.fit(X.reshape(-1,1), Y)\n",
    "a, b = L1.coef_, L1.intercept_\n",
    "print(\"기울기 : %0.2f, 절편 : %0.2f\" %(a,b))\n",
    "\n",
    "plt.figure(figsize=(5,5))\n",
    "plt.scatter(X,Y)\n",
    "plt.plot(X,L1.predict(X.reshape(-1,1)),'-b')\n",
    "plt.xlabel('petal length (cm)')\n",
    "plt.ylabel('sepal length (cm)')\n",
    "plt.grid()\n",
    "plt.show()"
   ],
   "execution_count": 11,
   "outputs": []
  },
  {
   "cell_type": "markdown",
   "id": "ffd70dc4",
   "metadata": {},
   "source": [
    "흠... 기울기가 0으로 나오는 것이 아무래도 이상한데요...🤔\n",
    "아무래도 데이터의 feature 개수가 2개밖에 되지 않으니까 이게 맞는 건지 아직 잘 모르겠습니다. 일단 다른 데이터셋으로 L1 regularization을 한번 더 돌려보겠습니다."
   ]
  },
  {
   "cell_type": "markdown",
   "id": "270e69a6",
   "metadata": {},
   "source": [
    "### 컬럼 수가 많은 데이터에서의 L1 regularization 비교\n",
    "Iris 데이터는 특성이 총 4개로 컬럼 수가 너무 적으니 wine dataset을 이용해 보겠습니다.\n",
    "총 13개의 특성을 갖는 데이터입니다."
   ]
  },
  {
   "cell_type": "code",
   "id": "4f5d195b",
   "metadata": {
    "ExecuteTime": {
     "end_time": "2024-05-24T08:40:24.535162Z",
     "start_time": "2024-05-24T08:40:24.524305Z"
    }
   },
   "source": [
    "from sklearn.datasets import load_wine\n",
    "\n",
    "wine = load_wine()\n",
    "wine_df = pd.DataFrame(data=wine.data, columns=wine.feature_names)\n",
    "target_df = pd.DataFrame(data=wine.target, columns=['Y'])"
   ],
   "execution_count": 12,
   "outputs": []
  },
  {
   "cell_type": "code",
   "id": "e5a7beab",
   "metadata": {
    "ExecuteTime": {
     "end_time": "2024-05-24T08:40:24.542616Z",
     "start_time": "2024-05-24T08:40:24.535954Z"
    }
   },
   "source": [
    "wine_df.head(5)"
   ],
   "execution_count": 13,
   "outputs": []
  },
  {
   "cell_type": "code",
   "id": "4e54026d",
   "metadata": {
    "ExecuteTime": {
     "end_time": "2024-05-24T08:40:24.547669Z",
     "start_time": "2024-05-24T08:40:24.543330Z"
    }
   },
   "source": [
    "target_df.head(5)"
   ],
   "execution_count": 14,
   "outputs": []
  },
  {
   "cell_type": "markdown",
   "id": "1ab22d45",
   "metadata": {},
   "source": [
    "먼저 linear regression 으로 문제를 풀고, 그 계수(coefficient)와 절대 오차(mean absolute error), 제곱 오차(mean squared error), 평균 제곱값 오차(root mean squared error)를 출력해 보겠습니다."
   ]
  },
  {
   "cell_type": "code",
   "id": "5c9e632e",
   "metadata": {
    "ExecuteTime": {
     "end_time": "2024-05-24T08:40:24.558298Z",
     "start_time": "2024-05-24T08:40:24.548812Z"
    }
   },
   "source": [
    "from sklearn.model_selection import train_test_split\n",
    "from sklearn.linear_model import LinearRegression\n",
    "from sklearn.metrics import mean_absolute_error, mean_squared_error\n",
    "\n",
    "# 데이터를 준비하고\n",
    "X_train, X_test, y_train, y_test = train_test_split(wine_df, target_df, test_size=0.3, random_state=101)\n",
    "\n",
    "# 모델을 훈련시킵니다.\n",
    "model = LinearRegression()\n",
    "model.fit(X_train, y_train)\n",
    "\n",
    "# 테스트를 해볼까요?\n",
    "pred = model.predict(X_test)\n",
    "\n",
    "# 테스트 결과는 이렇습니다!\n",
    "print(\"result of linear regression\")\n",
    "print('Mean Absolute Error:', mean_absolute_error(y_test, pred))\n",
    "print('Mean Squared Error:', mean_squared_error(y_test, pred))\n",
    "print('Mean Root Squared Error:', np.sqrt(mean_squared_error(y_test, pred)))\n",
    "\n",
    "print(\"\\n\\n coefficient linear regression\")\n",
    "print(model.coef_)"
   ],
   "execution_count": 15,
   "outputs": []
  },
  {
   "cell_type": "markdown",
   "id": "58be7bb3",
   "metadata": {},
   "source": [
    "이번에는 L1 regularization으로 문제를 풀어보겠습니다."
   ]
  },
  {
   "cell_type": "code",
   "id": "9233aae6",
   "metadata": {
    "ExecuteTime": {
     "end_time": "2024-05-24T08:40:24.568026Z",
     "start_time": "2024-05-24T08:40:24.559603Z"
    }
   },
   "source": [
    "# Q. 위의 Iris 예제 코드를 참고해서, 빈칸을 채워봅시다.\n",
    "\n",
    "from sklearn.linear_model import Lasso\n",
    "from sklearn.metrics import mean_absolute_error, mean_squared_error\n",
    "\n",
    "# 모델을 준비하고 훈련시킵니다.\n",
    "L1 = Lasso(alpha=0.05)\n",
    "L1.fit(X_train, y_train)\n",
    "\n",
    "# 테스트를 해봅시다.\n",
    "pred = L1.predict(X_test)\n",
    "\n",
    "# 모델 성능은 얼마나 좋을까요?\n",
    "print(\"Result of Lasso\")\n",
    "print('Mean Absolute Error:', mean_absolute_error(y_test, pred))\n",
    "print('Mean Squared Error:', mean_squared_error(y_test, pred))\n",
    "print('Mean Root Squared Error:', np.sqrt(mean_squared_error(y_test, pred)))\n",
    "\n",
    "print(\"\\n\\n coefficient of Lasso\")\n",
    "print(L1.coef_)"
   ],
   "execution_count": 16,
   "outputs": []
  },
  {
   "cell_type": "markdown",
   "id": "3e8fa4e5",
   "metadata": {},
   "source": [
    "### 결과 분석\n",
    "coefficient 부분을 보시면 linear regression과 L1 regularization의 차이가 좀 더 두드러짐을 알 수 있습니다. linear regression에서는 모든 컬럼의 가중치가 0이 아닌 값을 가지고 있지만, L1 regularization에서는 총 13개 중 7개를 제외한 나머지의 값들이 모두 0임을 확인할 수 있습니다. error 부분에서는 큰 차이가 없었지만, 우리가 어떤 컬럼이 결과에 영향을 더 크게 미치는지 확실히 확인할 수 있습니다. 이러한 경우 다른 문제에서도 error의 차이가 크게 나지 않는다면, 차원 축소와 비슷한 개념으로 변수의 값을 7개만 남겨도 충분히 결과를 예측할 수 있습니다. 다만 linear regression과 L1, L2 regularization의 차이 중 하나는 하이퍼파라미터(수식에서는 𝜆)가 하나 더 들어간다는 것이고, 그 값에 따라 error에 영향을 미친다는 점입니다."
   ]
  },
  {
   "cell_type": "markdown",
   "id": "f8ec3adc",
   "metadata": {},
   "source": [
    "## L2 Regularization\n",
    "### L2 Regularization(Ridge)의 정의\n",
    "L2 regularization은 아래와 같은 식으로 정의됩니다.\n",
    "\n",
    "$$\\hat{\\beta}^{ridge} := argmin_{\\beta} \\frac{1}{2N} \\sum_{i=1}^{N}(y_i - \\beta_0 - \\sum_{j=1}^{D}x_{ij}\\beta_j)^2 + \\lambda\\sum_{j=1}^{D} \\beta_j^2$$\n",
    "\n",
    "아래는 L1 regularization의 정의입니다.\n",
    "\n",
    "$$  \\hat{\\beta}^{lasso} := argmin_{\\beta} \\frac{1}{2N} \\sum_{i=1}^{N}(y_i - \\beta_0 - \\sum_{j=1}^{D}x_{ij}\\beta_j)^2 + \\lambda\\sum_{j=1}^{D} \\left| \\beta_j \\right| $$\n",
    "\n",
    "자 이제 두 regularization 수식의 차이가 어디에 있는지 보이시나요? 이전 스텝에서 잠깐 Lp norm을 설명드렸는데, 그것이 L1 / L2 regularization의 이름과 큰 관련이 있다고 하였습니다.\n",
    "\n",
    "L2 regularization에서는 $\\lambda\\sum_{j=1}^{D} \\beta_j^2$ 부분이 핵심 내용이 됩니다.    \n",
    "$\\sum_{j=1}^{D} \\beta_j^2 \\leftarrow $ 이부분이 이전 스텝에서 설명해드린 L2 Norm의 형태와 똑같음을 확인할 수 있습니다"
   ]
  },
  {
   "cell_type": "markdown",
   "id": "761aa808",
   "metadata": {},
   "source": [
    "### L1 / L2 Regularization의 차이점\n",
    "- 노션에 정리"
   ]
  },
  {
   "cell_type": "markdown",
   "id": "adc80e42",
   "metadata": {},
   "source": "![IMG](data/img.png)"
  },
  {
   "cell_type": "code",
   "id": "299af8fe",
   "metadata": {
    "ExecuteTime": {
     "end_time": "2024-05-24T08:40:24.573174Z",
     "start_time": "2024-05-24T08:40:24.568729Z"
    }
   },
   "source": [
    "from sklearn.datasets import load_wine\n",
    "import pandas as pd\n",
    "import numpy as np\n",
    "from sklearn.model_selection import train_test_split\n",
    "from sklearn.metrics import mean_absolute_error, mean_squared_error\n",
    "\n",
    "wine = load_wine()\n",
    "wine_df = pd.DataFrame(data=wine.data, columns=wine.feature_names)\n",
    "target_df = pd.DataFrame(data=wine.target, columns=['Y'])\n",
    "X_train, X_test, y_train, y_test = train_test_split(wine_df, target_df, test_size= 0.3, random_state=101)\n",
    "print('=3')"
   ],
   "execution_count": 17,
   "outputs": []
  },
  {
   "cell_type": "code",
   "id": "cffa398e",
   "metadata": {
    "ExecuteTime": {
     "end_time": "2024-05-24T08:40:24.580819Z",
     "start_time": "2024-05-24T08:40:24.573801Z"
    }
   },
   "source": [
    "from sklearn.linear_model import Lasso\n",
    "\n",
    "L1 = Lasso(alpha=0.05, max_iter=5)\n",
    "L1.fit(X_train, y_train)\n",
    "pred = L1.predict(X_test)\n",
    "\n",
    "print(\"result of Lasso\")\n",
    "print('Mean Absolute Error:', mean_absolute_error(y_test, pred))\n",
    "print('Mean Squared Error:', mean_squared_error(y_test, pred))\n",
    "print('Mean Root Squared Error:', np.sqrt(mean_squared_error(y_test, pred)))\n",
    "\n",
    "print(\"\\n\\n coefficient of Lasso\")\n",
    "print(L1.coef_)"
   ],
   "execution_count": 18,
   "outputs": []
  },
  {
   "cell_type": "code",
   "id": "3cc38adf",
   "metadata": {
    "ExecuteTime": {
     "end_time": "2024-05-24T08:40:24.587767Z",
     "start_time": "2024-05-24T08:40:24.581712Z"
    }
   },
   "source": [
    "# Q. L1 regularization 코드를 참고하여 아래 코드를 채워주세요.\n",
    "\n",
    "from sklearn.linear_model import Ridge\n",
    "\n",
    "L2 = Ridge(alpha=0.05, max_iter=5)\n",
    "L2.fit(X_train, y_train)\n",
    "pred = L2.predict(X_test)\n",
    "\n",
    "print(\"result of Ridge\")\n",
    "print('Mean Absolute Error:', mean_absolute_error(y_test, pred))\n",
    "print('Mean Squared Error:', mean_squared_error(y_test, pred))\n",
    "print('Mean Root Squared Error:', np.sqrt(mean_squared_error(y_test, pred)))\n",
    "\n",
    "print(\"\\n\\n coefficient of Ridge\")\n",
    "print(L2.coef_)"
   ],
   "execution_count": 19,
   "outputs": []
  },
  {
   "cell_type": "markdown",
   "id": "1c25a036",
   "metadata": {},
   "source": [
    "iteration 값을 5로만 설정해 보아도, L2 regularization의 결과는 linear regression과 같은 값이 나오지만, L1 regularization에서는 앞 step과 같은 값을 확인할 수는 없었습니다. 심지어 수렴하지 않았다는 경고까지 나오는군요! 이는 아직 다른 조건들을 만족하는 답을 찾지 못하였다는 뜻입니다.\n",
    "\n",
    "정리하면, L1 regularization은 가중치가 적은 벡터에 해당하는 계수를 0으로 보내면서 차원 축소와 비슷한 역할을 하는 것이 특징이며, L2 regularization은 계수를 0으로 보내지는 않지만 제곱 텀이 있기 때문에 L1 regularization보다는 수렴 속도가 빠르다는 장점이 있습니다. 예를 들어, \n",
    "A=[1,1,1,1,1] , \n",
    "B=[5,0,0,0,0] 의 경우 L1-norm은 같지만, L2-norm은 같지 않습니다. 즉, 제곱 텀에서 결과에 큰 영향을 미치는 값은 더 크게, 결과에 영향이 적은 값들은 더 작게 보내면서 수렴 속도가 빨라지는 것입니다.\n",
    "\n",
    "그러므로, 데이터에 따라 적절한 regularization 방법을 활용하는 것이 좋습니다."
   ]
  },
  {
   "cell_type": "markdown",
   "id": "746fe1e4",
   "metadata": {},
   "source": [
    "## Extra : Lp norm\n",
    "이전 스텝에서 잠깐 소개해드린 Lp norm에 대해 자세히 설명하겠습니다.\n",
    "Norm이라는 용어는 벡터뿐만 아니라 함수, 행렬의 크기를 나타내는 개념으로, 딥러닝을 배우는 과정에서는 주로 벡터, 좀 더 어렵게는 행렬의 norm 정도만 알면 됩니다.\n",
    "\n",
    "### Vector norm\n",
    "L1 / L2 regularization에서 배운 norm은 벡터에서 정의된 norm으로 아래와 같습니다.\n",
    "\n",
    "$$ \\left\\| x\\right\\|_p := (\\sum_{i=1}^{n}\\left| x_i\\right|^p)^{1/p} $$\n",
    "\n",
    "아래 코드에서 \n",
    "p의 값과 \n",
    "x의 형태를 바꾸어가며 실험해 보세요."
   ]
  },
  {
   "cell_type": "code",
   "id": "a3bb8cec",
   "metadata": {
    "ExecuteTime": {
     "end_time": "2024-05-24T08:40:24.590136Z",
     "start_time": "2024-05-24T08:40:24.588493Z"
    }
   },
   "source": [
    "import numpy as np"
   ],
   "execution_count": 20,
   "outputs": []
  },
  {
   "cell_type": "code",
   "id": "3bf4c0a8",
   "metadata": {
    "ExecuteTime": {
     "end_time": "2024-05-24T08:40:24.597365Z",
     "start_time": "2024-05-24T08:40:24.591203Z"
    }
   },
   "source": [
    "# [Playground] x와 p를 바꾸어가며 norm 값이 어떻게 변하는지 실험해봅시다!\n",
    "# --------------------------- #\n",
    "x = np.array([1,10,1,1,1])\n",
    "p = 5\n",
    "# --------------------------- #\n",
    "\n",
    "norm_x = np.linalg.norm(x, ord=p)\n",
    "making_norm = (sum(x**p))**(1/p)\n",
    "print(\"result of numpy package norm function : %0.5f \"%norm_x) \n",
    "print(\"result of making norm : %0.5f \"%making_norm)"
   ],
   "execution_count": 21,
   "outputs": []
  },
  {
   "cell_type": "code",
   "id": "9e854f97",
   "metadata": {
    "ExecuteTime": {
     "end_time": "2024-05-24T08:40:24.603379Z",
     "start_time": "2024-05-24T08:40:24.599247Z"
    }
   },
   "source": [
    "x = np.array([1,10,1,1,1])\n",
    "p = 19\n",
    "\n",
    "norm_x = np.linalg.norm(x, ord=p)\n",
    "making_norm = (sum(x**p))**(1/p)\n",
    "print(\"result of numpy package norm function : %0.5f \"%norm_x) \n",
    "print(\"result of making norm : %0.5f \"%making_norm)"
   ],
   "execution_count": 22,
   "outputs": []
  },
  {
   "cell_type": "code",
   "id": "9fd7e6ee",
   "metadata": {
    "ExecuteTime": {
     "end_time": "2024-05-24T08:40:24.606310Z",
     "start_time": "2024-05-24T08:40:24.604086Z"
    }
   },
   "source": [
    "sum(x**p)"
   ],
   "execution_count": 23,
   "outputs": []
  },
  {
   "cell_type": "code",
   "id": "62c70f18",
   "metadata": {
    "ExecuteTime": {
     "end_time": "2024-05-24T08:40:24.611744Z",
     "start_time": "2024-05-24T08:40:24.606910Z"
    }
   },
   "source": [],
   "execution_count": 23,
   "outputs": []
  },
  {
   "cell_type": "code",
   "id": "04732c00",
   "metadata": {
    "ExecuteTime": {
     "end_time": "2024-05-24T08:40:24.617899Z",
     "start_time": "2024-05-24T08:40:24.615839Z"
    }
   },
   "source": [
    "norm_x = np.linalg.norm(x, ord=np.inf)\n",
    "print(\"result of infinite norm : %0.5f \"%norm_x)"
   ],
   "execution_count": 24,
   "outputs": []
  },
  {
   "cell_type": "markdown",
   "id": "9cad1f24",
   "metadata": {},
   "source": [
    "### Matrix norm\n",
    "행렬의 norm의 경우는 벡터와 조금 다르며, 주로 $p=1,\\infty$ 인 경우만 알면 됩니다.\n",
    "\n",
    "현재 \n",
    "A는 m X n 행렬입니다.\n",
    "\n",
    "$$ \\left\\| x\\right\\|_1 := \\underset{1\\leq j\\leq n }{max}\\sum_{i=1}^{m}\\left| a_{ij}\\right| $$\n",
    "\n",
    "$$ \\left\\| x\\right\\|_\\infty := \\underset{1\\leq j\\leq m }{max}\\sum_{j=1}^{n}\\left| a_{ij}\\right| $$\n",
    "\n",
    "p=1인 경우에는 컬럼(column)의 합이 가장 큰 값이 출력되고, \n",
    "$p=\\infty$인 경우에는 로우(row)의 합이 가장 큰 값이 출력됩니다."
   ]
  },
  {
   "cell_type": "code",
   "id": "a7ab0dc6",
   "metadata": {
    "ExecuteTime": {
     "end_time": "2024-05-24T08:40:24.620762Z",
     "start_time": "2024-05-24T08:40:24.618554Z"
    }
   },
   "source": [
    "A = np.array([[1,2,3], [1,2,3], [4,6,8]])\n",
    "\n",
    "one_norm_A = np.linalg.norm(A, ord=1)\n",
    "print(\"result one norm of A :\", one_norm_A)\n",
    "\n",
    "inf_norm_A = np.linalg.norm(A, ord=np.inf)\n",
    "print(\"result inf norm of A :\", inf_norm_A)"
   ],
   "execution_count": 25,
   "outputs": []
  },
  {
   "cell_type": "markdown",
   "id": "0201ebd7",
   "metadata": {},
   "source": [
    "## Dropout\n",
    "드롭아웃(Dropout) 기법은 2014년도에 나온 논문입니다.\n",
    "\n",
    "    논문 제목 : Dropout: A Simple Way to Prevent Neural Networks from Overfitting\n",
    "    논문 발표 시점 : 2014년\n",
    "    논문 링크 : https://jmlr.org/papers/v15/srivastava14a.html\n",
    "\n",
    "드롭아웃 기법이 나오기 전의 신경망은 fully connected architecture로 모든 뉴런들이 연결되어 있었습니다.\n",
    "\n",
    "드롭아웃이란 확률적으로 랜덤하게 몇 가지의 뉴런만 선택하여 정보를 전달하는 과정입니다. 이름 그대로 몇 가지의 값들을 모든 뉴런에 전달하는 것이 아닌, 확률적으로 버리면서 전달하는 기법입니다. 드롭아웃은 오버피팅을 막는 regularization layer 중 하나입니다. 확률을 너무 높이면 (비활성화된 뉴런의 비중을 높이면) 모델 안에서 값들이 제대로 전달되지 않으므로 학습이 잘 되지 않고, 확률을 너무 낮추는 경우에는 fully connected layer와 같이 동작합니다. fully connected layer에서 오버피팅이 생기는 경우에 주로 dropout layer를 추가합니다.\n",
    "\n",
    "코드는 간단합니다. 논문이 나온 지도 오래되었기 때문에, 여러 프레임워크에서 간단하게 구현할 수 있도록 되어있습니다.\n",
    "\n",
    "- https://keras.io/api/layers/regularization_layers/dropout/"
   ]
  },
  {
   "cell_type": "markdown",
   "id": "eb32fe35",
   "metadata": {},
   "source": [
    "### 실습 (not overfitting)\n",
    "\n",
    "fashion mnist라는 데이터 셋을 불러와서 학습을 시키도록 하겠습니다. 이 데이터셋은 총 10개의 클래스로 구성되어 있고, 데이터가 간단한 편이기도 하여 5 epoch 정도만 학습시켜도 어느 정도 결과가 나옵니다. 드롭아웃 레이어를 중간에 추가하여 확률을 1에 가깝게 주면 어떻게 되는지 살펴보도록 하겠습니다."
   ]
  },
  {
   "cell_type": "code",
   "id": "3bb9a99a",
   "metadata": {
    "ExecuteTime": {
     "end_time": "2024-05-24T08:40:28.181690Z",
     "start_time": "2024-05-24T08:40:24.621679Z"
    }
   },
   "source": [
    "import tensorflow as tf\n",
    "from tensorflow import keras\n",
    "import numpy as np\n",
    "import matplotlib.pyplot as plt\n",
    "from sklearn.model_selection import train_test_split\n",
    "\n",
    "fashion_mnist = keras.datasets.fashion_mnist\n",
    "print('=3')"
   ],
   "execution_count": 26,
   "outputs": []
  },
  {
   "cell_type": "code",
   "id": "4595d0f1",
   "metadata": {
    "ExecuteTime": {
     "end_time": "2024-05-24T08:40:28.540938Z",
     "start_time": "2024-05-24T08:40:28.182598Z"
    }
   },
   "source": [
    "(train_images, train_labels), (test_images, test_labels) = fashion_mnist.load_data()\n",
    "class_names = ['T-shirt/top', 'Trouser', 'Pullover', 'Dress', 'Coat',\n",
    "               'Sandal', 'Shirt', 'Sneaker', 'Bag', 'Ankle boot']\n",
    "\n",
    "train_images = train_images / 255.0\n",
    "test_images = test_images / 255.0"
   ],
   "execution_count": 27,
   "outputs": []
  },
  {
   "cell_type": "code",
   "id": "8ce88ab8",
   "metadata": {
    "ExecuteTime": {
     "end_time": "2024-05-24T08:41:21.822147Z",
     "start_time": "2024-05-24T08:40:28.541977Z"
    }
   },
   "source": [
    "model = keras.Sequential([\n",
    "    keras.layers.Flatten(input_shape=(28, 28)),\n",
    "    keras.layers.Dense(128, activation='relu'),\n",
    "    # 여기에 dropout layer를 추가해보았습니다. 나머지 layer는 아래의 실습과 같습니다.\n",
    "    keras.layers.Dropout(0.9),\n",
    "    keras.layers.Dense(10, activation='softmax')\n",
    "])\n",
    "\n",
    "model.compile(optimizer='adam',loss='sparse_categorical_crossentropy',\n",
    "              metrics=['accuracy'])\n",
    "\n",
    "history= model.fit(train_images, train_labels, epochs=5)"
   ],
   "execution_count": 28,
   "outputs": []
  },
  {
   "cell_type": "markdown",
   "id": "7c6ac737",
   "metadata": {},
   "source": [
    "dropout이 없을 때 실습을 해보면, 5 epoch 정도만 돌려도 충분히 높은 정확도를 볼 수 있습니다."
   ]
  },
  {
   "cell_type": "code",
   "id": "7fa70bf1",
   "metadata": {
    "ExecuteTime": {
     "end_time": "2024-05-24T08:42:08.244714Z",
     "start_time": "2024-05-24T08:41:21.823956Z"
    }
   },
   "source": [
    "model = keras.Sequential([\n",
    "    keras.layers.Flatten(input_shape=(28, 28)),\n",
    "    # 이번에는 dropout layer가 없습니다. \n",
    "    keras.layers.Dense(128, activation='relu'),\n",
    "    keras.layers.Dense(10, activation='softmax')\n",
    "])\n",
    "\n",
    "model.compile(optimizer='adam',loss='sparse_categorical_crossentropy',\n",
    "              metrics=['accuracy'])\n",
    "\n",
    "history = model.fit(train_images, train_labels, epochs=5)"
   ],
   "execution_count": 29,
   "outputs": []
  },
  {
   "cell_type": "markdown",
   "id": "6ab35fc2",
   "metadata": {},
   "source": [
    "현재 이 데이터 셋은 학습이 잘 되는 데이터 셋으로, fully connected layer에서도 결과가 잘 나옴을 확인할 수 있는데요. 일부러 중간에 dropout layer를 추가하여 0.9의 확률 값을 주니 학습이 안 됨을 확인하였습니다. 다음은 overfitting이 나는 환경에서 dropout의 중요성을 알아보도록 하겠습니다.\n",
    "\n",
    "### 실습 (overfitting)\n",
    "overfitting이 되는지 확인해 보려면 train set과 validation set의 loss function을 그려보는 것이 가장 첫 번째 시도입니다. 우리는 위의 데이터를 이제 train:valid=99:1의 비율로 나눈 뒤에 loss function의 값을 그려보고, overfitting이 생기는 fully connected layer를 만들어보도록 합시다. overfitting이 되게 하기 위해 의도적으로 train set을 99%로 늘리고 validation set을 줄였습니다.\n",
    "\n",
    "\n",
    ">### 학습팁    \n",
    "> 아래 코드는 200 epoch이므로 코드가 돌아가는데 5분이상 소요됩니다. 그동안 overfitting에 대한 자료를 찾아보면서 기다려주세요!"
   ]
  },
  {
   "cell_type": "code",
   "id": "39011d09",
   "metadata": {
    "ExecuteTime": {
     "end_time": "2024-05-24T08:45:03.219041Z",
     "start_time": "2024-05-24T08:42:08.246283Z"
    }
   },
   "source": [
    "X_train, X_valid, y_train, y_valid = train_test_split(train_images, train_labels, test_size=0.01, random_state=101)\n",
    "X_train = X_train / 255.0\n",
    "X_valid = X_valid / 255.0\n",
    "\n",
    "# Dense layer만으로 만들어 낸 classification 모델입니다.\n",
    "model = keras.Sequential([\n",
    "    keras.layers.Flatten(input_shape=(28, 28)),\n",
    "    keras.layers.Dense(256, activation='relu'),\n",
    "    keras.layers.Dense(10, activation='softmax')\n",
    "])\n",
    "\n",
    "model.compile(optimizer='adam',loss='sparse_categorical_crossentropy',\n",
    "              metrics=['accuracy'])\n",
    "\n",
    "history = model.fit(X_train, y_train, epochs=200, batch_size=512, validation_data=(X_valid, y_valid))"
   ],
   "execution_count": 30,
   "outputs": []
  },
  {
   "cell_type": "code",
   "id": "8ad35aa5",
   "metadata": {
    "ExecuteTime": {
     "end_time": "2024-05-24T08:45:03.403374Z",
     "start_time": "2024-05-24T08:45:03.221726Z"
    }
   },
   "source": [
    "# loss 값을 plot 해보겠습니다.\n",
    "y_vloss = history.history['val_loss']\n",
    "y_loss = history.history['loss']\n",
    "x_len = np.arange(len(y_loss))\n",
    "\n",
    "plt.plot(x_len, y_vloss, marker='.', c='red', label=\"Validation-set Loss\")\n",
    "plt.plot(x_len, y_loss, marker='.', c='blue', label=\"Train-set Loss\")\n",
    "plt.legend(loc='upper right')\n",
    "plt.grid()\n",
    "plt.title('Loss graph without dropout layer') \n",
    "plt.ylim(0,1)\n",
    "plt.xlabel('epoch')\n",
    "plt.ylabel('loss')\n",
    "plt.show()"
   ],
   "execution_count": 31,
   "outputs": []
  },
  {
   "cell_type": "code",
   "id": "c97b900b",
   "metadata": {
    "ExecuteTime": {
     "end_time": "2024-05-24T08:45:03.534848Z",
     "start_time": "2024-05-24T08:45:03.408798Z"
    }
   },
   "source": [
    "# accuracy 값을 plot 해보겠습니다.\n",
    "y_vacc = history.history['val_accuracy']\n",
    "y_acc = history.history['accuracy']\n",
    "x_len = np.arange(len(y_acc))\n",
    "\n",
    "plt.plot(x_len, y_vacc, marker='.', c='red', label=\"Validation-set accuracy\")\n",
    "plt.plot(x_len, y_acc, marker='.', c='blue', label=\"Train-set accuracy\")\n",
    "plt.legend(loc='lower right')\n",
    "plt.grid()\n",
    "plt.ylim(0.5,1) \n",
    "plt.title('Accuracy graph without dropout layer') \n",
    "plt.xlabel('epoch')\n",
    "plt.ylabel('accuracy')\n",
    "plt.show()"
   ],
   "execution_count": 32,
   "outputs": []
  },
  {
   "cell_type": "markdown",
   "id": "ec9d664d",
   "metadata": {},
   "source": [
    "dropout layer가 없는 fully connected layer에서 200번 정도의 학습을 하니 train set의 accuracy는 올라가고, loss는 점점 떨어졌습니다. 그러나 validation set의 accuracy와 loss는 어느 정도 값에서 수렴함을 볼 수 있었습니다.\n",
    "이렇게 오버피팅을 만든 환경에서 dropout layer를 추가한 뒤 나머지 환경은 같게 한 실험을 살펴보도록 하겠습니다."
   ]
  },
  {
   "cell_type": "code",
   "id": "1b3dac19",
   "metadata": {
    "ExecuteTime": {
     "end_time": "2024-05-24T08:48:06.571580Z",
     "start_time": "2024-05-24T08:45:03.536475Z"
    }
   },
   "source": [
    "# Q. dropout layer를 추가해보세요. (dropout 확률은 0.5로 지정해주세요.)\n",
    "\n",
    "model = keras.Sequential([\n",
    "    keras.layers.Flatten(input_shape=(28, 28)),\n",
    "    keras.layers.Dense(256, activation='relu'),\n",
    "    # 여기에 dropout layer를 추가해보았습니다. 나머지 layer는 위의 실습과 같습니다. \n",
    "    keras.layers.Dropout(0.5),\n",
    "    keras.layers.Dense(10, activation='softmax')\n",
    "])\n",
    "\n",
    "model.compile(optimizer='adam',loss='sparse_categorical_crossentropy',\n",
    "              metrics=['accuracy'])\n",
    "\n",
    "history = model.fit(X_train, y_train, epochs=200, batch_size=512, validation_data=(X_valid, y_valid))"
   ],
   "execution_count": 33,
   "outputs": []
  },
  {
   "cell_type": "code",
   "id": "0445845f",
   "metadata": {
    "ExecuteTime": {
     "end_time": "2024-05-24T08:48:06.712780Z",
     "start_time": "2024-05-24T08:48:06.572850Z"
    }
   },
   "source": [
    "# Q. loss 값의 그래프를 그려봅시다.\n",
    "y_vloss = history.history['val_loss']\n",
    "y_loss = history.history['loss']\n",
    "x_len = np.arange(len(y_loss))\n",
    "\n",
    "plt.plot(x_len, y_vloss, marker='.', c='red', label=\"Validation-set Loss\")\n",
    "plt.plot(x_len, y_loss, marker='.', c='blue', label=\"Train-set Loss\")\n",
    "plt.legend(loc='upper right')\n",
    "plt.grid()\n",
    "plt.ylim(0,1)\n",
    "plt.title('Loss graph with dropout layer') \n",
    "plt.xlabel('epoch')\n",
    "plt.ylabel('loss')\n",
    "plt.show()"
   ],
   "execution_count": 34,
   "outputs": []
  },
  {
   "cell_type": "code",
   "id": "014e5992",
   "metadata": {
    "ExecuteTime": {
     "end_time": "2024-05-24T08:48:06.826057Z",
     "start_time": "2024-05-24T08:48:06.713542Z"
    }
   },
   "source": [
    "# Q. accuracy 값의 그래프를 그려봅시다. \n",
    "y_vacc = history.history['val_accuracy']\n",
    "y_acc = history.history['accuracy']\n",
    "x_len = np.arange(len(y_acc))\n",
    "\n",
    "plt.plot(x_len, y_vacc, marker='.', c='red', label=\"Validation-set accuracy\")\n",
    "plt.plot(x_len, y_acc, marker='.', c='blue', label=\"Train-set accuracy\")\n",
    "plt.legend(loc='lower right')\n",
    "plt.grid()\n",
    "plt.ylim(0.5,1) \n",
    "plt.title('Accuracy graph with dropout layer') \n",
    "plt.xlabel('epoch')\n",
    "plt.ylabel('accuracy')\n",
    "plt.show()"
   ],
   "execution_count": 35,
   "outputs": []
  },
  {
   "cell_type": "markdown",
   "id": "4e6badfd",
   "metadata": {},
   "source": [
    "좋은 데이터를 가지고 오버피팅을 만드는 환경이 조금 어렵긴 했지만, dropout layer 하나만으로도 오버피팅을 막고, 두 데이터 셋이 정확도도 비슷하게 나옴을 확인하였습니다. 사실 더 복잡한 네트워크나, 더 어려운 데이터의 경우에는 이러한 오버피팅이 더 자주 있는 일이므로, dropout layer를 추가하는 경우가 많습니다. 하지만 이 또한 확률 값이 파라미터로 들어가므로, 어떠한 값을 선택하느냐는 데이터와 네트워크에 따라 달린 일입니다.\n",
    "\n"
   ]
  },
  {
   "cell_type": "markdown",
   "id": "8b43b9aa",
   "metadata": {},
   "source": [
    "## Batch Normalization\n",
    "\n",
    "    논문 제목 : Batch Normalization: Accelerating Deep Network Training by Reducing Internal Covariate Shift\n",
    "    논문 발표 시점 : 2015년\n",
    "    논문 링크 : 논문 PDF\n",
    "        \n",
    "(__batch normalization__과 internal covariate shift가 연관성이 없다는 반론도 있기 때문에, \"이런 이야기도 있구나~\" 하고 받아들이시면 됩니다.)\n",
    "\n",
    "딥러닝에서 경사 하강법(gradient descent)으로 모델의 가중치를 업데이트할 때, 데이터셋 전체를 본 다음 업데이트하는 'Batch Gradient Descent'와 데이터 하나를 관찰할 때마다 업데이트하는 'Stochastic Gradient Descent' 방법이 있었죠. 이 둘의 절충안이 바로 데이터셋을 여러 개의 mini-batch로 쪼갠 다음 하나의 batch를 처리할 때마다 가중치를 업데이트하는 'Mini-batch Gradient Descent'입니다. 데이터셋을 mini-batch로 쪼개는 방법은 학습 속도와 안정성 모두를 잡았지만, 딥러닝 모델 안에서 데이터가 처리되면서 여러 개의 mini-batch들 사이에 데이터 분포의 차이가 생길 수 있다는 문제가 있었습니다. (이것이 internal covariate shift를 대략적으로 설명한 부분입니다.)\n",
    "\n",
    "데이터 분포의 차이가 존재한다면 gradient 값의 차이도 있을 것이고, 같은 learning rate 값을 가지고 있더라도 gradient vanishing이나 gradient explode 문제가 생길 수 있습니다. batch normalization 기법은 각 mini-batch마다 평균과 분산을 계산하여 정규화(normalization)를 수행하고, `scale and shift` 변환을 적용하여 mini-batch들이 비슷한 데이터 분포를 가지도록 합니다.\n",
    "\n",
    "논문에서 설명한 알고리즘을 아래에 적어보도록 하겠습니다.\n",
    "\n",
    "Input: Values of x over a mini-batch: \n",
    "$B = \\{ x_i, ..., x_m \\}$  Parameters to be learned: $\\gamma,\\beta$\n",
    "\n",
    "Output: \n",
    "$\\{y_i = BN_{\\gamma,\\beta} (x_i)\\}$\n",
    "\n",
    "1. mini-batch mean :\n",
    "$$\\mu_B \\leftarrow \\frac{1}{m}\\sum_{i=1}^{m} x_i$$\n",
    "\n",
    "2. mini-batch variance :\n",
    "$$ \\sigma_B^2 \\leftarrow \\frac{1}{m}\\sum_{i=1}^{m} (x_i - \\mu_B)^2 $$\n",
    "\n",
    "3. normalize :\n",
    "$$ \\hat x_i \\leftarrow \\frac{x_i - \\mu_B}{sqrt(\\sigma_B^2 + \\epsilon)} $$\n",
    "\n",
    "4. scale and shift :\n",
    "$$ y_i \\leftarrow \\gamma \\hat{x_i} + \\beta \\equiv BN_{\\gamma, \\beta}(x_i) $$\n",
    "\n",
    "위 수식을 풀어서 설명해 드리면 batch normalization은 mini-batch의 평균과 분산을 구해서 입력 데이터를 정규화(normalize)하고, 이 값에 scale($\\gamma$)과 shift($\\beta$)를 추가한 것입니다. 결국 입력 데이터($x_i$)는 batch normalization을 거쳐 $y_i(=\\gamma \\hat{x_i} + \\beta)$이 됩니다.\n",
    "\n",
    "- 중간에 $\\epsilon$이 붙은 이유는 분산($\\sigma_B^2$)이 0일 경우 나눗셈 오류가 발생하는 것을 방지하기 위함입니다.\n",
    "- $\\gamma$와 $\\beta$ 값은 학습 파라미터로 모델 학습이 진행되면서 가중치와 함께 업데이트됩니다."
   ]
  },
  {
   "cell_type": "markdown",
   "id": "208d1732",
   "metadata": {},
   "source": [
    "### 실습\n",
    "아무것도 하지 않은 fully connected layer와 batch normalization layer를 추가한 두 실험을 비교하고자 합니다. 중점적으로 봐야 할 내용은 정확도 비교와 속도의 차이입니다."
   ]
  },
  {
   "cell_type": "code",
   "id": "828c0ef3",
   "metadata": {
    "ExecuteTime": {
     "end_time": "2024-05-24T08:48:06.830328Z",
     "start_time": "2024-05-24T08:48:06.826922Z"
    }
   },
   "source": [
    "import tensorflow as tf\n",
    "from tensorflow import keras\n",
    "import numpy as np\n",
    "import matplotlib.pyplot as plt\n",
    "\n",
    "fashion_mnist = keras.datasets.fashion_mnist\n",
    "print('=3')"
   ],
   "execution_count": 36,
   "outputs": []
  },
  {
   "cell_type": "code",
   "id": "952ded43",
   "metadata": {
    "ExecuteTime": {
     "end_time": "2024-05-24T08:48:07.304286Z",
     "start_time": "2024-05-24T08:48:06.830929Z"
    }
   },
   "source": [
    "(train_images, train_labels), (test_images, test_labels) = fashion_mnist.load_data()\n",
    "class_names = ['T-shirt/top', 'Trouser', 'Pullover', 'Dress', 'Coat',\n",
    "               'Sandal', 'Shirt', 'Sneaker', 'Bag', 'Ankle boot']\n",
    "\n",
    "train_images = train_images / 255.0\n",
    "test_images = test_images / 255.0"
   ],
   "execution_count": 37,
   "outputs": []
  },
  {
   "cell_type": "code",
   "id": "881cdc40",
   "metadata": {
    "ExecuteTime": {
     "end_time": "2024-05-24T08:48:13.608045Z",
     "start_time": "2024-05-24T08:48:07.306851Z"
    }
   },
   "source": [
    "from sklearn.model_selection import train_test_split\n",
    "\n",
    "X_train, X_valid, y_train, y_valid = train_test_split(train_images, train_labels, test_size=0.3, random_state=101)\n",
    "\n",
    "model = keras.Sequential([\n",
    "    keras.layers.Flatten(input_shape=(28, 28)),\n",
    "    keras.layers.Dense(128, activation='relu'),\n",
    "    keras.layers.Dense(10, activation='softmax')\n",
    "])\n",
    "\n",
    "model.compile(optimizer='adam',loss='sparse_categorical_crossentropy',\n",
    "              metrics=['accuracy'])\n",
    "\n",
    "history= model.fit(X_train, y_train, epochs=20, batch_size=2048, validation_data=(X_valid, y_valid))"
   ],
   "execution_count": 38,
   "outputs": []
  },
  {
   "cell_type": "code",
   "id": "369a5858",
   "metadata": {
    "ExecuteTime": {
     "end_time": "2024-05-24T08:48:13.716759Z",
     "start_time": "2024-05-24T08:48:13.608931Z"
    }
   },
   "source": [
    "# loss 값을 plot 해보겠습니다. \n",
    "y_vloss = history.history['val_loss']\n",
    "y_loss = history.history['loss']\n",
    "x_len = np.arange(len(y_loss))\n",
    "\n",
    "plt.plot(x_len, y_vloss, marker='.', c='red', label=\"Validation-set Loss\")\n",
    "plt.plot(x_len, y_loss, marker='.', c='blue', label=\"Train-set Loss\")\n",
    "plt.legend(loc='upper right')\n",
    "plt.grid()\n",
    "plt.ylim(0,1)\n",
    "plt.title('Loss graph without batch normalization') \n",
    "plt.xlabel('epoch')\n",
    "plt.ylabel('loss')\n",
    "plt.show()"
   ],
   "execution_count": 39,
   "outputs": []
  },
  {
   "cell_type": "code",
   "id": "884dc6d1",
   "metadata": {
    "ExecuteTime": {
     "end_time": "2024-05-24T08:48:13.835155Z",
     "start_time": "2024-05-24T08:48:13.717746Z"
    }
   },
   "source": [
    "# accuracy 값을 plot 해보겠습니다. \n",
    "y_vacc = history.history['val_accuracy']\n",
    "y_acc = history.history['accuracy']\n",
    "x_len = np.arange(len(y_acc))\n",
    "\n",
    "plt.plot(x_len, y_vacc, marker='.', c='red', label=\"Validation-set accuracy\")\n",
    "plt.plot(x_len, y_acc, marker='.', c='blue', label=\"Train-set accuracy\")\n",
    "plt.legend(loc='lower right')\n",
    "plt.grid()\n",
    "plt.ylim(0.5,1)\n",
    "plt.title('Accuracy graph without batch normalization') \n",
    "plt.xlabel('epoch')\n",
    "plt.ylabel('accuracy')\n",
    "plt.show()"
   ],
   "execution_count": 40,
   "outputs": []
  },
  {
   "cell_type": "markdown",
   "id": "617a4879",
   "metadata": {},
   "source": [
    "아래는 BatchNormalization layer를 추가한 실습입니다."
   ]
  },
  {
   "cell_type": "code",
   "id": "4f93954b",
   "metadata": {
    "ExecuteTime": {
     "end_time": "2024-05-24T08:48:21.321582Z",
     "start_time": "2024-05-24T08:48:13.835948Z"
    }
   },
   "source": [
    "# Q. 두 개의 dense layer 사이에 batch normalization layer를 추가하는 코드입니다.\n",
    "\n",
    "model = keras.Sequential([\n",
    "    keras.layers.Flatten(input_shape=(28, 28)),\n",
    "    keras.layers.Dense(128, activation='relu'),\n",
    "    # 여기에 batch normalization layer를 추가해보았습니다. 나머지 layer는 위의 실습과 같습니다.\n",
    "    keras.layers.BatchNormalization(),\n",
    "    keras.layers.Dense(10, activation='softmax')\n",
    "])\n",
    "\n",
    "model.compile(optimizer='adam',loss='sparse_categorical_crossentropy',\n",
    "              metrics=['accuracy'])\n",
    "\n",
    "history= model.fit(X_train, y_train, epochs=20, batch_size=2048, validation_data=(X_valid, y_valid))"
   ],
   "execution_count": 41,
   "outputs": []
  },
  {
   "cell_type": "code",
   "id": "27c156d2",
   "metadata": {
    "ExecuteTime": {
     "end_time": "2024-05-24T08:56:34.556047Z",
     "start_time": "2024-05-24T08:56:34.376380Z"
    }
   },
   "source": [
    "# loss 값을 plot 해보겠습니다. \n",
    "y_vloss = history.history['val_loss']\n",
    "y_loss = history.history['loss']\n",
    "x_len = np.arange(len(y_loss))\n",
    "\n",
    "plt.plot(x_len, y_vloss, marker='.', c='red', label=\"Validation-set Loss\")\n",
    "plt.plot(x_len, y_loss, marker='.', c='blue', label=\"Train-set Loss\")\n",
    "plt.legend(loc='upper right')\n",
    "plt.grid()\n",
    "plt.ylim(0,1)\n",
    "plt.title('Loss graph without batch normalization') \n",
    "plt.xlabel('epoch')\n",
    "plt.ylabel('loss')\n",
    "plt.show()"
   ],
   "execution_count": 42,
   "outputs": []
  },
  {
   "metadata": {
    "ExecuteTime": {
     "end_time": "2024-05-24T08:57:04.598051Z",
     "start_time": "2024-05-24T08:57:04.467068Z"
    }
   },
   "cell_type": "code",
   "source": [
    "# accuracy 값을 plot 해보겠습니다. \n",
    "y_vacc = history.history['val_accuracy']\n",
    "y_acc = history.history['accuracy']\n",
    "x_len = np.arange(len(y_acc))\n",
    "\n",
    "plt.plot(x_len, y_vacc, marker='.', c='red', label=\"Validation-set accuracy\")\n",
    "plt.plot(x_len, y_acc, marker='.', c='blue', label=\"Train-set accuracy\")\n",
    "plt.legend(loc='lower right')\n",
    "plt.grid()\n",
    "plt.ylim(0.5,1)\n",
    "plt.title('Accuracy graph without batch normalization') \n",
    "plt.xlabel('epoch')\n",
    "plt.ylabel('accuracy')\n",
    "plt.show()"
   ],
   "id": "71552c52ada33dc3",
   "execution_count": 43,
   "outputs": []
  },
  {
   "metadata": {},
   "cell_type": "markdown",
   "source": [
    "## Q. L1 regularization과 L2 regularization의 공통점과 차이점은 무엇이었나요?\n",
    "[공통점]\n",
    "두 방법 모두 Lp norm 개념을 사용하고 있고, 오버피팅이 발생하지 않도록 모델에 제약 조건을 걸어줍니다.\n",
    "\n",
    "[차이점]\n",
    "L1 regularization(Lasso)은 L1 norm을 사용하며, 일부 coefficient 값을 0으로 보내기 때문에 차원 축소와 비슷한 역할을 합니다.\n",
    "L2 regularization(Ridge)은 L2 norm을 사용하며, 계수를 0으로 보내지는 않지만 제곱 항이 있기 때문에 L1 regularization보다는 수렴 속도가 빠르다는 장점이 있습니다."
   ],
   "id": "1b31b182abe10ce0"
  }
 ],
 "metadata": {
  "kernelspec": {
   "display_name": "Python 3 (ipykernel)",
   "language": "python",
   "name": "python3"
  },
  "language_info": {
   "codemirror_mode": {
    "name": "ipython",
    "version": 3
   },
   "file_extension": ".py",
   "mimetype": "text/x-python",
   "name": "python",
   "nbconvert_exporter": "python",
   "pygments_lexer": "ipython3",
   "version": "3.9.7"
  }
 },
 "nbformat": 4,
 "nbformat_minor": 5
}
